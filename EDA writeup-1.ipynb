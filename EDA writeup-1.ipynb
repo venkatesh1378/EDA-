{
 "cells": [
  {
   "cell_type": "markdown",
   "id": "a6cd8dbf-cf47-490b-a5e6-d630a209ee87",
   "metadata": {},
   "source": [
    " **pandas**"
   ]
  },
  {
   "cell_type": "markdown",
   "id": "c639ce45-ce5d-4ae1-8a05-7fe22cafff62",
   "metadata": {},
   "source": [
    "\n",
    "- pandas is a library which is used to work on large datasets\n",
    "- It has functions for analyzing, cleaning, exploring, and manipulating data.\n",
    "- The pandas module works mainly on tabular data\n",
    "-  Most widely used data structures in pandas are\n",
    "   - Series   --------1D\n",
    "   - DataFrame----------2D\n",
    "   - Panel -----------------3D\n"
   ]
  },
  {
   "cell_type": "markdown",
   "id": "b9cc84ff-7593-446a-b992-0d186d8706ff",
   "metadata": {},
   "source": [
    "**Series**"
   ]
  },
  {
   "cell_type": "markdown",
   "id": "25f97bb9-b685-473d-828b-dc4ab6e51182",
   "metadata": {},
   "source": [
    "- it is a 1 dimensional data structure\n",
    "- Series is a related to the  single column of data  "
   ]
  },
  {
   "cell_type": "markdown",
   "id": "4511e543-80b0-49dd-9de3-e52cac61f5e8",
   "metadata": {},
   "source": [
    "**DataFrame**"
   ]
  },
  {
   "cell_type": "markdown",
   "id": "cce561f9-6ae2-419d-97ed-01b97c8a58e0",
   "metadata": {},
   "source": [
    "- it is a 2  dimensional data structure\n",
    "- DataFrame is a  similar to sheet with a rows and columns "
   ]
  },
  {
   "cell_type": "markdown",
   "id": "bcc05661-f1e9-4412-b53f-f1184c00b7b8",
   "metadata": {},
   "source": [
    "**Panel**"
   ]
  },
  {
   "cell_type": "markdown",
   "id": "526d7c4e-d438-4230-8e27-8eb47b65f300",
   "metadata": {},
   "source": [
    "- it is a 3 dimensional data structure\n",
    "- Panel can have many DataFrames"
   ]
  },
  {
   "cell_type": "markdown",
   "id": "015064e6-d50a-44b3-acd1-d0538a225f92",
   "metadata": {},
   "source": [
    "**Why Use Pandas**\n"
   ]
  },
  {
   "cell_type": "markdown",
   "id": "9fa6a540-aec6-4d15-ac5d-b2bbdd18b419",
   "metadata": {},
   "source": [
    "- Pandas allows us to analyze big data and make conclusions based on statistical theories.\n",
    "- Pandas can clean messy data sets, and make them readable and relevant.\n",
    "- Relevant data is very important in data science.\n"
   ]
  },
  {
   "cell_type": "markdown",
   "id": "8d33b95f-68a8-415d-bcb0-7c4a31260687",
   "metadata": {},
   "source": [
    "**What can pandas do**\n"
   ]
  },
  {
   "cell_type": "markdown",
   "id": "231a7857-4aff-4012-a317-458a948df4e6",
   "metadata": {},
   "source": [
    "- Pandas gives you answers about the data. Like:\n",
    "- Is there a correlation between two or more columns?\n",
    "- What is average value?\n",
    "- Max value?\n",
    "- Min value?\n",
    "- Pandas are also able to delete rows that are not relevant, or contains wrong values, like empty or NULL values. This is called cleaning the data.\n",
    "\u000b",
    "\n"
   ]
  },
  {
   "cell_type": "markdown",
   "id": "492481ef-1fe9-4d02-af66-aa82082f14e2",
   "metadata": {},
   "source": [
    "**Pandas installation**"
   ]
  },
  {
   "cell_type": "markdown",
   "id": "9fe66cbd-b864-4357-8ef7-0c6a65a21f77",
   "metadata": {},
   "source": [
    "- go to command prompt and type the command as follows\n",
    "- pip install pandas"
   ]
  },
  {
   "cell_type": "markdown",
   "id": "7ab23c66-a28e-42ef-8a9e-59c355147a1b",
   "metadata": {},
   "source": [
    "**checking whether pandas is existing or not in your sysyem**"
   ]
  },
  {
   "cell_type": "markdown",
   "id": "845b7b41-a8f0-4e33-b4fe-8186e6ee7fa4",
   "metadata": {},
   "source": [
    "- open jupyter notebook\n",
    "- type  import pandas \n",
    "- if we run if it is present it will return nothing\n",
    "- if pandas is not present it will raise modulenotfound error"
   ]
  },
  {
   "cell_type": "markdown",
   "id": "e7b13de3-8ef1-40d6-8a87-b2151c7e1bf3",
   "metadata": {},
   "source": [
    "**version**"
   ]
  },
  {
   "cell_type": "code",
   "execution_count": 4,
   "id": "cafbe943-7ba1-47f5-aa85-3b562ce86269",
   "metadata": {},
   "outputs": [
    {
     "data": {
      "text/plain": [
       "'2.1.0'"
      ]
     },
     "execution_count": 4,
     "metadata": {},
     "output_type": "execute_result"
    }
   ],
   "source": [
    "import pandas\n",
    "pandas.__version__"
   ]
  },
  {
   "cell_type": "markdown",
   "id": "0d8aa47c-7171-46ae-aa41-b02868f80b4d",
   "metadata": {},
   "source": [
    "**Dataset**"
   ]
  },
  {
   "cell_type": "markdown",
   "id": "96a24456-4995-4c0b-8e21-17404b68fa1f",
   "metadata": {},
   "source": [
    "- as we know that  pandas are  mostly work on the datasets\n",
    "- **dataset:** A Dataset is a set of data grouped into a collection with which developers can work to meet their goals. In a dataset, the rows represent     the number of data points and the columns represent the features of the Dataset.\n",
    "- dataset as a collection of data that is treated as a single unit by a computer.\n",
    "- Datasets can be stored in multiple formats. The most common ones are CSV, Excel, JSON, and zip files for large datasets such as image datasets.\n",
    "- types\n",
    "   - Numerical Dataset\n",
    "   - Categorical Dataset\n",
    "   - image dataset\n",
    "   - File based datasets"
   ]
  },
  {
   "cell_type": "markdown",
   "id": "34da7186-67e8-4567-bf5a-1d50cd39f09f",
   "metadata": {},
   "source": [
    "**BANK DATASET**"
   ]
  },
  {
   "cell_type": "markdown",
   "id": "04c7d056-7b1d-4c00-a098-7ac87c56162d",
   "metadata": {},
   "source": [
    "- i am taken bank dataset from the kaggle website\n",
    "- you can get various datasets from www.Kaggle.com website\n",
    "- i am downloaded the data set and stored in local\n",
    "\n"
   ]
  },
  {
   "cell_type": "code",
   "execution_count": 6,
   "id": "06235ba7-9f54-4f41-ae81-7b25cf855fb6",
   "metadata": {},
   "outputs": [],
   "source": [
    "import pandas as pd # pd is aliasing name we can take any name as aliasing one\n"
   ]
  },
  {
   "cell_type": "markdown",
   "id": "652bff92-55b1-416d-abe8-5b09f92236dd",
   "metadata": {},
   "source": [
    "**reading the data from the dataset**"
   ]
  },
  {
   "cell_type": "markdown",
   "id": "b446327a-e2fc-4f91-a640-9a7ead0126cb",
   "metadata": {},
   "source": [
    "- in pandas we have methods to read the datasets\n",
    "- read_csv(file_path)  #for csv files\n",
    "- read_excel(flie_path) # for excel files\n",
    "- file_path is nothing both location of your dataset in local system\n",
    " "
   ]
  },
  {
   "cell_type": "code",
   "execution_count": 7,
   "id": "c5c1da4d-05cc-4820-aa78-69b67e5f5433",
   "metadata": {},
   "outputs": [
    {
     "data": {
      "text/html": [
       "<div>\n",
       "<style scoped>\n",
       "    .dataframe tbody tr th:only-of-type {\n",
       "        vertical-align: middle;\n",
       "    }\n",
       "\n",
       "    .dataframe tbody tr th {\n",
       "        vertical-align: top;\n",
       "    }\n",
       "\n",
       "    .dataframe thead th {\n",
       "        text-align: right;\n",
       "    }\n",
       "</style>\n",
       "<table border=\"1\" class=\"dataframe\">\n",
       "  <thead>\n",
       "    <tr style=\"text-align: right;\">\n",
       "      <th></th>\n",
       "      <th>age</th>\n",
       "      <th>job</th>\n",
       "      <th>marital</th>\n",
       "      <th>education</th>\n",
       "      <th>default</th>\n",
       "      <th>balance</th>\n",
       "      <th>housing</th>\n",
       "      <th>loan</th>\n",
       "      <th>contact</th>\n",
       "      <th>day</th>\n",
       "      <th>month</th>\n",
       "      <th>duration</th>\n",
       "      <th>campaign</th>\n",
       "      <th>pdays</th>\n",
       "      <th>previous</th>\n",
       "      <th>poutcome</th>\n",
       "      <th>y</th>\n",
       "    </tr>\n",
       "  </thead>\n",
       "  <tbody>\n",
       "    <tr>\n",
       "      <th>0</th>\n",
       "      <td>30</td>\n",
       "      <td>unemployed</td>\n",
       "      <td>married</td>\n",
       "      <td>primary</td>\n",
       "      <td>no</td>\n",
       "      <td>1787</td>\n",
       "      <td>no</td>\n",
       "      <td>no</td>\n",
       "      <td>cellular</td>\n",
       "      <td>19</td>\n",
       "      <td>oct</td>\n",
       "      <td>79</td>\n",
       "      <td>1</td>\n",
       "      <td>-1</td>\n",
       "      <td>0</td>\n",
       "      <td>unknown</td>\n",
       "      <td>no</td>\n",
       "    </tr>\n",
       "    <tr>\n",
       "      <th>1</th>\n",
       "      <td>33</td>\n",
       "      <td>services</td>\n",
       "      <td>married</td>\n",
       "      <td>secondary</td>\n",
       "      <td>no</td>\n",
       "      <td>4789</td>\n",
       "      <td>yes</td>\n",
       "      <td>yes</td>\n",
       "      <td>cellular</td>\n",
       "      <td>11</td>\n",
       "      <td>may</td>\n",
       "      <td>220</td>\n",
       "      <td>1</td>\n",
       "      <td>339</td>\n",
       "      <td>4</td>\n",
       "      <td>failure</td>\n",
       "      <td>no</td>\n",
       "    </tr>\n",
       "    <tr>\n",
       "      <th>2</th>\n",
       "      <td>35</td>\n",
       "      <td>management</td>\n",
       "      <td>single</td>\n",
       "      <td>tertiary</td>\n",
       "      <td>no</td>\n",
       "      <td>1350</td>\n",
       "      <td>yes</td>\n",
       "      <td>no</td>\n",
       "      <td>cellular</td>\n",
       "      <td>16</td>\n",
       "      <td>apr</td>\n",
       "      <td>185</td>\n",
       "      <td>1</td>\n",
       "      <td>330</td>\n",
       "      <td>1</td>\n",
       "      <td>failure</td>\n",
       "      <td>no</td>\n",
       "    </tr>\n",
       "    <tr>\n",
       "      <th>3</th>\n",
       "      <td>30</td>\n",
       "      <td>management</td>\n",
       "      <td>married</td>\n",
       "      <td>tertiary</td>\n",
       "      <td>no</td>\n",
       "      <td>1476</td>\n",
       "      <td>yes</td>\n",
       "      <td>yes</td>\n",
       "      <td>unknown</td>\n",
       "      <td>3</td>\n",
       "      <td>jun</td>\n",
       "      <td>199</td>\n",
       "      <td>4</td>\n",
       "      <td>-1</td>\n",
       "      <td>0</td>\n",
       "      <td>unknown</td>\n",
       "      <td>no</td>\n",
       "    </tr>\n",
       "    <tr>\n",
       "      <th>4</th>\n",
       "      <td>59</td>\n",
       "      <td>blue-collar</td>\n",
       "      <td>married</td>\n",
       "      <td>secondary</td>\n",
       "      <td>no</td>\n",
       "      <td>0</td>\n",
       "      <td>yes</td>\n",
       "      <td>no</td>\n",
       "      <td>unknown</td>\n",
       "      <td>5</td>\n",
       "      <td>may</td>\n",
       "      <td>226</td>\n",
       "      <td>1</td>\n",
       "      <td>-1</td>\n",
       "      <td>0</td>\n",
       "      <td>unknown</td>\n",
       "      <td>no</td>\n",
       "    </tr>\n",
       "    <tr>\n",
       "      <th>...</th>\n",
       "      <td>...</td>\n",
       "      <td>...</td>\n",
       "      <td>...</td>\n",
       "      <td>...</td>\n",
       "      <td>...</td>\n",
       "      <td>...</td>\n",
       "      <td>...</td>\n",
       "      <td>...</td>\n",
       "      <td>...</td>\n",
       "      <td>...</td>\n",
       "      <td>...</td>\n",
       "      <td>...</td>\n",
       "      <td>...</td>\n",
       "      <td>...</td>\n",
       "      <td>...</td>\n",
       "      <td>...</td>\n",
       "      <td>...</td>\n",
       "    </tr>\n",
       "    <tr>\n",
       "      <th>4516</th>\n",
       "      <td>33</td>\n",
       "      <td>services</td>\n",
       "      <td>married</td>\n",
       "      <td>secondary</td>\n",
       "      <td>no</td>\n",
       "      <td>-333</td>\n",
       "      <td>yes</td>\n",
       "      <td>no</td>\n",
       "      <td>cellular</td>\n",
       "      <td>30</td>\n",
       "      <td>jul</td>\n",
       "      <td>329</td>\n",
       "      <td>5</td>\n",
       "      <td>-1</td>\n",
       "      <td>0</td>\n",
       "      <td>unknown</td>\n",
       "      <td>no</td>\n",
       "    </tr>\n",
       "    <tr>\n",
       "      <th>4517</th>\n",
       "      <td>57</td>\n",
       "      <td>self-employed</td>\n",
       "      <td>married</td>\n",
       "      <td>tertiary</td>\n",
       "      <td>yes</td>\n",
       "      <td>-3313</td>\n",
       "      <td>yes</td>\n",
       "      <td>yes</td>\n",
       "      <td>unknown</td>\n",
       "      <td>9</td>\n",
       "      <td>may</td>\n",
       "      <td>153</td>\n",
       "      <td>1</td>\n",
       "      <td>-1</td>\n",
       "      <td>0</td>\n",
       "      <td>unknown</td>\n",
       "      <td>no</td>\n",
       "    </tr>\n",
       "    <tr>\n",
       "      <th>4518</th>\n",
       "      <td>57</td>\n",
       "      <td>technician</td>\n",
       "      <td>married</td>\n",
       "      <td>secondary</td>\n",
       "      <td>no</td>\n",
       "      <td>295</td>\n",
       "      <td>no</td>\n",
       "      <td>no</td>\n",
       "      <td>cellular</td>\n",
       "      <td>19</td>\n",
       "      <td>aug</td>\n",
       "      <td>151</td>\n",
       "      <td>11</td>\n",
       "      <td>-1</td>\n",
       "      <td>0</td>\n",
       "      <td>unknown</td>\n",
       "      <td>no</td>\n",
       "    </tr>\n",
       "    <tr>\n",
       "      <th>4519</th>\n",
       "      <td>28</td>\n",
       "      <td>blue-collar</td>\n",
       "      <td>married</td>\n",
       "      <td>secondary</td>\n",
       "      <td>no</td>\n",
       "      <td>1137</td>\n",
       "      <td>no</td>\n",
       "      <td>no</td>\n",
       "      <td>cellular</td>\n",
       "      <td>6</td>\n",
       "      <td>feb</td>\n",
       "      <td>129</td>\n",
       "      <td>4</td>\n",
       "      <td>211</td>\n",
       "      <td>3</td>\n",
       "      <td>other</td>\n",
       "      <td>no</td>\n",
       "    </tr>\n",
       "    <tr>\n",
       "      <th>4520</th>\n",
       "      <td>44</td>\n",
       "      <td>entrepreneur</td>\n",
       "      <td>single</td>\n",
       "      <td>tertiary</td>\n",
       "      <td>no</td>\n",
       "      <td>1136</td>\n",
       "      <td>yes</td>\n",
       "      <td>yes</td>\n",
       "      <td>cellular</td>\n",
       "      <td>3</td>\n",
       "      <td>apr</td>\n",
       "      <td>345</td>\n",
       "      <td>2</td>\n",
       "      <td>249</td>\n",
       "      <td>7</td>\n",
       "      <td>other</td>\n",
       "      <td>no</td>\n",
       "    </tr>\n",
       "  </tbody>\n",
       "</table>\n",
       "<p>4521 rows × 17 columns</p>\n",
       "</div>"
      ],
      "text/plain": [
       "      age            job  marital  education default  balance housing loan  \\\n",
       "0      30     unemployed  married    primary      no     1787      no   no   \n",
       "1      33       services  married  secondary      no     4789     yes  yes   \n",
       "2      35     management   single   tertiary      no     1350     yes   no   \n",
       "3      30     management  married   tertiary      no     1476     yes  yes   \n",
       "4      59    blue-collar  married  secondary      no        0     yes   no   \n",
       "...   ...            ...      ...        ...     ...      ...     ...  ...   \n",
       "4516   33       services  married  secondary      no     -333     yes   no   \n",
       "4517   57  self-employed  married   tertiary     yes    -3313     yes  yes   \n",
       "4518   57     technician  married  secondary      no      295      no   no   \n",
       "4519   28    blue-collar  married  secondary      no     1137      no   no   \n",
       "4520   44   entrepreneur   single   tertiary      no     1136     yes  yes   \n",
       "\n",
       "       contact  day month  duration  campaign  pdays  previous poutcome   y  \n",
       "0     cellular   19   oct        79         1     -1         0  unknown  no  \n",
       "1     cellular   11   may       220         1    339         4  failure  no  \n",
       "2     cellular   16   apr       185         1    330         1  failure  no  \n",
       "3      unknown    3   jun       199         4     -1         0  unknown  no  \n",
       "4      unknown    5   may       226         1     -1         0  unknown  no  \n",
       "...        ...  ...   ...       ...       ...    ...       ...      ...  ..  \n",
       "4516  cellular   30   jul       329         5     -1         0  unknown  no  \n",
       "4517   unknown    9   may       153         1     -1         0  unknown  no  \n",
       "4518  cellular   19   aug       151        11     -1         0  unknown  no  \n",
       "4519  cellular    6   feb       129         4    211         3    other  no  \n",
       "4520  cellular    3   apr       345         2    249         7    other  no  \n",
       "\n",
       "[4521 rows x 17 columns]"
      ]
     },
     "execution_count": 7,
     "metadata": {},
     "output_type": "execute_result"
    }
   ],
   "source": [
    "import pandas as pd\n",
    "file_path=\"E:\\\\DOWNLOADS\\\\bank.csv\"\n",
    "pd.read_csv(file_path)"
   ]
  },
  {
   "cell_type": "markdown",
   "id": "59e3ec5d-d5dc-4dc2-93f0-0859acdd5b31",
   "metadata": {},
   "source": [
    "**Creating a Series**"
   ]
  },
  {
   "cell_type": "markdown",
   "id": "4a16d9ce-98fe-4aab-b66b-4731d84c0256",
   "metadata": {},
   "source": [
    "**1) using the list**"
   ]
  },
  {
   "cell_type": "code",
   "execution_count": 8,
   "id": "983337bb-db37-42e3-a63e-2c6b3c5e41ba",
   "metadata": {},
   "outputs": [
    {
     "data": {
      "text/plain": [
       "0    1\n",
       "1    2\n",
       "2    3\n",
       "3    4\n",
       "dtype: int64"
      ]
     },
     "execution_count": 8,
     "metadata": {},
     "output_type": "execute_result"
    }
   ],
   "source": [
    "import pandas as pd\n",
    "a=[1,2,3,4]\n",
    "pd.Series(a)"
   ]
  },
  {
   "cell_type": "markdown",
   "id": "f8fe5e8f-726c-491c-b3d6-9a2a34a054c1",
   "metadata": {},
   "source": [
    "**creating labels for series**"
   ]
  },
  {
   "cell_type": "code",
   "execution_count": 10,
   "id": "541fd714-128f-4ecc-952b-534868cd821e",
   "metadata": {},
   "outputs": [
    {
     "data": {
      "text/plain": [
       "A    1\n",
       "B    2\n",
       "C    3\n",
       "D    4\n",
       "dtype: int64"
      ]
     },
     "execution_count": 10,
     "metadata": {},
     "output_type": "execute_result"
    }
   ],
   "source": [
    "import pandas as pd\n",
    "a=[1,2,3,4]\n",
    "pd.Series(a,index=[\"A\",\"B\",\"C\",\"D\"])"
   ]
  },
  {
   "cell_type": "markdown",
   "id": "af740d4b-39dc-49cb-874b-a6ac8d7e8bbf",
   "metadata": {},
   "source": [
    "**accessing the items**"
   ]
  },
  {
   "cell_type": "code",
   "execution_count": 12,
   "id": "5f05d734-9263-4cd7-9b21-26c342af2393",
   "metadata": {},
   "outputs": [
    {
     "name": "stdout",
     "output_type": "stream",
     "text": [
      "100\n"
     ]
    }
   ],
   "source": [
    "import pandas as pd\n",
    "a=[100,200,300,400]\n",
    "my_data=pd.Series(a,index=[\"A\",\"B\",\"C\",\"D\"])\n",
    "print(my_data[\"A\"])   #labels act as index to so we can access the elements "
   ]
  },
  {
   "cell_type": "markdown",
   "id": "1810674b-5e32-4d92-9aff-3dc3de448187",
   "metadata": {},
   "source": [
    "**type**"
   ]
  },
  {
   "cell_type": "code",
   "execution_count": 13,
   "id": "761d70da-fb2a-4dc2-bcfb-b7f72ffe1558",
   "metadata": {},
   "outputs": [
    {
     "name": "stdout",
     "output_type": "stream",
     "text": [
      "<class 'pandas.core.series.Series'>\n"
     ]
    }
   ],
   "source": [
    "print(type(my_data))"
   ]
  },
  {
   "cell_type": "markdown",
   "id": "b6f4cbd4-1ae1-4452-8f2d-0eee2eb28bcc",
   "metadata": {},
   "source": [
    "**2) using the dictionaries**"
   ]
  },
  {
   "cell_type": "code",
   "execution_count": 14,
   "id": "1173f1ba-8796-49d6-a271-f1dd939ff661",
   "metadata": {},
   "outputs": [
    {
     "data": {
      "text/plain": [
       "a    10\n",
       "b    20\n",
       "c    30\n",
       "dtype: int64"
      ]
     },
     "execution_count": 14,
     "metadata": {},
     "output_type": "execute_result"
    }
   ],
   "source": [
    "my_dict={\"a\":10,\"b\":20,\"c\":30}\n",
    "pd.Series(my_dict) # when we use dictionary keys becomes labels"
   ]
  },
  {
   "cell_type": "markdown",
   "id": "93449a96-ff6e-4edb-acb5-e33584ca5827",
   "metadata": {},
   "source": [
    "**Creating the DataFrame**\n"
   ]
  },
  {
   "cell_type": "markdown",
   "id": "4ce5807c-cae5-4cef-90c6-97c26dc7224b",
   "metadata": {},
   "source": [
    "**1)using list**"
   ]
  },
  {
   "cell_type": "markdown",
   "id": "5e16ca86-1d5e-433a-a51c-555f2c65bb2f",
   "metadata": {},
   "source": [
    "**a) normal DataFrame**"
   ]
  },
  {
   "cell_type": "code",
   "execution_count": 16,
   "id": "ccd2e53e-8531-4927-8e98-17944b859d20",
   "metadata": {},
   "outputs": [
    {
     "data": {
      "text/html": [
       "<div>\n",
       "<style scoped>\n",
       "    .dataframe tbody tr th:only-of-type {\n",
       "        vertical-align: middle;\n",
       "    }\n",
       "\n",
       "    .dataframe tbody tr th {\n",
       "        vertical-align: top;\n",
       "    }\n",
       "\n",
       "    .dataframe thead th {\n",
       "        text-align: right;\n",
       "    }\n",
       "</style>\n",
       "<table border=\"1\" class=\"dataframe\">\n",
       "  <thead>\n",
       "    <tr style=\"text-align: right;\">\n",
       "      <th></th>\n",
       "      <th>0</th>\n",
       "      <th>1</th>\n",
       "    </tr>\n",
       "  </thead>\n",
       "  <tbody>\n",
       "    <tr>\n",
       "      <th>0</th>\n",
       "      <td>Miryalaguda</td>\n",
       "      <td>100</td>\n",
       "    </tr>\n",
       "    <tr>\n",
       "      <th>1</th>\n",
       "      <td>Nalgonda</td>\n",
       "      <td>200</td>\n",
       "    </tr>\n",
       "    <tr>\n",
       "      <th>2</th>\n",
       "      <td>RangaReddy</td>\n",
       "      <td>200</td>\n",
       "    </tr>\n",
       "  </tbody>\n",
       "</table>\n",
       "</div>"
      ],
      "text/plain": [
       "             0    1\n",
       "0  Miryalaguda  100\n",
       "1     Nalgonda  200\n",
       "2   RangaReddy  200"
      ]
     },
     "execution_count": 16,
     "metadata": {},
     "output_type": "execute_result"
    }
   ],
   "source": [
    "import pandas as pd\n",
    "list1=[\"Miryalaguda\",\"Nalgonda\",\"RangaReddy\"]\n",
    "list2=[100,200,200]\n",
    "pd.DataFrame(zip(list1,list2))\n"
   ]
  },
  {
   "cell_type": "markdown",
   "id": "ce0a22e3-9667-4696-83bb-c8c285dcb2de",
   "metadata": {},
   "source": [
    "**b) adding our own column names**"
   ]
  },
  {
   "cell_type": "code",
   "execution_count": 17,
   "id": "c95ac035-8980-43ad-ba29-00937a355a5f",
   "metadata": {},
   "outputs": [
    {
     "data": {
      "text/html": [
       "<div>\n",
       "<style scoped>\n",
       "    .dataframe tbody tr th:only-of-type {\n",
       "        vertical-align: middle;\n",
       "    }\n",
       "\n",
       "    .dataframe tbody tr th {\n",
       "        vertical-align: top;\n",
       "    }\n",
       "\n",
       "    .dataframe thead th {\n",
       "        text-align: right;\n",
       "    }\n",
       "</style>\n",
       "<table border=\"1\" class=\"dataframe\">\n",
       "  <thead>\n",
       "    <tr style=\"text-align: right;\">\n",
       "      <th></th>\n",
       "      <th>place</th>\n",
       "      <th>code</th>\n",
       "    </tr>\n",
       "  </thead>\n",
       "  <tbody>\n",
       "    <tr>\n",
       "      <th>0</th>\n",
       "      <td>Miryalaguda</td>\n",
       "      <td>100</td>\n",
       "    </tr>\n",
       "    <tr>\n",
       "      <th>1</th>\n",
       "      <td>Nalgonda</td>\n",
       "      <td>200</td>\n",
       "    </tr>\n",
       "    <tr>\n",
       "      <th>2</th>\n",
       "      <td>RangaReddy</td>\n",
       "      <td>200</td>\n",
       "    </tr>\n",
       "  </tbody>\n",
       "</table>\n",
       "</div>"
      ],
      "text/plain": [
       "         place  code\n",
       "0  Miryalaguda   100\n",
       "1     Nalgonda   200\n",
       "2   RangaReddy   200"
      ]
     },
     "execution_count": 17,
     "metadata": {},
     "output_type": "execute_result"
    }
   ],
   "source": [
    "# we can but labels for the columns names as follows\n",
    "import pandas as pd\n",
    "list1=[\"Miryalaguda\",\"Nalgonda\",\"RangaReddy\"]\n",
    "list2=[100,200,200]\n",
    "pd.DataFrame(zip(list1,list2),columns=[\"place\",\"code\"])\n"
   ]
  },
  {
   "cell_type": "markdown",
   "id": "360f16f7-2439-4cd5-a745-9d79bb8bd97d",
   "metadata": {},
   "source": [
    "**c) adding  our own indexes to DataFrame**"
   ]
  },
  {
   "cell_type": "code",
   "execution_count": 18,
   "id": "c5c8800b-bbc7-4248-9417-3761d9bba1c2",
   "metadata": {},
   "outputs": [
    {
     "data": {
      "text/html": [
       "<div>\n",
       "<style scoped>\n",
       "    .dataframe tbody tr th:only-of-type {\n",
       "        vertical-align: middle;\n",
       "    }\n",
       "\n",
       "    .dataframe tbody tr th {\n",
       "        vertical-align: top;\n",
       "    }\n",
       "\n",
       "    .dataframe thead th {\n",
       "        text-align: right;\n",
       "    }\n",
       "</style>\n",
       "<table border=\"1\" class=\"dataframe\">\n",
       "  <thead>\n",
       "    <tr style=\"text-align: right;\">\n",
       "      <th></th>\n",
       "      <th>place</th>\n",
       "      <th>code</th>\n",
       "    </tr>\n",
       "  </thead>\n",
       "  <tbody>\n",
       "    <tr>\n",
       "      <th>A</th>\n",
       "      <td>Miryalaguda</td>\n",
       "      <td>100</td>\n",
       "    </tr>\n",
       "    <tr>\n",
       "      <th>B</th>\n",
       "      <td>Nalgonda</td>\n",
       "      <td>200</td>\n",
       "    </tr>\n",
       "    <tr>\n",
       "      <th>C</th>\n",
       "      <td>RangaReddy</td>\n",
       "      <td>200</td>\n",
       "    </tr>\n",
       "  </tbody>\n",
       "</table>\n",
       "</div>"
      ],
      "text/plain": [
       "         place  code\n",
       "A  Miryalaguda   100\n",
       "B     Nalgonda   200\n",
       "C   RangaReddy   200"
      ]
     },
     "execution_count": 18,
     "metadata": {},
     "output_type": "execute_result"
    }
   ],
   "source": [
    "# as indexes are 0,1,2 we can change the indexes also\n",
    "import pandas as pd\n",
    "list1=[\"Miryalaguda\",\"Nalgonda\",\"RangaReddy\"]\n",
    "list2=[100,200,200]\n",
    "pd.DataFrame(zip(list1,list2),columns=[\"place\",\"code\"],index=[\"A\",\"B\",\"C\"])\n"
   ]
  },
  {
   "cell_type": "markdown",
   "id": "6424e274-9078-44cc-8fce-dba71f743da5",
   "metadata": {},
   "source": [
    "**d) add the new column**"
   ]
  },
  {
   "cell_type": "code",
   "execution_count": 20,
   "id": "808acc5d-abb1-4fa6-819e-252e74c029a9",
   "metadata": {},
   "outputs": [
    {
     "data": {
      "text/html": [
       "<div>\n",
       "<style scoped>\n",
       "    .dataframe tbody tr th:only-of-type {\n",
       "        vertical-align: middle;\n",
       "    }\n",
       "\n",
       "    .dataframe tbody tr th {\n",
       "        vertical-align: top;\n",
       "    }\n",
       "\n",
       "    .dataframe thead th {\n",
       "        text-align: right;\n",
       "    }\n",
       "</style>\n",
       "<table border=\"1\" class=\"dataframe\">\n",
       "  <thead>\n",
       "    <tr style=\"text-align: right;\">\n",
       "      <th></th>\n",
       "      <th>place</th>\n",
       "      <th>code</th>\n",
       "      <th>rank</th>\n",
       "    </tr>\n",
       "  </thead>\n",
       "  <tbody>\n",
       "    <tr>\n",
       "      <th>A</th>\n",
       "      <td>Miryalaguda</td>\n",
       "      <td>100</td>\n",
       "      <td>1</td>\n",
       "    </tr>\n",
       "    <tr>\n",
       "      <th>B</th>\n",
       "      <td>Nalgonda</td>\n",
       "      <td>200</td>\n",
       "      <td>2</td>\n",
       "    </tr>\n",
       "    <tr>\n",
       "      <th>C</th>\n",
       "      <td>RangaReddy</td>\n",
       "      <td>200</td>\n",
       "      <td>3</td>\n",
       "    </tr>\n",
       "  </tbody>\n",
       "</table>\n",
       "</div>"
      ],
      "text/plain": [
       "         place  code  rank\n",
       "A  Miryalaguda   100     1\n",
       "B     Nalgonda   200     2\n",
       "C   RangaReddy   200     3"
      ]
     },
     "execution_count": 20,
     "metadata": {},
     "output_type": "execute_result"
    }
   ],
   "source": [
    "list1=[\"Miryalaguda\",\"Nalgonda\",\"RangaReddy\"]\n",
    "list2=[100,200,200]\n",
    "my_data=pd.DataFrame(zip(list1,list2),columns=[\"place\",\"code\"],index=[\"A\",\"B\",\"C\"])\n",
    "my_data[\"rank\"]=[1,2,3]\n",
    "my_data"
   ]
  },
  {
   "cell_type": "markdown",
   "id": "21cd544e-6ec3-43e4-9d0f-b99d5b36fcc5",
   "metadata": {},
   "source": [
    "**e)delete the column**"
   ]
  },
  {
   "cell_type": "markdown",
   "id": "0dfa55c6-b1fa-4938-8f0c-864d7b4bf1a1",
   "metadata": {},
   "source": [
    "- what is the name of the dataframe\n",
    "- which column you should drop: code\n",
    "- axis=1  ===============>columns\n",
    "- axis=0 ================>rows\n",
    "- after modifying the table if u want to save the resultsb in same dataframe or different\n",
    "- same dataframe we should keep inplace =True\n"
   ]
  },
  {
   "cell_type": "code",
   "execution_count": 26,
   "id": "9db3a987-f167-4a84-b61e-a78fc1fefcc2",
   "metadata": {},
   "outputs": [
    {
     "data": {
      "text/html": [
       "<div>\n",
       "<style scoped>\n",
       "    .dataframe tbody tr th:only-of-type {\n",
       "        vertical-align: middle;\n",
       "    }\n",
       "\n",
       "    .dataframe tbody tr th {\n",
       "        vertical-align: top;\n",
       "    }\n",
       "\n",
       "    .dataframe thead th {\n",
       "        text-align: right;\n",
       "    }\n",
       "</style>\n",
       "<table border=\"1\" class=\"dataframe\">\n",
       "  <thead>\n",
       "    <tr style=\"text-align: right;\">\n",
       "      <th></th>\n",
       "      <th>place</th>\n",
       "      <th>rank</th>\n",
       "    </tr>\n",
       "  </thead>\n",
       "  <tbody>\n",
       "    <tr>\n",
       "      <th>A</th>\n",
       "      <td>Miryalaguda</td>\n",
       "      <td>1</td>\n",
       "    </tr>\n",
       "    <tr>\n",
       "      <th>B</th>\n",
       "      <td>Nalgonda</td>\n",
       "      <td>2</td>\n",
       "    </tr>\n",
       "    <tr>\n",
       "      <th>C</th>\n",
       "      <td>RangaReddy</td>\n",
       "      <td>3</td>\n",
       "    </tr>\n",
       "  </tbody>\n",
       "</table>\n",
       "</div>"
      ],
      "text/plain": [
       "         place  rank\n",
       "A  Miryalaguda     1\n",
       "B     Nalgonda     2\n",
       "C   RangaReddy     3"
      ]
     },
     "execution_count": 26,
     "metadata": {},
     "output_type": "execute_result"
    }
   ],
   "source": [
    "list1=[\"Miryalaguda\",\"Nalgonda\",\"RangaReddy\"]\n",
    "list2=[100,200,200]\n",
    "my_data=pd.DataFrame(zip(list1,list2),columns=[\"place\",\"code\"],index=[\"A\",\"B\",\"C\"])\n",
    "my_data[\"rank\"]=[1,2,3]\n",
    "my_data.drop('code',axis=1,inplace=True)\n",
    "my_data\n"
   ]
  },
  {
   "cell_type": "code",
   "execution_count": 27,
   "id": "89df3de5-c766-4a42-b7fb-4dccabfd680a",
   "metadata": {},
   "outputs": [
    {
     "data": {
      "text/html": [
       "<div>\n",
       "<style scoped>\n",
       "    .dataframe tbody tr th:only-of-type {\n",
       "        vertical-align: middle;\n",
       "    }\n",
       "\n",
       "    .dataframe tbody tr th {\n",
       "        vertical-align: top;\n",
       "    }\n",
       "\n",
       "    .dataframe thead th {\n",
       "        text-align: right;\n",
       "    }\n",
       "</style>\n",
       "<table border=\"1\" class=\"dataframe\">\n",
       "  <thead>\n",
       "    <tr style=\"text-align: right;\">\n",
       "      <th></th>\n",
       "      <th>place</th>\n",
       "      <th>rank</th>\n",
       "    </tr>\n",
       "  </thead>\n",
       "  <tbody>\n",
       "    <tr>\n",
       "      <th>A</th>\n",
       "      <td>Miryalaguda</td>\n",
       "      <td>1</td>\n",
       "    </tr>\n",
       "    <tr>\n",
       "      <th>B</th>\n",
       "      <td>Nalgonda</td>\n",
       "      <td>2</td>\n",
       "    </tr>\n",
       "    <tr>\n",
       "      <th>C</th>\n",
       "      <td>RangaReddy</td>\n",
       "      <td>3</td>\n",
       "    </tr>\n",
       "  </tbody>\n",
       "</table>\n",
       "</div>"
      ],
      "text/plain": [
       "         place  rank\n",
       "A  Miryalaguda     1\n",
       "B     Nalgonda     2\n",
       "C   RangaReddy     3"
      ]
     },
     "execution_count": 27,
     "metadata": {},
     "output_type": "execute_result"
    }
   ],
   "source": [
    "ist1=[\"Miryalaguda\",\"Nalgonda\",\"RangaReddy\"]\n",
    "list2=[100,200,200]\n",
    "my_data=pd.DataFrame(zip(list1,list2),columns=[\"place\",\"code\"],index=[\"A\",\"B\",\"C\"])\n",
    "my_data[\"rank\"]=[1,2,3]\n",
    "new_data=my_data.drop('code',axis=1,inplace=False)  # inplace is false means we are storing in different variables\n",
    "new_data"
   ]
  },
  {
   "cell_type": "markdown",
   "id": "7f10ce34-7da1-4a7e-93de-33a9b5ccb125",
   "metadata": {},
   "source": [
    "**2)using the dictionaries**"
   ]
  },
  {
   "cell_type": "code",
   "execution_count": 30,
   "id": "7d362fa0-883a-4887-82b4-d2eb4db78117",
   "metadata": {},
   "outputs": [
    {
     "data": {
      "text/html": [
       "<div>\n",
       "<style scoped>\n",
       "    .dataframe tbody tr th:only-of-type {\n",
       "        vertical-align: middle;\n",
       "    }\n",
       "\n",
       "    .dataframe tbody tr th {\n",
       "        vertical-align: top;\n",
       "    }\n",
       "\n",
       "    .dataframe thead th {\n",
       "        text-align: right;\n",
       "    }\n",
       "</style>\n",
       "<table border=\"1\" class=\"dataframe\">\n",
       "  <thead>\n",
       "    <tr style=\"text-align: right;\">\n",
       "      <th></th>\n",
       "      <th>Names</th>\n",
       "      <th>ages</th>\n",
       "    </tr>\n",
       "  </thead>\n",
       "  <tbody>\n",
       "    <tr>\n",
       "      <th>1</th>\n",
       "      <td>shashi</td>\n",
       "      <td>20</td>\n",
       "    </tr>\n",
       "    <tr>\n",
       "      <th>2</th>\n",
       "      <td>suraj</td>\n",
       "      <td>21</td>\n",
       "    </tr>\n",
       "    <tr>\n",
       "      <th>3</th>\n",
       "      <td>jethin</td>\n",
       "      <td>22</td>\n",
       "    </tr>\n",
       "  </tbody>\n",
       "</table>\n",
       "</div>"
      ],
      "text/plain": [
       "    Names  ages\n",
       "1  shashi    20\n",
       "2   suraj    21\n",
       "3  jethin    22"
      ]
     },
     "execution_count": 30,
     "metadata": {},
     "output_type": "execute_result"
    }
   ],
   "source": [
    "dict1={\"Names\":[\"shashi\",\"suraj\",\"jethin\"],\n",
    "      \"ages\":[20,21,22]}\n",
    "pd.DataFrame(dict1,index=[1,2,3])  #keys will be indexes"
   ]
  },
  {
   "cell_type": "markdown",
   "id": "84b4fa1c-4604-4392-9563-564f5a8c7295",
   "metadata": {},
   "source": [
    "**type**"
   ]
  },
  {
   "cell_type": "code",
   "execution_count": 31,
   "id": "319cd1ab-05ee-492e-b832-fd9b03fa1b9b",
   "metadata": {},
   "outputs": [
    {
     "data": {
      "text/plain": [
       "pandas.core.frame.DataFrame"
      ]
     },
     "execution_count": 31,
     "metadata": {},
     "output_type": "execute_result"
    }
   ],
   "source": [
    "type(pd.DataFrame(dict1,index=[1,2,3]) )"
   ]
  },
  {
   "cell_type": "markdown",
   "id": "4ab3b9bd-9ced-4984-874a-619cc9d9bdb9",
   "metadata": {},
   "source": [
    "**Working with Bank dataset**"
   ]
  },
  {
   "cell_type": "code",
   "execution_count": 36,
   "id": "d6b4652b-074d-4811-9375-9ea3e98a3012",
   "metadata": {},
   "outputs": [
    {
     "data": {
      "text/html": [
       "<div>\n",
       "<style scoped>\n",
       "    .dataframe tbody tr th:only-of-type {\n",
       "        vertical-align: middle;\n",
       "    }\n",
       "\n",
       "    .dataframe tbody tr th {\n",
       "        vertical-align: top;\n",
       "    }\n",
       "\n",
       "    .dataframe thead th {\n",
       "        text-align: right;\n",
       "    }\n",
       "</style>\n",
       "<table border=\"1\" class=\"dataframe\">\n",
       "  <thead>\n",
       "    <tr style=\"text-align: right;\">\n",
       "      <th></th>\n",
       "      <th>age</th>\n",
       "      <th>job</th>\n",
       "      <th>marital</th>\n",
       "      <th>education</th>\n",
       "      <th>default</th>\n",
       "      <th>balance</th>\n",
       "      <th>housing</th>\n",
       "      <th>loan</th>\n",
       "      <th>contact</th>\n",
       "      <th>day</th>\n",
       "      <th>month</th>\n",
       "      <th>duration</th>\n",
       "      <th>campaign</th>\n",
       "      <th>pdays</th>\n",
       "      <th>previous</th>\n",
       "      <th>poutcome</th>\n",
       "      <th>y</th>\n",
       "    </tr>\n",
       "  </thead>\n",
       "  <tbody>\n",
       "    <tr>\n",
       "      <th>0</th>\n",
       "      <td>30</td>\n",
       "      <td>unemployed</td>\n",
       "      <td>married</td>\n",
       "      <td>primary</td>\n",
       "      <td>no</td>\n",
       "      <td>1787</td>\n",
       "      <td>no</td>\n",
       "      <td>no</td>\n",
       "      <td>cellular</td>\n",
       "      <td>19</td>\n",
       "      <td>oct</td>\n",
       "      <td>79</td>\n",
       "      <td>1</td>\n",
       "      <td>-1</td>\n",
       "      <td>0</td>\n",
       "      <td>unknown</td>\n",
       "      <td>no</td>\n",
       "    </tr>\n",
       "    <tr>\n",
       "      <th>1</th>\n",
       "      <td>33</td>\n",
       "      <td>services</td>\n",
       "      <td>married</td>\n",
       "      <td>secondary</td>\n",
       "      <td>no</td>\n",
       "      <td>4789</td>\n",
       "      <td>yes</td>\n",
       "      <td>yes</td>\n",
       "      <td>cellular</td>\n",
       "      <td>11</td>\n",
       "      <td>may</td>\n",
       "      <td>220</td>\n",
       "      <td>1</td>\n",
       "      <td>339</td>\n",
       "      <td>4</td>\n",
       "      <td>failure</td>\n",
       "      <td>no</td>\n",
       "    </tr>\n",
       "    <tr>\n",
       "      <th>2</th>\n",
       "      <td>35</td>\n",
       "      <td>management</td>\n",
       "      <td>single</td>\n",
       "      <td>tertiary</td>\n",
       "      <td>no</td>\n",
       "      <td>1350</td>\n",
       "      <td>yes</td>\n",
       "      <td>no</td>\n",
       "      <td>cellular</td>\n",
       "      <td>16</td>\n",
       "      <td>apr</td>\n",
       "      <td>185</td>\n",
       "      <td>1</td>\n",
       "      <td>330</td>\n",
       "      <td>1</td>\n",
       "      <td>failure</td>\n",
       "      <td>no</td>\n",
       "    </tr>\n",
       "    <tr>\n",
       "      <th>3</th>\n",
       "      <td>30</td>\n",
       "      <td>management</td>\n",
       "      <td>married</td>\n",
       "      <td>tertiary</td>\n",
       "      <td>no</td>\n",
       "      <td>1476</td>\n",
       "      <td>yes</td>\n",
       "      <td>yes</td>\n",
       "      <td>unknown</td>\n",
       "      <td>3</td>\n",
       "      <td>jun</td>\n",
       "      <td>199</td>\n",
       "      <td>4</td>\n",
       "      <td>-1</td>\n",
       "      <td>0</td>\n",
       "      <td>unknown</td>\n",
       "      <td>no</td>\n",
       "    </tr>\n",
       "    <tr>\n",
       "      <th>4</th>\n",
       "      <td>59</td>\n",
       "      <td>blue-collar</td>\n",
       "      <td>married</td>\n",
       "      <td>secondary</td>\n",
       "      <td>no</td>\n",
       "      <td>0</td>\n",
       "      <td>yes</td>\n",
       "      <td>no</td>\n",
       "      <td>unknown</td>\n",
       "      <td>5</td>\n",
       "      <td>may</td>\n",
       "      <td>226</td>\n",
       "      <td>1</td>\n",
       "      <td>-1</td>\n",
       "      <td>0</td>\n",
       "      <td>unknown</td>\n",
       "      <td>no</td>\n",
       "    </tr>\n",
       "    <tr>\n",
       "      <th>...</th>\n",
       "      <td>...</td>\n",
       "      <td>...</td>\n",
       "      <td>...</td>\n",
       "      <td>...</td>\n",
       "      <td>...</td>\n",
       "      <td>...</td>\n",
       "      <td>...</td>\n",
       "      <td>...</td>\n",
       "      <td>...</td>\n",
       "      <td>...</td>\n",
       "      <td>...</td>\n",
       "      <td>...</td>\n",
       "      <td>...</td>\n",
       "      <td>...</td>\n",
       "      <td>...</td>\n",
       "      <td>...</td>\n",
       "      <td>...</td>\n",
       "    </tr>\n",
       "    <tr>\n",
       "      <th>4516</th>\n",
       "      <td>33</td>\n",
       "      <td>services</td>\n",
       "      <td>married</td>\n",
       "      <td>secondary</td>\n",
       "      <td>no</td>\n",
       "      <td>-333</td>\n",
       "      <td>yes</td>\n",
       "      <td>no</td>\n",
       "      <td>cellular</td>\n",
       "      <td>30</td>\n",
       "      <td>jul</td>\n",
       "      <td>329</td>\n",
       "      <td>5</td>\n",
       "      <td>-1</td>\n",
       "      <td>0</td>\n",
       "      <td>unknown</td>\n",
       "      <td>no</td>\n",
       "    </tr>\n",
       "    <tr>\n",
       "      <th>4517</th>\n",
       "      <td>57</td>\n",
       "      <td>self-employed</td>\n",
       "      <td>married</td>\n",
       "      <td>tertiary</td>\n",
       "      <td>yes</td>\n",
       "      <td>-3313</td>\n",
       "      <td>yes</td>\n",
       "      <td>yes</td>\n",
       "      <td>unknown</td>\n",
       "      <td>9</td>\n",
       "      <td>may</td>\n",
       "      <td>153</td>\n",
       "      <td>1</td>\n",
       "      <td>-1</td>\n",
       "      <td>0</td>\n",
       "      <td>unknown</td>\n",
       "      <td>no</td>\n",
       "    </tr>\n",
       "    <tr>\n",
       "      <th>4518</th>\n",
       "      <td>57</td>\n",
       "      <td>technician</td>\n",
       "      <td>married</td>\n",
       "      <td>secondary</td>\n",
       "      <td>no</td>\n",
       "      <td>295</td>\n",
       "      <td>no</td>\n",
       "      <td>no</td>\n",
       "      <td>cellular</td>\n",
       "      <td>19</td>\n",
       "      <td>aug</td>\n",
       "      <td>151</td>\n",
       "      <td>11</td>\n",
       "      <td>-1</td>\n",
       "      <td>0</td>\n",
       "      <td>unknown</td>\n",
       "      <td>no</td>\n",
       "    </tr>\n",
       "    <tr>\n",
       "      <th>4519</th>\n",
       "      <td>28</td>\n",
       "      <td>blue-collar</td>\n",
       "      <td>married</td>\n",
       "      <td>secondary</td>\n",
       "      <td>no</td>\n",
       "      <td>1137</td>\n",
       "      <td>no</td>\n",
       "      <td>no</td>\n",
       "      <td>cellular</td>\n",
       "      <td>6</td>\n",
       "      <td>feb</td>\n",
       "      <td>129</td>\n",
       "      <td>4</td>\n",
       "      <td>211</td>\n",
       "      <td>3</td>\n",
       "      <td>other</td>\n",
       "      <td>no</td>\n",
       "    </tr>\n",
       "    <tr>\n",
       "      <th>4520</th>\n",
       "      <td>44</td>\n",
       "      <td>entrepreneur</td>\n",
       "      <td>single</td>\n",
       "      <td>tertiary</td>\n",
       "      <td>no</td>\n",
       "      <td>1136</td>\n",
       "      <td>yes</td>\n",
       "      <td>yes</td>\n",
       "      <td>cellular</td>\n",
       "      <td>3</td>\n",
       "      <td>apr</td>\n",
       "      <td>345</td>\n",
       "      <td>2</td>\n",
       "      <td>249</td>\n",
       "      <td>7</td>\n",
       "      <td>other</td>\n",
       "      <td>no</td>\n",
       "    </tr>\n",
       "  </tbody>\n",
       "</table>\n",
       "<p>4521 rows × 17 columns</p>\n",
       "</div>"
      ],
      "text/plain": [
       "      age            job  marital  education default  balance housing loan  \\\n",
       "0      30     unemployed  married    primary      no     1787      no   no   \n",
       "1      33       services  married  secondary      no     4789     yes  yes   \n",
       "2      35     management   single   tertiary      no     1350     yes   no   \n",
       "3      30     management  married   tertiary      no     1476     yes  yes   \n",
       "4      59    blue-collar  married  secondary      no        0     yes   no   \n",
       "...   ...            ...      ...        ...     ...      ...     ...  ...   \n",
       "4516   33       services  married  secondary      no     -333     yes   no   \n",
       "4517   57  self-employed  married   tertiary     yes    -3313     yes  yes   \n",
       "4518   57     technician  married  secondary      no      295      no   no   \n",
       "4519   28    blue-collar  married  secondary      no     1137      no   no   \n",
       "4520   44   entrepreneur   single   tertiary      no     1136     yes  yes   \n",
       "\n",
       "       contact  day month  duration  campaign  pdays  previous poutcome   y  \n",
       "0     cellular   19   oct        79         1     -1         0  unknown  no  \n",
       "1     cellular   11   may       220         1    339         4  failure  no  \n",
       "2     cellular   16   apr       185         1    330         1  failure  no  \n",
       "3      unknown    3   jun       199         4     -1         0  unknown  no  \n",
       "4      unknown    5   may       226         1     -1         0  unknown  no  \n",
       "...        ...  ...   ...       ...       ...    ...       ...      ...  ..  \n",
       "4516  cellular   30   jul       329         5     -1         0  unknown  no  \n",
       "4517   unknown    9   may       153         1     -1         0  unknown  no  \n",
       "4518  cellular   19   aug       151        11     -1         0  unknown  no  \n",
       "4519  cellular    6   feb       129         4    211         3    other  no  \n",
       "4520  cellular    3   apr       345         2    249         7    other  no  \n",
       "\n",
       "[4521 rows x 17 columns]"
      ]
     },
     "execution_count": 36,
     "metadata": {},
     "output_type": "execute_result"
    }
   ],
   "source": [
    "import pandas as pd\n",
    "file_path=\"E:\\\\DOWNLOADS\\\\bank.csv\"\n",
    "bank_dataset=pd.read_csv(file_path)\n",
    "bank_dataset"
   ]
  },
  {
   "cell_type": "code",
   "execution_count": 38,
   "id": "fcff344d-298e-4a4e-98e5-446ceb1afb14",
   "metadata": {},
   "outputs": [
    {
     "data": {
      "text/plain": [
       "pandas.core.frame.DataFrame"
      ]
     },
     "execution_count": 38,
     "metadata": {},
     "output_type": "execute_result"
    }
   ],
   "source": [
    "import pandas as pd\n",
    "file_path=\"E:\\\\DOWNLOADS\\\\bank.csv\"\n",
    "bank_dataset=pd.read_csv(file_path)\n",
    "bank_dataset\n",
    "type(bank_dataset)"
   ]
  },
  {
   "cell_type": "markdown",
   "id": "5cc4f4a1-2a59-4dba-a2ab-312ae37c3759",
   "metadata": {},
   "source": [
    "**shape**\n",
    "- shape method is  used to obtain the number of rows and columns of the dataset"
   ]
  },
  {
   "cell_type": "code",
   "execution_count": 43,
   "id": "d2b55af8-1f26-4da9-9c58-d8886eee0f80",
   "metadata": {},
   "outputs": [
    {
     "data": {
      "text/plain": [
       "(4521, 17)"
      ]
     },
     "execution_count": 43,
     "metadata": {},
     "output_type": "execute_result"
    }
   ],
   "source": [
    "import pandas as pd\n",
    "file_path=\"E:\\\\DOWNLOADS\\\\bank.csv\"\n",
    "bank_dataset=pd.read_csv(file_path)\n",
    "bank_dataset\n",
    "bank_dataset.shape     "
   ]
  },
  {
   "cell_type": "code",
   "execution_count": 46,
   "id": "bd80fa41-007b-4c93-a724-c6eecfa8334b",
   "metadata": {},
   "outputs": [
    {
     "name": "stdout",
     "output_type": "stream",
     "text": [
      "the number of rows in bank dataset are:  4521 \n",
      "the number of columns in bank dataset are:  17 \n"
     ]
    }
   ],
   "source": [
    "# it will return in the tuple\n",
    "# first observation is rows\n",
    "# second observation is columns\n",
    "import pandas as pd\n",
    "file_path=\"E:\\\\DOWNLOADS\\\\bank.csv\"\n",
    "bank_dataset=pd.read_csv(file_path)\n",
    "bank_dataset\n",
    "k=bank_dataset.shape  \n",
    "print(\"the number of rows in bank dataset are:  {} \".format(k[0]))\n",
    "print(\"the number of columns in bank dataset are:  {} \".format(k[1]))"
   ]
  },
  {
   "cell_type": "markdown",
   "id": "d176df7e-0029-4b82-a8f5-ed3efdd1335c",
   "metadata": {},
   "source": [
    "**dtypes**"
   ]
  },
  {
   "cell_type": "markdown",
   "id": "8526a3f2-1e74-447c-963e-b0199e64ab69",
   "metadata": {},
   "source": [
    "- Pandas dtypes attribute return the dtypes in the DataFrame. It returns a Series with the data type of each column.\n",
    "- if it return an object as output it is categorical column\n",
    "- if it returns an int or float means it is a numerical column\n"
   ]
  },
  {
   "cell_type": "code",
   "execution_count": 47,
   "id": "b0938782-1a3c-4efb-8545-a6d005804e51",
   "metadata": {},
   "outputs": [
    {
     "data": {
      "text/plain": [
       "age           int64\n",
       "job          object\n",
       "marital      object\n",
       "education    object\n",
       "default      object\n",
       "balance       int64\n",
       "housing      object\n",
       "loan         object\n",
       "contact      object\n",
       "day           int64\n",
       "month        object\n",
       "duration      int64\n",
       "campaign      int64\n",
       "pdays         int64\n",
       "previous      int64\n",
       "poutcome     object\n",
       "y            object\n",
       "dtype: object"
      ]
     },
     "execution_count": 47,
     "metadata": {},
     "output_type": "execute_result"
    }
   ],
   "source": [
    "import pandas as pd\n",
    "file_path=\"E:\\\\DOWNLOADS\\\\bank.csv\"\n",
    "bank_dataset=pd.read_csv(file_path)\n",
    "bank_dataset.dtypes"
   ]
  },
  {
   "cell_type": "code",
   "execution_count": 48,
   "id": "1d73ecec-4288-41fd-b916-c3632a1f233a",
   "metadata": {},
   "outputs": [
    {
     "data": {
      "text/plain": [
       "pandas.core.series.Series"
      ]
     },
     "execution_count": 48,
     "metadata": {},
     "output_type": "execute_result"
    }
   ],
   "source": [
    "#note the type will series\n",
    "type(bank_dataset.dtypes)"
   ]
  },
  {
   "cell_type": "code",
   "execution_count": 51,
   "id": "082c2e46-28fa-4535-b66f-f10860ed98a3",
   "metadata": {},
   "outputs": [],
   "source": [
    "**index**\n",
    "\n"
   ]
  },
  {
   "cell_type": "code",
   "execution_count": 53,
   "id": "4b16ffb3-29ce-4e7f-9c63-6071e9e45889",
   "metadata": {},
   "outputs": [
    {
     "data": {
      "text/plain": [
       "Index(['age', 'job', 'marital', 'education', 'default', 'balance', 'housing',\n",
       "       'loan', 'contact', 'day', 'month', 'duration', 'campaign', 'pdays',\n",
       "       'previous', 'poutcome', 'y'],\n",
       "      dtype='object')"
      ]
     },
     "execution_count": 53,
     "metadata": {},
     "output_type": "execute_result"
    }
   ],
   "source": [
    "import pandas as pd\n",
    "file_path=\"E:\\\\DOWNLOADS\\\\bank.csv\"\n",
    "bank_dataset=pd.read_csv(file_path)\n",
    "bank_dataset.dtypes\n",
    "bank_dataset.dtypes.index"
   ]
  },
  {
   "cell_type": "code",
   "execution_count": null,
   "id": "35a6cc1b-bf0b-4711-941a-3b954ab8f33a",
   "metadata": {},
   "outputs": [],
   "source": [
    "**values**"
   ]
  },
  {
   "cell_type": "code",
   "execution_count": 54,
   "id": "a528bfdf-2a9a-4902-b623-4e5862c2effe",
   "metadata": {},
   "outputs": [
    {
     "data": {
      "text/plain": [
       "array([dtype('int64'), dtype('O'), dtype('O'), dtype('O'), dtype('O'),\n",
       "       dtype('int64'), dtype('O'), dtype('O'), dtype('O'), dtype('int64'),\n",
       "       dtype('O'), dtype('int64'), dtype('int64'), dtype('int64'),\n",
       "       dtype('int64'), dtype('O'), dtype('O')], dtype=object)"
      ]
     },
     "execution_count": 54,
     "metadata": {},
     "output_type": "execute_result"
    }
   ],
   "source": [
    "import pandas as pd\n",
    "file_path=\"E:\\\\DOWNLOADS\\\\bank.csv\"\n",
    "bank_dataset=pd.read_csv(file_path)\n",
    "bank_dataset.dtypes\n",
    "bank_dataset.dtypes.values"
   ]
  },
  {
   "cell_type": "markdown",
   "id": "7c6d9ad4-0412-4fa2-8ed1-d897c0a9d626",
   "metadata": {},
   "source": [
    "**separtion of categorical and numerical columns in bankdataset**"
   ]
  },
  {
   "cell_type": "code",
   "execution_count": 59,
   "id": "660560e4-c789-42d2-8aa8-7f3329d1138d",
   "metadata": {},
   "outputs": [
    {
     "name": "stdout",
     "output_type": "stream",
     "text": [
      "['job', 'marital', 'education', 'default', 'housing', 'loan', 'contact', 'month', 'poutcome', 'y']\n",
      "['age', 'balance', 'day', 'duration', 'campaign', 'pdays', 'previous']\n"
     ]
    }
   ],
   "source": [
    "categorical_list=[]\n",
    "numerical_list=[]\n",
    "a=dict(bank_dataset.dtypes)\n",
    "for i,j in a.items():\n",
    "    if j==\"O\":\n",
    "        categorical_list.append(i)\n",
    "    else:\n",
    "        numerical_list.append(i)\n",
    "print(categorical_list)\n",
    "print(numerical_list)"
   ]
  },
  {
   "cell_type": "markdown",
   "id": "82a76b67-e33f-471f-87a5-2c76e095a3cd",
   "metadata": {},
   "source": [
    "**head**\n",
    "- it will retrive the rows\n",
    "- by deafult it will return top 5 rows\n",
    "- if we mention rows  it will print that many rows user mentioned"
   ]
  },
  {
   "cell_type": "code",
   "execution_count": 62,
   "id": "72d381fb-f00a-4430-a607-edfac6e77fcc",
   "metadata": {},
   "outputs": [
    {
     "data": {
      "text/html": [
       "<div>\n",
       "<style scoped>\n",
       "    .dataframe tbody tr th:only-of-type {\n",
       "        vertical-align: middle;\n",
       "    }\n",
       "\n",
       "    .dataframe tbody tr th {\n",
       "        vertical-align: top;\n",
       "    }\n",
       "\n",
       "    .dataframe thead th {\n",
       "        text-align: right;\n",
       "    }\n",
       "</style>\n",
       "<table border=\"1\" class=\"dataframe\">\n",
       "  <thead>\n",
       "    <tr style=\"text-align: right;\">\n",
       "      <th></th>\n",
       "      <th>age</th>\n",
       "      <th>job</th>\n",
       "      <th>marital</th>\n",
       "      <th>education</th>\n",
       "      <th>default</th>\n",
       "      <th>balance</th>\n",
       "      <th>housing</th>\n",
       "      <th>loan</th>\n",
       "      <th>contact</th>\n",
       "      <th>day</th>\n",
       "      <th>month</th>\n",
       "      <th>duration</th>\n",
       "      <th>campaign</th>\n",
       "      <th>pdays</th>\n",
       "      <th>previous</th>\n",
       "      <th>poutcome</th>\n",
       "      <th>y</th>\n",
       "    </tr>\n",
       "  </thead>\n",
       "  <tbody>\n",
       "    <tr>\n",
       "      <th>0</th>\n",
       "      <td>30</td>\n",
       "      <td>unemployed</td>\n",
       "      <td>married</td>\n",
       "      <td>primary</td>\n",
       "      <td>no</td>\n",
       "      <td>1787</td>\n",
       "      <td>no</td>\n",
       "      <td>no</td>\n",
       "      <td>cellular</td>\n",
       "      <td>19</td>\n",
       "      <td>oct</td>\n",
       "      <td>79</td>\n",
       "      <td>1</td>\n",
       "      <td>-1</td>\n",
       "      <td>0</td>\n",
       "      <td>unknown</td>\n",
       "      <td>no</td>\n",
       "    </tr>\n",
       "    <tr>\n",
       "      <th>1</th>\n",
       "      <td>33</td>\n",
       "      <td>services</td>\n",
       "      <td>married</td>\n",
       "      <td>secondary</td>\n",
       "      <td>no</td>\n",
       "      <td>4789</td>\n",
       "      <td>yes</td>\n",
       "      <td>yes</td>\n",
       "      <td>cellular</td>\n",
       "      <td>11</td>\n",
       "      <td>may</td>\n",
       "      <td>220</td>\n",
       "      <td>1</td>\n",
       "      <td>339</td>\n",
       "      <td>4</td>\n",
       "      <td>failure</td>\n",
       "      <td>no</td>\n",
       "    </tr>\n",
       "    <tr>\n",
       "      <th>2</th>\n",
       "      <td>35</td>\n",
       "      <td>management</td>\n",
       "      <td>single</td>\n",
       "      <td>tertiary</td>\n",
       "      <td>no</td>\n",
       "      <td>1350</td>\n",
       "      <td>yes</td>\n",
       "      <td>no</td>\n",
       "      <td>cellular</td>\n",
       "      <td>16</td>\n",
       "      <td>apr</td>\n",
       "      <td>185</td>\n",
       "      <td>1</td>\n",
       "      <td>330</td>\n",
       "      <td>1</td>\n",
       "      <td>failure</td>\n",
       "      <td>no</td>\n",
       "    </tr>\n",
       "    <tr>\n",
       "      <th>3</th>\n",
       "      <td>30</td>\n",
       "      <td>management</td>\n",
       "      <td>married</td>\n",
       "      <td>tertiary</td>\n",
       "      <td>no</td>\n",
       "      <td>1476</td>\n",
       "      <td>yes</td>\n",
       "      <td>yes</td>\n",
       "      <td>unknown</td>\n",
       "      <td>3</td>\n",
       "      <td>jun</td>\n",
       "      <td>199</td>\n",
       "      <td>4</td>\n",
       "      <td>-1</td>\n",
       "      <td>0</td>\n",
       "      <td>unknown</td>\n",
       "      <td>no</td>\n",
       "    </tr>\n",
       "    <tr>\n",
       "      <th>4</th>\n",
       "      <td>59</td>\n",
       "      <td>blue-collar</td>\n",
       "      <td>married</td>\n",
       "      <td>secondary</td>\n",
       "      <td>no</td>\n",
       "      <td>0</td>\n",
       "      <td>yes</td>\n",
       "      <td>no</td>\n",
       "      <td>unknown</td>\n",
       "      <td>5</td>\n",
       "      <td>may</td>\n",
       "      <td>226</td>\n",
       "      <td>1</td>\n",
       "      <td>-1</td>\n",
       "      <td>0</td>\n",
       "      <td>unknown</td>\n",
       "      <td>no</td>\n",
       "    </tr>\n",
       "  </tbody>\n",
       "</table>\n",
       "</div>"
      ],
      "text/plain": [
       "   age          job  marital  education default  balance housing loan  \\\n",
       "0   30   unemployed  married    primary      no     1787      no   no   \n",
       "1   33     services  married  secondary      no     4789     yes  yes   \n",
       "2   35   management   single   tertiary      no     1350     yes   no   \n",
       "3   30   management  married   tertiary      no     1476     yes  yes   \n",
       "4   59  blue-collar  married  secondary      no        0     yes   no   \n",
       "\n",
       "    contact  day month  duration  campaign  pdays  previous poutcome   y  \n",
       "0  cellular   19   oct        79         1     -1         0  unknown  no  \n",
       "1  cellular   11   may       220         1    339         4  failure  no  \n",
       "2  cellular   16   apr       185         1    330         1  failure  no  \n",
       "3   unknown    3   jun       199         4     -1         0  unknown  no  \n",
       "4   unknown    5   may       226         1     -1         0  unknown  no  "
      ]
     },
     "execution_count": 62,
     "metadata": {},
     "output_type": "execute_result"
    }
   ],
   "source": [
    "import pandas as pd\n",
    "file_path=\"E:\\\\DOWNLOADS\\\\bank.csv\"\n",
    "bank_dataset=pd.read_csv(file_path)\n",
    "bank_dataset.head()  #by default it will return 5 rows"
   ]
  },
  {
   "cell_type": "code",
   "execution_count": 63,
   "id": "ee223cef-6c3f-4f29-aa4c-0b20467cd213",
   "metadata": {},
   "outputs": [
    {
     "data": {
      "text/html": [
       "<div>\n",
       "<style scoped>\n",
       "    .dataframe tbody tr th:only-of-type {\n",
       "        vertical-align: middle;\n",
       "    }\n",
       "\n",
       "    .dataframe tbody tr th {\n",
       "        vertical-align: top;\n",
       "    }\n",
       "\n",
       "    .dataframe thead th {\n",
       "        text-align: right;\n",
       "    }\n",
       "</style>\n",
       "<table border=\"1\" class=\"dataframe\">\n",
       "  <thead>\n",
       "    <tr style=\"text-align: right;\">\n",
       "      <th></th>\n",
       "      <th>age</th>\n",
       "      <th>job</th>\n",
       "      <th>marital</th>\n",
       "      <th>education</th>\n",
       "      <th>default</th>\n",
       "      <th>balance</th>\n",
       "      <th>housing</th>\n",
       "      <th>loan</th>\n",
       "      <th>contact</th>\n",
       "      <th>day</th>\n",
       "      <th>month</th>\n",
       "      <th>duration</th>\n",
       "      <th>campaign</th>\n",
       "      <th>pdays</th>\n",
       "      <th>previous</th>\n",
       "      <th>poutcome</th>\n",
       "      <th>y</th>\n",
       "    </tr>\n",
       "  </thead>\n",
       "  <tbody>\n",
       "    <tr>\n",
       "      <th>0</th>\n",
       "      <td>30</td>\n",
       "      <td>unemployed</td>\n",
       "      <td>married</td>\n",
       "      <td>primary</td>\n",
       "      <td>no</td>\n",
       "      <td>1787</td>\n",
       "      <td>no</td>\n",
       "      <td>no</td>\n",
       "      <td>cellular</td>\n",
       "      <td>19</td>\n",
       "      <td>oct</td>\n",
       "      <td>79</td>\n",
       "      <td>1</td>\n",
       "      <td>-1</td>\n",
       "      <td>0</td>\n",
       "      <td>unknown</td>\n",
       "      <td>no</td>\n",
       "    </tr>\n",
       "    <tr>\n",
       "      <th>1</th>\n",
       "      <td>33</td>\n",
       "      <td>services</td>\n",
       "      <td>married</td>\n",
       "      <td>secondary</td>\n",
       "      <td>no</td>\n",
       "      <td>4789</td>\n",
       "      <td>yes</td>\n",
       "      <td>yes</td>\n",
       "      <td>cellular</td>\n",
       "      <td>11</td>\n",
       "      <td>may</td>\n",
       "      <td>220</td>\n",
       "      <td>1</td>\n",
       "      <td>339</td>\n",
       "      <td>4</td>\n",
       "      <td>failure</td>\n",
       "      <td>no</td>\n",
       "    </tr>\n",
       "    <tr>\n",
       "      <th>2</th>\n",
       "      <td>35</td>\n",
       "      <td>management</td>\n",
       "      <td>single</td>\n",
       "      <td>tertiary</td>\n",
       "      <td>no</td>\n",
       "      <td>1350</td>\n",
       "      <td>yes</td>\n",
       "      <td>no</td>\n",
       "      <td>cellular</td>\n",
       "      <td>16</td>\n",
       "      <td>apr</td>\n",
       "      <td>185</td>\n",
       "      <td>1</td>\n",
       "      <td>330</td>\n",
       "      <td>1</td>\n",
       "      <td>failure</td>\n",
       "      <td>no</td>\n",
       "    </tr>\n",
       "    <tr>\n",
       "      <th>3</th>\n",
       "      <td>30</td>\n",
       "      <td>management</td>\n",
       "      <td>married</td>\n",
       "      <td>tertiary</td>\n",
       "      <td>no</td>\n",
       "      <td>1476</td>\n",
       "      <td>yes</td>\n",
       "      <td>yes</td>\n",
       "      <td>unknown</td>\n",
       "      <td>3</td>\n",
       "      <td>jun</td>\n",
       "      <td>199</td>\n",
       "      <td>4</td>\n",
       "      <td>-1</td>\n",
       "      <td>0</td>\n",
       "      <td>unknown</td>\n",
       "      <td>no</td>\n",
       "    </tr>\n",
       "    <tr>\n",
       "      <th>4</th>\n",
       "      <td>59</td>\n",
       "      <td>blue-collar</td>\n",
       "      <td>married</td>\n",
       "      <td>secondary</td>\n",
       "      <td>no</td>\n",
       "      <td>0</td>\n",
       "      <td>yes</td>\n",
       "      <td>no</td>\n",
       "      <td>unknown</td>\n",
       "      <td>5</td>\n",
       "      <td>may</td>\n",
       "      <td>226</td>\n",
       "      <td>1</td>\n",
       "      <td>-1</td>\n",
       "      <td>0</td>\n",
       "      <td>unknown</td>\n",
       "      <td>no</td>\n",
       "    </tr>\n",
       "    <tr>\n",
       "      <th>5</th>\n",
       "      <td>35</td>\n",
       "      <td>management</td>\n",
       "      <td>single</td>\n",
       "      <td>tertiary</td>\n",
       "      <td>no</td>\n",
       "      <td>747</td>\n",
       "      <td>no</td>\n",
       "      <td>no</td>\n",
       "      <td>cellular</td>\n",
       "      <td>23</td>\n",
       "      <td>feb</td>\n",
       "      <td>141</td>\n",
       "      <td>2</td>\n",
       "      <td>176</td>\n",
       "      <td>3</td>\n",
       "      <td>failure</td>\n",
       "      <td>no</td>\n",
       "    </tr>\n",
       "    <tr>\n",
       "      <th>6</th>\n",
       "      <td>36</td>\n",
       "      <td>self-employed</td>\n",
       "      <td>married</td>\n",
       "      <td>tertiary</td>\n",
       "      <td>no</td>\n",
       "      <td>307</td>\n",
       "      <td>yes</td>\n",
       "      <td>no</td>\n",
       "      <td>cellular</td>\n",
       "      <td>14</td>\n",
       "      <td>may</td>\n",
       "      <td>341</td>\n",
       "      <td>1</td>\n",
       "      <td>330</td>\n",
       "      <td>2</td>\n",
       "      <td>other</td>\n",
       "      <td>no</td>\n",
       "    </tr>\n",
       "    <tr>\n",
       "      <th>7</th>\n",
       "      <td>39</td>\n",
       "      <td>technician</td>\n",
       "      <td>married</td>\n",
       "      <td>secondary</td>\n",
       "      <td>no</td>\n",
       "      <td>147</td>\n",
       "      <td>yes</td>\n",
       "      <td>no</td>\n",
       "      <td>cellular</td>\n",
       "      <td>6</td>\n",
       "      <td>may</td>\n",
       "      <td>151</td>\n",
       "      <td>2</td>\n",
       "      <td>-1</td>\n",
       "      <td>0</td>\n",
       "      <td>unknown</td>\n",
       "      <td>no</td>\n",
       "    </tr>\n",
       "    <tr>\n",
       "      <th>8</th>\n",
       "      <td>41</td>\n",
       "      <td>entrepreneur</td>\n",
       "      <td>married</td>\n",
       "      <td>tertiary</td>\n",
       "      <td>no</td>\n",
       "      <td>221</td>\n",
       "      <td>yes</td>\n",
       "      <td>no</td>\n",
       "      <td>unknown</td>\n",
       "      <td>14</td>\n",
       "      <td>may</td>\n",
       "      <td>57</td>\n",
       "      <td>2</td>\n",
       "      <td>-1</td>\n",
       "      <td>0</td>\n",
       "      <td>unknown</td>\n",
       "      <td>no</td>\n",
       "    </tr>\n",
       "    <tr>\n",
       "      <th>9</th>\n",
       "      <td>43</td>\n",
       "      <td>services</td>\n",
       "      <td>married</td>\n",
       "      <td>primary</td>\n",
       "      <td>no</td>\n",
       "      <td>-88</td>\n",
       "      <td>yes</td>\n",
       "      <td>yes</td>\n",
       "      <td>cellular</td>\n",
       "      <td>17</td>\n",
       "      <td>apr</td>\n",
       "      <td>313</td>\n",
       "      <td>1</td>\n",
       "      <td>147</td>\n",
       "      <td>2</td>\n",
       "      <td>failure</td>\n",
       "      <td>no</td>\n",
       "    </tr>\n",
       "  </tbody>\n",
       "</table>\n",
       "</div>"
      ],
      "text/plain": [
       "   age            job  marital  education default  balance housing loan  \\\n",
       "0   30     unemployed  married    primary      no     1787      no   no   \n",
       "1   33       services  married  secondary      no     4789     yes  yes   \n",
       "2   35     management   single   tertiary      no     1350     yes   no   \n",
       "3   30     management  married   tertiary      no     1476     yes  yes   \n",
       "4   59    blue-collar  married  secondary      no        0     yes   no   \n",
       "5   35     management   single   tertiary      no      747      no   no   \n",
       "6   36  self-employed  married   tertiary      no      307     yes   no   \n",
       "7   39     technician  married  secondary      no      147     yes   no   \n",
       "8   41   entrepreneur  married   tertiary      no      221     yes   no   \n",
       "9   43       services  married    primary      no      -88     yes  yes   \n",
       "\n",
       "    contact  day month  duration  campaign  pdays  previous poutcome   y  \n",
       "0  cellular   19   oct        79         1     -1         0  unknown  no  \n",
       "1  cellular   11   may       220         1    339         4  failure  no  \n",
       "2  cellular   16   apr       185         1    330         1  failure  no  \n",
       "3   unknown    3   jun       199         4     -1         0  unknown  no  \n",
       "4   unknown    5   may       226         1     -1         0  unknown  no  \n",
       "5  cellular   23   feb       141         2    176         3  failure  no  \n",
       "6  cellular   14   may       341         1    330         2    other  no  \n",
       "7  cellular    6   may       151         2     -1         0  unknown  no  \n",
       "8   unknown   14   may        57         2     -1         0  unknown  no  \n",
       "9  cellular   17   apr       313         1    147         2  failure  no  "
      ]
     },
     "execution_count": 63,
     "metadata": {},
     "output_type": "execute_result"
    }
   ],
   "source": [
    "import pandas as pd\n",
    "file_path=\"E:\\\\DOWNLOADS\\\\bank.csv\"\n",
    "bank_dataset=pd.read_csv(file_path)\n",
    "bank_dataset.head(10)  #it will return top 10 rows as we mention the value 10 "
   ]
  },
  {
   "cell_type": "markdown",
   "id": "b07da368-b599-4d70-ba19-e8d46bc2592b",
   "metadata": {},
   "source": [
    "**tail**\n",
    "- it will return the botttom rows\n",
    "- by default it will return 5 bottom rows\n",
    "- it will retrive if user mention the number of rows tobe retrived"
   ]
  },
  {
   "cell_type": "code",
   "execution_count": 76,
   "id": "ea64968b-40ae-4809-929a-c8beee8fd44c",
   "metadata": {},
   "outputs": [
    {
     "data": {
      "text/html": [
       "<div>\n",
       "<style scoped>\n",
       "    .dataframe tbody tr th:only-of-type {\n",
       "        vertical-align: middle;\n",
       "    }\n",
       "\n",
       "    .dataframe tbody tr th {\n",
       "        vertical-align: top;\n",
       "    }\n",
       "\n",
       "    .dataframe thead th {\n",
       "        text-align: right;\n",
       "    }\n",
       "</style>\n",
       "<table border=\"1\" class=\"dataframe\">\n",
       "  <thead>\n",
       "    <tr style=\"text-align: right;\">\n",
       "      <th></th>\n",
       "      <th>age</th>\n",
       "      <th>job</th>\n",
       "      <th>marital</th>\n",
       "      <th>education</th>\n",
       "      <th>default</th>\n",
       "      <th>balance</th>\n",
       "      <th>housing</th>\n",
       "      <th>loan</th>\n",
       "      <th>contact</th>\n",
       "      <th>day</th>\n",
       "      <th>month</th>\n",
       "      <th>duration</th>\n",
       "      <th>campaign</th>\n",
       "      <th>pdays</th>\n",
       "      <th>previous</th>\n",
       "      <th>poutcome</th>\n",
       "      <th>y</th>\n",
       "    </tr>\n",
       "  </thead>\n",
       "  <tbody>\n",
       "    <tr>\n",
       "      <th>4516</th>\n",
       "      <td>33</td>\n",
       "      <td>services</td>\n",
       "      <td>married</td>\n",
       "      <td>secondary</td>\n",
       "      <td>no</td>\n",
       "      <td>-333</td>\n",
       "      <td>yes</td>\n",
       "      <td>no</td>\n",
       "      <td>cellular</td>\n",
       "      <td>30</td>\n",
       "      <td>jul</td>\n",
       "      <td>329</td>\n",
       "      <td>5</td>\n",
       "      <td>-1</td>\n",
       "      <td>0</td>\n",
       "      <td>unknown</td>\n",
       "      <td>no</td>\n",
       "    </tr>\n",
       "    <tr>\n",
       "      <th>4517</th>\n",
       "      <td>57</td>\n",
       "      <td>self-employed</td>\n",
       "      <td>married</td>\n",
       "      <td>tertiary</td>\n",
       "      <td>yes</td>\n",
       "      <td>-3313</td>\n",
       "      <td>yes</td>\n",
       "      <td>yes</td>\n",
       "      <td>unknown</td>\n",
       "      <td>9</td>\n",
       "      <td>may</td>\n",
       "      <td>153</td>\n",
       "      <td>1</td>\n",
       "      <td>-1</td>\n",
       "      <td>0</td>\n",
       "      <td>unknown</td>\n",
       "      <td>no</td>\n",
       "    </tr>\n",
       "    <tr>\n",
       "      <th>4518</th>\n",
       "      <td>57</td>\n",
       "      <td>technician</td>\n",
       "      <td>married</td>\n",
       "      <td>secondary</td>\n",
       "      <td>no</td>\n",
       "      <td>295</td>\n",
       "      <td>no</td>\n",
       "      <td>no</td>\n",
       "      <td>cellular</td>\n",
       "      <td>19</td>\n",
       "      <td>aug</td>\n",
       "      <td>151</td>\n",
       "      <td>11</td>\n",
       "      <td>-1</td>\n",
       "      <td>0</td>\n",
       "      <td>unknown</td>\n",
       "      <td>no</td>\n",
       "    </tr>\n",
       "    <tr>\n",
       "      <th>4519</th>\n",
       "      <td>28</td>\n",
       "      <td>blue-collar</td>\n",
       "      <td>married</td>\n",
       "      <td>secondary</td>\n",
       "      <td>no</td>\n",
       "      <td>1137</td>\n",
       "      <td>no</td>\n",
       "      <td>no</td>\n",
       "      <td>cellular</td>\n",
       "      <td>6</td>\n",
       "      <td>feb</td>\n",
       "      <td>129</td>\n",
       "      <td>4</td>\n",
       "      <td>211</td>\n",
       "      <td>3</td>\n",
       "      <td>other</td>\n",
       "      <td>no</td>\n",
       "    </tr>\n",
       "    <tr>\n",
       "      <th>4520</th>\n",
       "      <td>44</td>\n",
       "      <td>entrepreneur</td>\n",
       "      <td>single</td>\n",
       "      <td>tertiary</td>\n",
       "      <td>no</td>\n",
       "      <td>1136</td>\n",
       "      <td>yes</td>\n",
       "      <td>yes</td>\n",
       "      <td>cellular</td>\n",
       "      <td>3</td>\n",
       "      <td>apr</td>\n",
       "      <td>345</td>\n",
       "      <td>2</td>\n",
       "      <td>249</td>\n",
       "      <td>7</td>\n",
       "      <td>other</td>\n",
       "      <td>no</td>\n",
       "    </tr>\n",
       "  </tbody>\n",
       "</table>\n",
       "</div>"
      ],
      "text/plain": [
       "      age            job  marital  education default  balance housing loan  \\\n",
       "4516   33       services  married  secondary      no     -333     yes   no   \n",
       "4517   57  self-employed  married   tertiary     yes    -3313     yes  yes   \n",
       "4518   57     technician  married  secondary      no      295      no   no   \n",
       "4519   28    blue-collar  married  secondary      no     1137      no   no   \n",
       "4520   44   entrepreneur   single   tertiary      no     1136     yes  yes   \n",
       "\n",
       "       contact  day month  duration  campaign  pdays  previous poutcome   y  \n",
       "4516  cellular   30   jul       329         5     -1         0  unknown  no  \n",
       "4517   unknown    9   may       153         1     -1         0  unknown  no  \n",
       "4518  cellular   19   aug       151        11     -1         0  unknown  no  \n",
       "4519  cellular    6   feb       129         4    211         3    other  no  \n",
       "4520  cellular    3   apr       345         2    249         7    other  no  "
      ]
     },
     "execution_count": 76,
     "metadata": {},
     "output_type": "execute_result"
    }
   ],
   "source": [
    "import pandas as pd\n",
    "file_path=\"E:\\\\DOWNLOADS\\\\bank.csv\"\n",
    "bank_dataset=pd.read_csv(file_path)\n",
    "bank_dataset.tail()  #it will return bottom 5 rows"
   ]
  },
  {
   "cell_type": "code",
   "execution_count": 77,
   "id": "91ddd1e9-1bf2-41a1-b1ad-f8067f985ee1",
   "metadata": {},
   "outputs": [
    {
     "data": {
      "text/html": [
       "<div>\n",
       "<style scoped>\n",
       "    .dataframe tbody tr th:only-of-type {\n",
       "        vertical-align: middle;\n",
       "    }\n",
       "\n",
       "    .dataframe tbody tr th {\n",
       "        vertical-align: top;\n",
       "    }\n",
       "\n",
       "    .dataframe thead th {\n",
       "        text-align: right;\n",
       "    }\n",
       "</style>\n",
       "<table border=\"1\" class=\"dataframe\">\n",
       "  <thead>\n",
       "    <tr style=\"text-align: right;\">\n",
       "      <th></th>\n",
       "      <th>age</th>\n",
       "      <th>job</th>\n",
       "      <th>marital</th>\n",
       "      <th>education</th>\n",
       "      <th>default</th>\n",
       "      <th>balance</th>\n",
       "      <th>housing</th>\n",
       "      <th>loan</th>\n",
       "      <th>contact</th>\n",
       "      <th>day</th>\n",
       "      <th>month</th>\n",
       "      <th>duration</th>\n",
       "      <th>campaign</th>\n",
       "      <th>pdays</th>\n",
       "      <th>previous</th>\n",
       "      <th>poutcome</th>\n",
       "      <th>y</th>\n",
       "    </tr>\n",
       "  </thead>\n",
       "  <tbody>\n",
       "    <tr>\n",
       "      <th>4511</th>\n",
       "      <td>46</td>\n",
       "      <td>blue-collar</td>\n",
       "      <td>married</td>\n",
       "      <td>secondary</td>\n",
       "      <td>no</td>\n",
       "      <td>668</td>\n",
       "      <td>yes</td>\n",
       "      <td>no</td>\n",
       "      <td>unknown</td>\n",
       "      <td>15</td>\n",
       "      <td>may</td>\n",
       "      <td>1263</td>\n",
       "      <td>2</td>\n",
       "      <td>-1</td>\n",
       "      <td>0</td>\n",
       "      <td>unknown</td>\n",
       "      <td>yes</td>\n",
       "    </tr>\n",
       "    <tr>\n",
       "      <th>4512</th>\n",
       "      <td>40</td>\n",
       "      <td>blue-collar</td>\n",
       "      <td>married</td>\n",
       "      <td>secondary</td>\n",
       "      <td>no</td>\n",
       "      <td>1100</td>\n",
       "      <td>yes</td>\n",
       "      <td>no</td>\n",
       "      <td>unknown</td>\n",
       "      <td>29</td>\n",
       "      <td>may</td>\n",
       "      <td>660</td>\n",
       "      <td>2</td>\n",
       "      <td>-1</td>\n",
       "      <td>0</td>\n",
       "      <td>unknown</td>\n",
       "      <td>no</td>\n",
       "    </tr>\n",
       "    <tr>\n",
       "      <th>4513</th>\n",
       "      <td>49</td>\n",
       "      <td>blue-collar</td>\n",
       "      <td>married</td>\n",
       "      <td>secondary</td>\n",
       "      <td>no</td>\n",
       "      <td>322</td>\n",
       "      <td>no</td>\n",
       "      <td>no</td>\n",
       "      <td>cellular</td>\n",
       "      <td>14</td>\n",
       "      <td>aug</td>\n",
       "      <td>356</td>\n",
       "      <td>2</td>\n",
       "      <td>-1</td>\n",
       "      <td>0</td>\n",
       "      <td>unknown</td>\n",
       "      <td>no</td>\n",
       "    </tr>\n",
       "    <tr>\n",
       "      <th>4514</th>\n",
       "      <td>38</td>\n",
       "      <td>blue-collar</td>\n",
       "      <td>married</td>\n",
       "      <td>secondary</td>\n",
       "      <td>no</td>\n",
       "      <td>1205</td>\n",
       "      <td>yes</td>\n",
       "      <td>no</td>\n",
       "      <td>cellular</td>\n",
       "      <td>20</td>\n",
       "      <td>apr</td>\n",
       "      <td>45</td>\n",
       "      <td>4</td>\n",
       "      <td>153</td>\n",
       "      <td>1</td>\n",
       "      <td>failure</td>\n",
       "      <td>no</td>\n",
       "    </tr>\n",
       "    <tr>\n",
       "      <th>4515</th>\n",
       "      <td>32</td>\n",
       "      <td>services</td>\n",
       "      <td>single</td>\n",
       "      <td>secondary</td>\n",
       "      <td>no</td>\n",
       "      <td>473</td>\n",
       "      <td>yes</td>\n",
       "      <td>no</td>\n",
       "      <td>cellular</td>\n",
       "      <td>7</td>\n",
       "      <td>jul</td>\n",
       "      <td>624</td>\n",
       "      <td>5</td>\n",
       "      <td>-1</td>\n",
       "      <td>0</td>\n",
       "      <td>unknown</td>\n",
       "      <td>no</td>\n",
       "    </tr>\n",
       "    <tr>\n",
       "      <th>4516</th>\n",
       "      <td>33</td>\n",
       "      <td>services</td>\n",
       "      <td>married</td>\n",
       "      <td>secondary</td>\n",
       "      <td>no</td>\n",
       "      <td>-333</td>\n",
       "      <td>yes</td>\n",
       "      <td>no</td>\n",
       "      <td>cellular</td>\n",
       "      <td>30</td>\n",
       "      <td>jul</td>\n",
       "      <td>329</td>\n",
       "      <td>5</td>\n",
       "      <td>-1</td>\n",
       "      <td>0</td>\n",
       "      <td>unknown</td>\n",
       "      <td>no</td>\n",
       "    </tr>\n",
       "    <tr>\n",
       "      <th>4517</th>\n",
       "      <td>57</td>\n",
       "      <td>self-employed</td>\n",
       "      <td>married</td>\n",
       "      <td>tertiary</td>\n",
       "      <td>yes</td>\n",
       "      <td>-3313</td>\n",
       "      <td>yes</td>\n",
       "      <td>yes</td>\n",
       "      <td>unknown</td>\n",
       "      <td>9</td>\n",
       "      <td>may</td>\n",
       "      <td>153</td>\n",
       "      <td>1</td>\n",
       "      <td>-1</td>\n",
       "      <td>0</td>\n",
       "      <td>unknown</td>\n",
       "      <td>no</td>\n",
       "    </tr>\n",
       "    <tr>\n",
       "      <th>4518</th>\n",
       "      <td>57</td>\n",
       "      <td>technician</td>\n",
       "      <td>married</td>\n",
       "      <td>secondary</td>\n",
       "      <td>no</td>\n",
       "      <td>295</td>\n",
       "      <td>no</td>\n",
       "      <td>no</td>\n",
       "      <td>cellular</td>\n",
       "      <td>19</td>\n",
       "      <td>aug</td>\n",
       "      <td>151</td>\n",
       "      <td>11</td>\n",
       "      <td>-1</td>\n",
       "      <td>0</td>\n",
       "      <td>unknown</td>\n",
       "      <td>no</td>\n",
       "    </tr>\n",
       "    <tr>\n",
       "      <th>4519</th>\n",
       "      <td>28</td>\n",
       "      <td>blue-collar</td>\n",
       "      <td>married</td>\n",
       "      <td>secondary</td>\n",
       "      <td>no</td>\n",
       "      <td>1137</td>\n",
       "      <td>no</td>\n",
       "      <td>no</td>\n",
       "      <td>cellular</td>\n",
       "      <td>6</td>\n",
       "      <td>feb</td>\n",
       "      <td>129</td>\n",
       "      <td>4</td>\n",
       "      <td>211</td>\n",
       "      <td>3</td>\n",
       "      <td>other</td>\n",
       "      <td>no</td>\n",
       "    </tr>\n",
       "    <tr>\n",
       "      <th>4520</th>\n",
       "      <td>44</td>\n",
       "      <td>entrepreneur</td>\n",
       "      <td>single</td>\n",
       "      <td>tertiary</td>\n",
       "      <td>no</td>\n",
       "      <td>1136</td>\n",
       "      <td>yes</td>\n",
       "      <td>yes</td>\n",
       "      <td>cellular</td>\n",
       "      <td>3</td>\n",
       "      <td>apr</td>\n",
       "      <td>345</td>\n",
       "      <td>2</td>\n",
       "      <td>249</td>\n",
       "      <td>7</td>\n",
       "      <td>other</td>\n",
       "      <td>no</td>\n",
       "    </tr>\n",
       "  </tbody>\n",
       "</table>\n",
       "</div>"
      ],
      "text/plain": [
       "      age            job  marital  education default  balance housing loan  \\\n",
       "4511   46    blue-collar  married  secondary      no      668     yes   no   \n",
       "4512   40    blue-collar  married  secondary      no     1100     yes   no   \n",
       "4513   49    blue-collar  married  secondary      no      322      no   no   \n",
       "4514   38    blue-collar  married  secondary      no     1205     yes   no   \n",
       "4515   32       services   single  secondary      no      473     yes   no   \n",
       "4516   33       services  married  secondary      no     -333     yes   no   \n",
       "4517   57  self-employed  married   tertiary     yes    -3313     yes  yes   \n",
       "4518   57     technician  married  secondary      no      295      no   no   \n",
       "4519   28    blue-collar  married  secondary      no     1137      no   no   \n",
       "4520   44   entrepreneur   single   tertiary      no     1136     yes  yes   \n",
       "\n",
       "       contact  day month  duration  campaign  pdays  previous poutcome    y  \n",
       "4511   unknown   15   may      1263         2     -1         0  unknown  yes  \n",
       "4512   unknown   29   may       660         2     -1         0  unknown   no  \n",
       "4513  cellular   14   aug       356         2     -1         0  unknown   no  \n",
       "4514  cellular   20   apr        45         4    153         1  failure   no  \n",
       "4515  cellular    7   jul       624         5     -1         0  unknown   no  \n",
       "4516  cellular   30   jul       329         5     -1         0  unknown   no  \n",
       "4517   unknown    9   may       153         1     -1         0  unknown   no  \n",
       "4518  cellular   19   aug       151        11     -1         0  unknown   no  \n",
       "4519  cellular    6   feb       129         4    211         3    other   no  \n",
       "4520  cellular    3   apr       345         2    249         7    other   no  "
      ]
     },
     "execution_count": 77,
     "metadata": {},
     "output_type": "execute_result"
    }
   ],
   "source": [
    "import pandas as pd\n",
    "file_path=\"E:\\\\DOWNLOADS\\\\bank.csv\"\n",
    "bank_dataset=pd.read_csv(file_path)\n",
    "bank_dataset.tail(10)  #it will return bottom 10 rows here 10 is user given value for retriving the specific rows they required"
   ]
  },
  {
   "cell_type": "markdown",
   "id": "1c33f663-eab2-4f73-b4ef-2bdde2ce69bd",
   "metadata": {},
   "source": [
    "**columns**\n",
    "- it will return all columns names in the dataset"
   ]
  },
  {
   "cell_type": "code",
   "execution_count": 83,
   "id": "a414e999-6bd2-4b62-8a9e-022785069180",
   "metadata": {},
   "outputs": [
    {
     "data": {
      "text/plain": [
       "Index(['age', 'job', 'marital', 'education', 'default', 'balance', 'housing',\n",
       "       'loan', 'contact', 'day', 'month', 'duration', 'campaign', 'pdays',\n",
       "       'previous', 'poutcome', 'y'],\n",
       "      dtype='object')"
      ]
     },
     "execution_count": 83,
     "metadata": {},
     "output_type": "execute_result"
    }
   ],
   "source": [
    "import pandas as pd\n",
    "file_path=\"E:\\\\DOWNLOADS\\\\bank.csv\"\n",
    "bank_dataset=pd.read_csv(file_path)\n",
    "bank_dataset.columns"
   ]
  },
  {
   "cell_type": "code",
   "execution_count": 80,
   "id": "3198df78-3af7-43ad-b317-9e6b30da2bbe",
   "metadata": {},
   "outputs": [
    {
     "data": {
      "text/plain": [
       "pandas.core.indexes.base.Index"
      ]
     },
     "execution_count": 80,
     "metadata": {},
     "output_type": "execute_result"
    }
   ],
   "source": [
    "type(bank_dataset.columns)"
   ]
  },
  {
   "cell_type": "code",
   "execution_count": 85,
   "id": "711acc90-b160-4076-be69-f2ce02db468b",
   "metadata": {},
   "outputs": [
    {
     "name": "stdout",
     "output_type": "stream",
     "text": [
      "age\n",
      "job\n"
     ]
    }
   ],
   "source": [
    "# we can use index operations \n",
    "print(bank_dataset.columns[0])\n",
    "print(bank_dataset.columns[1])"
   ]
  },
  {
   "cell_type": "markdown",
   "id": "5cf092e1-7e9a-4b4c-b0b0-0e227075d6e2",
   "metadata": {},
   "source": [
    "**len**"
   ]
  },
  {
   "cell_type": "code",
   "execution_count": 87,
   "id": "a5225e7d-1c13-410b-91d6-19d495c59e24",
   "metadata": {},
   "outputs": [
    {
     "data": {
      "text/plain": [
       "4521"
      ]
     },
     "execution_count": 87,
     "metadata": {},
     "output_type": "execute_result"
    }
   ],
   "source": [
    "len(bank_dataset)  # return the length means it will return the numbers of rupees"
   ]
  },
  {
   "cell_type": "markdown",
   "id": "127a52fd-8907-403d-bbf3-e95ec25abeaf",
   "metadata": {},
   "source": [
    "**take**"
   ]
  },
  {
   "cell_type": "markdown",
   "id": "a353c22d-fafa-435d-8a65-58d77a3d77b9",
   "metadata": {},
   "source": [
    "- The take() method returns the specified rows from the DataFrame.\n",
    "- we can pass the axis value also\n",
    "- axis=0 it will return the rows\n",
    "- axis =1 it will return the columns"
   ]
  },
  {
   "cell_type": "code",
   "execution_count": 91,
   "id": "71fe41fc-8b27-4dd0-8000-115d0892446e",
   "metadata": {},
   "outputs": [
    {
     "data": {
      "text/html": [
       "<div>\n",
       "<style scoped>\n",
       "    .dataframe tbody tr th:only-of-type {\n",
       "        vertical-align: middle;\n",
       "    }\n",
       "\n",
       "    .dataframe tbody tr th {\n",
       "        vertical-align: top;\n",
       "    }\n",
       "\n",
       "    .dataframe thead th {\n",
       "        text-align: right;\n",
       "    }\n",
       "</style>\n",
       "<table border=\"1\" class=\"dataframe\">\n",
       "  <thead>\n",
       "    <tr style=\"text-align: right;\">\n",
       "      <th></th>\n",
       "      <th>age</th>\n",
       "      <th>job</th>\n",
       "      <th>marital</th>\n",
       "      <th>education</th>\n",
       "      <th>default</th>\n",
       "      <th>balance</th>\n",
       "      <th>housing</th>\n",
       "      <th>loan</th>\n",
       "      <th>contact</th>\n",
       "      <th>day</th>\n",
       "      <th>month</th>\n",
       "      <th>duration</th>\n",
       "      <th>campaign</th>\n",
       "      <th>pdays</th>\n",
       "      <th>previous</th>\n",
       "      <th>poutcome</th>\n",
       "      <th>y</th>\n",
       "    </tr>\n",
       "  </thead>\n",
       "  <tbody>\n",
       "    <tr>\n",
       "      <th>1</th>\n",
       "      <td>33</td>\n",
       "      <td>services</td>\n",
       "      <td>married</td>\n",
       "      <td>secondary</td>\n",
       "      <td>no</td>\n",
       "      <td>4789</td>\n",
       "      <td>yes</td>\n",
       "      <td>yes</td>\n",
       "      <td>cellular</td>\n",
       "      <td>11</td>\n",
       "      <td>may</td>\n",
       "      <td>220</td>\n",
       "      <td>1</td>\n",
       "      <td>339</td>\n",
       "      <td>4</td>\n",
       "      <td>failure</td>\n",
       "      <td>no</td>\n",
       "    </tr>\n",
       "    <tr>\n",
       "      <th>2</th>\n",
       "      <td>35</td>\n",
       "      <td>management</td>\n",
       "      <td>single</td>\n",
       "      <td>tertiary</td>\n",
       "      <td>no</td>\n",
       "      <td>1350</td>\n",
       "      <td>yes</td>\n",
       "      <td>no</td>\n",
       "      <td>cellular</td>\n",
       "      <td>16</td>\n",
       "      <td>apr</td>\n",
       "      <td>185</td>\n",
       "      <td>1</td>\n",
       "      <td>330</td>\n",
       "      <td>1</td>\n",
       "      <td>failure</td>\n",
       "      <td>no</td>\n",
       "    </tr>\n",
       "    <tr>\n",
       "      <th>3</th>\n",
       "      <td>30</td>\n",
       "      <td>management</td>\n",
       "      <td>married</td>\n",
       "      <td>tertiary</td>\n",
       "      <td>no</td>\n",
       "      <td>1476</td>\n",
       "      <td>yes</td>\n",
       "      <td>yes</td>\n",
       "      <td>unknown</td>\n",
       "      <td>3</td>\n",
       "      <td>jun</td>\n",
       "      <td>199</td>\n",
       "      <td>4</td>\n",
       "      <td>-1</td>\n",
       "      <td>0</td>\n",
       "      <td>unknown</td>\n",
       "      <td>no</td>\n",
       "    </tr>\n",
       "  </tbody>\n",
       "</table>\n",
       "</div>"
      ],
      "text/plain": [
       "   age         job  marital  education default  balance housing loan  \\\n",
       "1   33    services  married  secondary      no     4789     yes  yes   \n",
       "2   35  management   single   tertiary      no     1350     yes   no   \n",
       "3   30  management  married   tertiary      no     1476     yes  yes   \n",
       "\n",
       "    contact  day month  duration  campaign  pdays  previous poutcome   y  \n",
       "1  cellular   11   may       220         1    339         4  failure  no  \n",
       "2  cellular   16   apr       185         1    330         1  failure  no  \n",
       "3   unknown    3   jun       199         4     -1         0  unknown  no  "
      ]
     },
     "execution_count": 91,
     "metadata": {},
     "output_type": "execute_result"
    }
   ],
   "source": [
    "import pandas as pd\n",
    "file_path=\"E:\\\\DOWNLOADS\\\\bank.csv\"\n",
    "bank_dataset=pd.read_csv(file_path)\n",
    "bank_dataset.take([1,2,3])\n"
   ]
  },
  {
   "cell_type": "code",
   "execution_count": 94,
   "id": "31a68cb3-4d14-4947-a011-f152f732bee7",
   "metadata": {},
   "outputs": [
    {
     "ename": "IndexError",
     "evalue": "indices are out-of-bounds",
     "output_type": "error",
     "traceback": [
      "\u001b[1;31m---------------------------------------------------------------------------\u001b[0m",
      "\u001b[1;31mIndexError\u001b[0m                                Traceback (most recent call last)",
      "Cell \u001b[1;32mIn[94], line 7\u001b[0m\n\u001b[0;32m      5\u001b[0m file_path\u001b[38;5;241m=\u001b[39m\u001b[38;5;124m\"\u001b[39m\u001b[38;5;124mE:\u001b[39m\u001b[38;5;130;01m\\\\\u001b[39;00m\u001b[38;5;124mDOWNLOADS\u001b[39m\u001b[38;5;130;01m\\\\\u001b[39;00m\u001b[38;5;124mbank.csv\u001b[39m\u001b[38;5;124m\"\u001b[39m\n\u001b[0;32m      6\u001b[0m bank_dataset\u001b[38;5;241m=\u001b[39mpd\u001b[38;5;241m.\u001b[39mread_csv(file_path)\n\u001b[1;32m----> 7\u001b[0m \u001b[43mbank_dataset\u001b[49m\u001b[38;5;241;43m.\u001b[39;49m\u001b[43mtake\u001b[49m\u001b[43m(\u001b[49m\u001b[43m[\u001b[49m\u001b[38;5;241;43m1\u001b[39;49m\u001b[43m,\u001b[49m\u001b[38;5;241;43m2\u001b[39;49m\u001b[43m,\u001b[49m\u001b[38;5;241;43m17\u001b[39;49m\u001b[43m]\u001b[49m\u001b[43m,\u001b[49m\u001b[43maxis\u001b[49m\u001b[38;5;241;43m=\u001b[39;49m\u001b[38;5;241;43m1\u001b[39;49m\u001b[43m)\u001b[49m\n",
      "File \u001b[1;32m~\\AppData\\Local\\Programs\\Python\\Python311\\Lib\\site-packages\\pandas\\core\\generic.py:4068\u001b[0m, in \u001b[0;36mNDFrame.take\u001b[1;34m(self, indices, axis, **kwargs)\u001b[0m\n\u001b[0;32m   4063\u001b[0m     \u001b[38;5;66;03m# We can get here with a slice via DataFrame.__getitem__\u001b[39;00m\n\u001b[0;32m   4064\u001b[0m     indices \u001b[38;5;241m=\u001b[39m np\u001b[38;5;241m.\u001b[39marange(\n\u001b[0;32m   4065\u001b[0m         indices\u001b[38;5;241m.\u001b[39mstart, indices\u001b[38;5;241m.\u001b[39mstop, indices\u001b[38;5;241m.\u001b[39mstep, dtype\u001b[38;5;241m=\u001b[39mnp\u001b[38;5;241m.\u001b[39mintp\n\u001b[0;32m   4066\u001b[0m     )\n\u001b[1;32m-> 4068\u001b[0m new_data \u001b[38;5;241m=\u001b[39m \u001b[38;5;28;43mself\u001b[39;49m\u001b[38;5;241;43m.\u001b[39;49m\u001b[43m_mgr\u001b[49m\u001b[38;5;241;43m.\u001b[39;49m\u001b[43mtake\u001b[49m\u001b[43m(\u001b[49m\n\u001b[0;32m   4069\u001b[0m \u001b[43m    \u001b[49m\u001b[43mindices\u001b[49m\u001b[43m,\u001b[49m\n\u001b[0;32m   4070\u001b[0m \u001b[43m    \u001b[49m\u001b[43maxis\u001b[49m\u001b[38;5;241;43m=\u001b[39;49m\u001b[38;5;28;43mself\u001b[39;49m\u001b[38;5;241;43m.\u001b[39;49m\u001b[43m_get_block_manager_axis\u001b[49m\u001b[43m(\u001b[49m\u001b[43maxis\u001b[49m\u001b[43m)\u001b[49m\u001b[43m,\u001b[49m\n\u001b[0;32m   4071\u001b[0m \u001b[43m    \u001b[49m\u001b[43mverify\u001b[49m\u001b[38;5;241;43m=\u001b[39;49m\u001b[38;5;28;43;01mTrue\u001b[39;49;00m\u001b[43m,\u001b[49m\n\u001b[0;32m   4072\u001b[0m \u001b[43m\u001b[49m\u001b[43m)\u001b[49m\n\u001b[0;32m   4073\u001b[0m \u001b[38;5;28;01mreturn\u001b[39;00m \u001b[38;5;28mself\u001b[39m\u001b[38;5;241m.\u001b[39m_constructor_from_mgr(new_data, axes\u001b[38;5;241m=\u001b[39mnew_data\u001b[38;5;241m.\u001b[39maxes)\u001b[38;5;241m.\u001b[39m__finalize__(\n\u001b[0;32m   4074\u001b[0m     \u001b[38;5;28mself\u001b[39m, method\u001b[38;5;241m=\u001b[39m\u001b[38;5;124m\"\u001b[39m\u001b[38;5;124mtake\u001b[39m\u001b[38;5;124m\"\u001b[39m\n\u001b[0;32m   4075\u001b[0m )\n",
      "File \u001b[1;32m~\\AppData\\Local\\Programs\\Python\\Python311\\Lib\\site-packages\\pandas\\core\\internals\\managers.py:874\u001b[0m, in \u001b[0;36mBaseBlockManager.take\u001b[1;34m(self, indexer, axis, verify)\u001b[0m\n\u001b[0;32m    871\u001b[0m \u001b[38;5;66;03m# Caller is responsible for ensuring indexer annotation is accurate\u001b[39;00m\n\u001b[0;32m    873\u001b[0m n \u001b[38;5;241m=\u001b[39m \u001b[38;5;28mself\u001b[39m\u001b[38;5;241m.\u001b[39mshape[axis]\n\u001b[1;32m--> 874\u001b[0m indexer \u001b[38;5;241m=\u001b[39m \u001b[43mmaybe_convert_indices\u001b[49m\u001b[43m(\u001b[49m\u001b[43mindexer\u001b[49m\u001b[43m,\u001b[49m\u001b[43m \u001b[49m\u001b[43mn\u001b[49m\u001b[43m,\u001b[49m\u001b[43m \u001b[49m\u001b[43mverify\u001b[49m\u001b[38;5;241;43m=\u001b[39;49m\u001b[43mverify\u001b[49m\u001b[43m)\u001b[49m\n\u001b[0;32m    876\u001b[0m new_labels \u001b[38;5;241m=\u001b[39m \u001b[38;5;28mself\u001b[39m\u001b[38;5;241m.\u001b[39maxes[axis]\u001b[38;5;241m.\u001b[39mtake(indexer)\n\u001b[0;32m    877\u001b[0m \u001b[38;5;28;01mreturn\u001b[39;00m \u001b[38;5;28mself\u001b[39m\u001b[38;5;241m.\u001b[39mreindex_indexer(\n\u001b[0;32m    878\u001b[0m     new_axis\u001b[38;5;241m=\u001b[39mnew_labels,\n\u001b[0;32m    879\u001b[0m     indexer\u001b[38;5;241m=\u001b[39mindexer,\n\u001b[1;32m   (...)\u001b[0m\n\u001b[0;32m    882\u001b[0m     copy\u001b[38;5;241m=\u001b[39m\u001b[38;5;28;01mNone\u001b[39;00m,\n\u001b[0;32m    883\u001b[0m )\n",
      "File \u001b[1;32m~\\AppData\\Local\\Programs\\Python\\Python311\\Lib\\site-packages\\pandas\\core\\indexers\\utils.py:282\u001b[0m, in \u001b[0;36mmaybe_convert_indices\u001b[1;34m(indices, n, verify)\u001b[0m\n\u001b[0;32m    280\u001b[0m     mask \u001b[38;5;241m=\u001b[39m (indices \u001b[38;5;241m>\u001b[39m\u001b[38;5;241m=\u001b[39m n) \u001b[38;5;241m|\u001b[39m (indices \u001b[38;5;241m<\u001b[39m \u001b[38;5;241m0\u001b[39m)\n\u001b[0;32m    281\u001b[0m     \u001b[38;5;28;01mif\u001b[39;00m mask\u001b[38;5;241m.\u001b[39many():\n\u001b[1;32m--> 282\u001b[0m         \u001b[38;5;28;01mraise\u001b[39;00m \u001b[38;5;167;01mIndexError\u001b[39;00m(\u001b[38;5;124m\"\u001b[39m\u001b[38;5;124mindices are out-of-bounds\u001b[39m\u001b[38;5;124m\"\u001b[39m)\n\u001b[0;32m    283\u001b[0m \u001b[38;5;28;01mreturn\u001b[39;00m indices\n",
      "\u001b[1;31mIndexError\u001b[0m: indices are out-of-bounds"
     ]
    }
   ],
   "source": [
    "#number of columns in the dataset are 17\n",
    "#indexes are 0 to 16\n",
    "#if we pass the value 17  we will get error\n",
    "import pandas as pd\n",
    "file_path=\"E:\\\\DOWNLOADS\\\\bank.csv\"\n",
    "bank_dataset=pd.read_csv(file_path)\n",
    "bank_dataset.take([1,2,17],axis=1)  #axis =1 means retriving the spec ific columns \n"
   ]
  },
  {
   "cell_type": "markdown",
   "id": "bb4b18a0-e724-41d0-bd7c-ac539a7f88ac",
   "metadata": {},
   "source": [
    "**geting the specific row and column values using take**"
   ]
  },
  {
   "cell_type": "code",
   "execution_count": 96,
   "id": "81384a9f-8646-46cf-979b-b78e635f23cb",
   "metadata": {},
   "outputs": [
    {
     "data": {
      "text/html": [
       "<div>\n",
       "<style scoped>\n",
       "    .dataframe tbody tr th:only-of-type {\n",
       "        vertical-align: middle;\n",
       "    }\n",
       "\n",
       "    .dataframe tbody tr th {\n",
       "        vertical-align: top;\n",
       "    }\n",
       "\n",
       "    .dataframe thead th {\n",
       "        text-align: right;\n",
       "    }\n",
       "</style>\n",
       "<table border=\"1\" class=\"dataframe\">\n",
       "  <thead>\n",
       "    <tr style=\"text-align: right;\">\n",
       "      <th></th>\n",
       "      <th>job</th>\n",
       "      <th>marital</th>\n",
       "      <th>education</th>\n",
       "    </tr>\n",
       "  </thead>\n",
       "  <tbody>\n",
       "    <tr>\n",
       "      <th>4</th>\n",
       "      <td>blue-collar</td>\n",
       "      <td>married</td>\n",
       "      <td>secondary</td>\n",
       "    </tr>\n",
       "    <tr>\n",
       "      <th>5</th>\n",
       "      <td>management</td>\n",
       "      <td>single</td>\n",
       "      <td>tertiary</td>\n",
       "    </tr>\n",
       "    <tr>\n",
       "      <th>7</th>\n",
       "      <td>technician</td>\n",
       "      <td>married</td>\n",
       "      <td>secondary</td>\n",
       "    </tr>\n",
       "  </tbody>\n",
       "</table>\n",
       "</div>"
      ],
      "text/plain": [
       "           job  marital  education\n",
       "4  blue-collar  married  secondary\n",
       "5   management   single   tertiary\n",
       "7   technician  married  secondary"
      ]
     },
     "execution_count": 96,
     "metadata": {},
     "output_type": "execute_result"
    }
   ],
   "source": [
    "import pandas as pd\n",
    "file_path=\"E:\\\\DOWNLOADS\\\\bank.csv\"\n",
    "bank_dataset=pd.read_csv(file_path)\n",
    "bank_dataset.take([1,2,3],axis=1).take([4,5,7])\n"
   ]
  },
  {
   "cell_type": "markdown",
   "id": "54cd766d-1189-4e7a-91ab-cf49dfb75b51",
   "metadata": {},
   "source": [
    "**loc and iloc**"
   ]
  },
  {
   "cell_type": "markdown",
   "id": "095ef85a-ddbb-4714-9cbc-c4429c4bcc04",
   "metadata": {},
   "source": [
    "**loc**"
   ]
  },
  {
   "cell_type": "code",
   "execution_count": null,
   "id": "6f63ff0a-39aa-4f69-803c-27c8180f2854",
   "metadata": {},
   "outputs": [],
   "source": [
    "The loc() function is label based data selecting method which means that we have to pass the name of the row or column which we want to select.\n",
    "This method includes the last element of the range passed in it,"
   ]
  },
  {
   "cell_type": "markdown",
   "id": "150250b0-fdb0-46e3-addf-6183f350414b",
   "metadata": {},
   "source": [
    "**1) dataframe_name.loc[row_number]**"
   ]
  },
  {
   "cell_type": "code",
   "execution_count": 97,
   "id": "fab3d811-751d-4035-b02e-888244aa1063",
   "metadata": {},
   "outputs": [
    {
     "data": {
      "text/plain": [
       "age                  30\n",
       "job          management\n",
       "marital         married\n",
       "education      tertiary\n",
       "default              no\n",
       "balance            1476\n",
       "housing             yes\n",
       "loan                yes\n",
       "contact         unknown\n",
       "day                   3\n",
       "month               jun\n",
       "duration            199\n",
       "campaign              4\n",
       "pdays                -1\n",
       "previous              0\n",
       "poutcome        unknown\n",
       "y                    no\n",
       "Name: 3, dtype: object"
      ]
     },
     "execution_count": 97,
     "metadata": {},
     "output_type": "execute_result"
    }
   ],
   "source": [
    "import pandas as pd\n",
    "file_path=\"E:\\\\DOWNLOADS\\\\bank.csv\"\n",
    "bank_dataset=pd.read_csv(file_path)\n",
    "bank_dataset.loc[3] # it will ghive all the columns values of row 3\n"
   ]
  },
  {
   "cell_type": "markdown",
   "id": "3980c3fe-a62c-4655-a6d5-16a1697ced01",
   "metadata": {},
   "source": [
    "**2) dataframe_name.loc[row_number,[columnname,....]]**"
   ]
  },
  {
   "cell_type": "code",
   "execution_count": 98,
   "id": "304f8297-2dda-4aea-ad8f-ee90b0efd44d",
   "metadata": {},
   "outputs": [
    {
     "data": {
      "text/plain": [
       "age    30\n",
       "Name: 3, dtype: object"
      ]
     },
     "execution_count": 98,
     "metadata": {},
     "output_type": "execute_result"
    }
   ],
   "source": [
    "import pandas as pd\n",
    "file_path=\"E:\\\\DOWNLOADS\\\\bank.csv\"\n",
    "bank_dataset=pd.read_csv(file_path)\n",
    "bank_dataset.loc[3,['age']] # it will print rows values for specific columns"
   ]
  },
  {
   "cell_type": "code",
   "execution_count": 99,
   "id": "1f0574bd-75ff-43ee-b892-3429877fe53a",
   "metadata": {},
   "outputs": [
    {
     "data": {
      "text/plain": [
       "age          30\n",
       "balance    1476\n",
       "Name: 3, dtype: object"
      ]
     },
     "execution_count": 99,
     "metadata": {},
     "output_type": "execute_result"
    }
   ],
   "source": [
    "import pandas as pd\n",
    "file_path=\"E:\\\\DOWNLOADS\\\\bank.csv\"\n",
    "bank_dataset=pd.read_csv(file_path)\n",
    "bank_dataset.loc[3,['age','balance']]"
   ]
  },
  {
   "cell_type": "markdown",
   "id": "5db76a3d-0d00-4d95-94f4-8cfeda5641be",
   "metadata": {},
   "source": [
    "**3) dataframe_name.loc[start:stop]**\n",
    "- start means start index value\n",
    "- end means end index value which is included"
   ]
  },
  {
   "cell_type": "code",
   "execution_count": 101,
   "id": "ecf5e893-4ec1-42d1-a710-c9a3e5dc141e",
   "metadata": {},
   "outputs": [
    {
     "data": {
      "text/html": [
       "<div>\n",
       "<style scoped>\n",
       "    .dataframe tbody tr th:only-of-type {\n",
       "        vertical-align: middle;\n",
       "    }\n",
       "\n",
       "    .dataframe tbody tr th {\n",
       "        vertical-align: top;\n",
       "    }\n",
       "\n",
       "    .dataframe thead th {\n",
       "        text-align: right;\n",
       "    }\n",
       "</style>\n",
       "<table border=\"1\" class=\"dataframe\">\n",
       "  <thead>\n",
       "    <tr style=\"text-align: right;\">\n",
       "      <th></th>\n",
       "      <th>age</th>\n",
       "      <th>job</th>\n",
       "      <th>marital</th>\n",
       "      <th>education</th>\n",
       "      <th>default</th>\n",
       "      <th>balance</th>\n",
       "      <th>housing</th>\n",
       "      <th>loan</th>\n",
       "      <th>contact</th>\n",
       "      <th>day</th>\n",
       "      <th>month</th>\n",
       "      <th>duration</th>\n",
       "      <th>campaign</th>\n",
       "      <th>pdays</th>\n",
       "      <th>previous</th>\n",
       "      <th>poutcome</th>\n",
       "      <th>y</th>\n",
       "    </tr>\n",
       "  </thead>\n",
       "  <tbody>\n",
       "    <tr>\n",
       "      <th>3</th>\n",
       "      <td>30</td>\n",
       "      <td>management</td>\n",
       "      <td>married</td>\n",
       "      <td>tertiary</td>\n",
       "      <td>no</td>\n",
       "      <td>1476</td>\n",
       "      <td>yes</td>\n",
       "      <td>yes</td>\n",
       "      <td>unknown</td>\n",
       "      <td>3</td>\n",
       "      <td>jun</td>\n",
       "      <td>199</td>\n",
       "      <td>4</td>\n",
       "      <td>-1</td>\n",
       "      <td>0</td>\n",
       "      <td>unknown</td>\n",
       "      <td>no</td>\n",
       "    </tr>\n",
       "    <tr>\n",
       "      <th>4</th>\n",
       "      <td>59</td>\n",
       "      <td>blue-collar</td>\n",
       "      <td>married</td>\n",
       "      <td>secondary</td>\n",
       "      <td>no</td>\n",
       "      <td>0</td>\n",
       "      <td>yes</td>\n",
       "      <td>no</td>\n",
       "      <td>unknown</td>\n",
       "      <td>5</td>\n",
       "      <td>may</td>\n",
       "      <td>226</td>\n",
       "      <td>1</td>\n",
       "      <td>-1</td>\n",
       "      <td>0</td>\n",
       "      <td>unknown</td>\n",
       "      <td>no</td>\n",
       "    </tr>\n",
       "    <tr>\n",
       "      <th>5</th>\n",
       "      <td>35</td>\n",
       "      <td>management</td>\n",
       "      <td>single</td>\n",
       "      <td>tertiary</td>\n",
       "      <td>no</td>\n",
       "      <td>747</td>\n",
       "      <td>no</td>\n",
       "      <td>no</td>\n",
       "      <td>cellular</td>\n",
       "      <td>23</td>\n",
       "      <td>feb</td>\n",
       "      <td>141</td>\n",
       "      <td>2</td>\n",
       "      <td>176</td>\n",
       "      <td>3</td>\n",
       "      <td>failure</td>\n",
       "      <td>no</td>\n",
       "    </tr>\n",
       "  </tbody>\n",
       "</table>\n",
       "</div>"
      ],
      "text/plain": [
       "   age          job  marital  education default  balance housing loan  \\\n",
       "3   30   management  married   tertiary      no     1476     yes  yes   \n",
       "4   59  blue-collar  married  secondary      no        0     yes   no   \n",
       "5   35   management   single   tertiary      no      747      no   no   \n",
       "\n",
       "    contact  day month  duration  campaign  pdays  previous poutcome   y  \n",
       "3   unknown    3   jun       199         4     -1         0  unknown  no  \n",
       "4   unknown    5   may       226         1     -1         0  unknown  no  \n",
       "5  cellular   23   feb       141         2    176         3  failure  no  "
      ]
     },
     "execution_count": 101,
     "metadata": {},
     "output_type": "execute_result"
    }
   ],
   "source": [
    "import pandas as pd\n",
    "file_path=\"E:\\\\DOWNLOADS\\\\bank.csv\"\n",
    "bank_dataset=pd.read_csv(file_path)\n",
    "bank_dataset.loc[3:5] "
   ]
  },
  {
   "cell_type": "markdown",
   "id": "70a3c0cd-5f45-485b-9781-6c7ff181e242",
   "metadata": {},
   "source": [
    "**4) dataframe_name.loc[start:stop,[\"columns_names,....\"]]**"
   ]
  },
  {
   "cell_type": "code",
   "execution_count": 106,
   "id": "f7df3740-3458-4010-9f10-238dae0b2d51",
   "metadata": {},
   "outputs": [
    {
     "data": {
      "text/html": [
       "<div>\n",
       "<style scoped>\n",
       "    .dataframe tbody tr th:only-of-type {\n",
       "        vertical-align: middle;\n",
       "    }\n",
       "\n",
       "    .dataframe tbody tr th {\n",
       "        vertical-align: top;\n",
       "    }\n",
       "\n",
       "    .dataframe thead th {\n",
       "        text-align: right;\n",
       "    }\n",
       "</style>\n",
       "<table border=\"1\" class=\"dataframe\">\n",
       "  <thead>\n",
       "    <tr style=\"text-align: right;\">\n",
       "      <th></th>\n",
       "      <th>age</th>\n",
       "    </tr>\n",
       "  </thead>\n",
       "  <tbody>\n",
       "    <tr>\n",
       "      <th>3</th>\n",
       "      <td>30</td>\n",
       "    </tr>\n",
       "    <tr>\n",
       "      <th>4</th>\n",
       "      <td>59</td>\n",
       "    </tr>\n",
       "    <tr>\n",
       "      <th>5</th>\n",
       "      <td>35</td>\n",
       "    </tr>\n",
       "  </tbody>\n",
       "</table>\n",
       "</div>"
      ],
      "text/plain": [
       "   age\n",
       "3   30\n",
       "4   59\n",
       "5   35"
      ]
     },
     "execution_count": 106,
     "metadata": {},
     "output_type": "execute_result"
    }
   ],
   "source": [
    "import pandas as pd\n",
    "file_path=\"E:\\\\DOWNLOADS\\\\bank.csv\"\n",
    "bank_dataset=pd.read_csv(file_path)\n",
    "bank_dataset.loc[3:5,['age']] "
   ]
  },
  {
   "cell_type": "code",
   "execution_count": 105,
   "id": "216ba5a4-5695-4e37-b3f1-54e46e8cfd21",
   "metadata": {},
   "outputs": [
    {
     "data": {
      "text/html": [
       "<div>\n",
       "<style scoped>\n",
       "    .dataframe tbody tr th:only-of-type {\n",
       "        vertical-align: middle;\n",
       "    }\n",
       "\n",
       "    .dataframe tbody tr th {\n",
       "        vertical-align: top;\n",
       "    }\n",
       "\n",
       "    .dataframe thead th {\n",
       "        text-align: right;\n",
       "    }\n",
       "</style>\n",
       "<table border=\"1\" class=\"dataframe\">\n",
       "  <thead>\n",
       "    <tr style=\"text-align: right;\">\n",
       "      <th></th>\n",
       "      <th>age</th>\n",
       "      <th>balance</th>\n",
       "    </tr>\n",
       "  </thead>\n",
       "  <tbody>\n",
       "    <tr>\n",
       "      <th>3</th>\n",
       "      <td>30</td>\n",
       "      <td>1476</td>\n",
       "    </tr>\n",
       "    <tr>\n",
       "      <th>4</th>\n",
       "      <td>59</td>\n",
       "      <td>0</td>\n",
       "    </tr>\n",
       "    <tr>\n",
       "      <th>5</th>\n",
       "      <td>35</td>\n",
       "      <td>747</td>\n",
       "    </tr>\n",
       "  </tbody>\n",
       "</table>\n",
       "</div>"
      ],
      "text/plain": [
       "   age  balance\n",
       "3   30     1476\n",
       "4   59        0\n",
       "5   35      747"
      ]
     },
     "execution_count": 105,
     "metadata": {},
     "output_type": "execute_result"
    }
   ],
   "source": [
    "import pandas as pd\n",
    "file_path=\"E:\\\\DOWNLOADS\\\\bank.csv\"\n",
    "bank_dataset=pd.read_csv(file_path)\n",
    "bank_dataset.loc[3:5,['age','balance']]"
   ]
  },
  {
   "cell_type": "markdown",
   "id": "d11ec81e-ea3c-46b5-8045-2547f8bbfb61",
   "metadata": {},
   "source": [
    "**5) dataframe_name.loc[start:stop,\"column1\":\"columnn\"]**"
   ]
  },
  {
   "cell_type": "code",
   "execution_count": 108,
   "id": "1231a684-1ca5-4db7-b9a2-8f44517746f1",
   "metadata": {},
   "outputs": [
    {
     "data": {
      "text/html": [
       "<div>\n",
       "<style scoped>\n",
       "    .dataframe tbody tr th:only-of-type {\n",
       "        vertical-align: middle;\n",
       "    }\n",
       "\n",
       "    .dataframe tbody tr th {\n",
       "        vertical-align: top;\n",
       "    }\n",
       "\n",
       "    .dataframe thead th {\n",
       "        text-align: right;\n",
       "    }\n",
       "</style>\n",
       "<table border=\"1\" class=\"dataframe\">\n",
       "  <thead>\n",
       "    <tr style=\"text-align: right;\">\n",
       "      <th></th>\n",
       "      <th>age</th>\n",
       "      <th>job</th>\n",
       "      <th>marital</th>\n",
       "      <th>education</th>\n",
       "      <th>default</th>\n",
       "      <th>balance</th>\n",
       "    </tr>\n",
       "  </thead>\n",
       "  <tbody>\n",
       "    <tr>\n",
       "      <th>3</th>\n",
       "      <td>30</td>\n",
       "      <td>management</td>\n",
       "      <td>married</td>\n",
       "      <td>tertiary</td>\n",
       "      <td>no</td>\n",
       "      <td>1476</td>\n",
       "    </tr>\n",
       "    <tr>\n",
       "      <th>4</th>\n",
       "      <td>59</td>\n",
       "      <td>blue-collar</td>\n",
       "      <td>married</td>\n",
       "      <td>secondary</td>\n",
       "      <td>no</td>\n",
       "      <td>0</td>\n",
       "    </tr>\n",
       "    <tr>\n",
       "      <th>5</th>\n",
       "      <td>35</td>\n",
       "      <td>management</td>\n",
       "      <td>single</td>\n",
       "      <td>tertiary</td>\n",
       "      <td>no</td>\n",
       "      <td>747</td>\n",
       "    </tr>\n",
       "  </tbody>\n",
       "</table>\n",
       "</div>"
      ],
      "text/plain": [
       "   age          job  marital  education default  balance\n",
       "3   30   management  married   tertiary      no     1476\n",
       "4   59  blue-collar  married  secondary      no        0\n",
       "5   35   management   single   tertiary      no      747"
      ]
     },
     "execution_count": 108,
     "metadata": {},
     "output_type": "execute_result"
    }
   ],
   "source": [
    "import pandas as pd\n",
    "file_path=\"E:\\\\DOWNLOADS\\\\bank.csv\"\n",
    "bank_dataset=pd.read_csv(file_path)\n",
    "bank_dataset.loc[3:5,'age':'balance']"
   ]
  },
  {
   "cell_type": "code",
   "execution_count": null,
   "id": "3c39cb0d-a3cc-4871-896a-41610a15c408",
   "metadata": {},
   "outputs": [],
   "source": []
  },
  {
   "cell_type": "markdown",
   "id": "f3652342-9769-486d-a32c-10fac50a6d0f",
   "metadata": {},
   "source": [
    "**more operations using loc**"
   ]
  },
  {
   "cell_type": "code",
   "execution_count": 118,
   "id": "1b95c438-3ad8-40e5-85a5-5272f069a8be",
   "metadata": {},
   "outputs": [
    {
     "data": {
      "text/html": [
       "<div>\n",
       "<style scoped>\n",
       "    .dataframe tbody tr th:only-of-type {\n",
       "        vertical-align: middle;\n",
       "    }\n",
       "\n",
       "    .dataframe tbody tr th {\n",
       "        vertical-align: top;\n",
       "    }\n",
       "\n",
       "    .dataframe thead th {\n",
       "        text-align: right;\n",
       "    }\n",
       "</style>\n",
       "<table border=\"1\" class=\"dataframe\">\n",
       "  <thead>\n",
       "    <tr style=\"text-align: right;\">\n",
       "      <th></th>\n",
       "      <th>age</th>\n",
       "      <th>job</th>\n",
       "      <th>marital</th>\n",
       "      <th>education</th>\n",
       "      <th>default</th>\n",
       "      <th>balance</th>\n",
       "      <th>housing</th>\n",
       "      <th>loan</th>\n",
       "      <th>contact</th>\n",
       "      <th>day</th>\n",
       "      <th>month</th>\n",
       "      <th>duration</th>\n",
       "      <th>campaign</th>\n",
       "      <th>pdays</th>\n",
       "      <th>previous</th>\n",
       "      <th>poutcome</th>\n",
       "      <th>y</th>\n",
       "    </tr>\n",
       "  </thead>\n",
       "  <tbody>\n",
       "    <tr>\n",
       "      <th>1211</th>\n",
       "      <td>66</td>\n",
       "      <td>admin.</td>\n",
       "      <td>single</td>\n",
       "      <td>secondary</td>\n",
       "      <td>no</td>\n",
       "      <td>10177</td>\n",
       "      <td>no</td>\n",
       "      <td>no</td>\n",
       "      <td>cellular</td>\n",
       "      <td>5</td>\n",
       "      <td>may</td>\n",
       "      <td>272</td>\n",
       "      <td>4</td>\n",
       "      <td>-1</td>\n",
       "      <td>0</td>\n",
       "      <td>unknown</td>\n",
       "      <td>no</td>\n",
       "    </tr>\n",
       "    <tr>\n",
       "      <th>3490</th>\n",
       "      <td>66</td>\n",
       "      <td>management</td>\n",
       "      <td>single</td>\n",
       "      <td>tertiary</td>\n",
       "      <td>no</td>\n",
       "      <td>6483</td>\n",
       "      <td>no</td>\n",
       "      <td>no</td>\n",
       "      <td>cellular</td>\n",
       "      <td>13</td>\n",
       "      <td>aug</td>\n",
       "      <td>275</td>\n",
       "      <td>1</td>\n",
       "      <td>-1</td>\n",
       "      <td>0</td>\n",
       "      <td>unknown</td>\n",
       "      <td>no</td>\n",
       "    </tr>\n",
       "    <tr>\n",
       "      <th>4093</th>\n",
       "      <td>69</td>\n",
       "      <td>retired</td>\n",
       "      <td>single</td>\n",
       "      <td>tertiary</td>\n",
       "      <td>no</td>\n",
       "      <td>2144</td>\n",
       "      <td>no</td>\n",
       "      <td>no</td>\n",
       "      <td>cellular</td>\n",
       "      <td>29</td>\n",
       "      <td>jul</td>\n",
       "      <td>417</td>\n",
       "      <td>1</td>\n",
       "      <td>184</td>\n",
       "      <td>4</td>\n",
       "      <td>success</td>\n",
       "      <td>yes</td>\n",
       "    </tr>\n",
       "  </tbody>\n",
       "</table>\n",
       "</div>"
      ],
      "text/plain": [
       "      age         job marital  education default  balance housing loan  \\\n",
       "1211   66      admin.  single  secondary      no    10177      no   no   \n",
       "3490   66  management  single   tertiary      no     6483      no   no   \n",
       "4093   69     retired  single   tertiary      no     2144      no   no   \n",
       "\n",
       "       contact  day month  duration  campaign  pdays  previous poutcome    y  \n",
       "1211  cellular    5   may       272         4     -1         0  unknown   no  \n",
       "3490  cellular   13   aug       275         1     -1         0  unknown   no  \n",
       "4093  cellular   29   jul       417         1    184         4  success  yes  "
      ]
     },
     "execution_count": 118,
     "metadata": {},
     "output_type": "execute_result"
    }
   ],
   "source": [
    "bank_dataset.loc[(bank_dataset.marital==\"single\") & (bank_dataset.age>60)]"
   ]
  },
  {
   "cell_type": "code",
   "execution_count": 119,
   "id": "680cb72e-c368-40c8-a164-89f7d6b292b2",
   "metadata": {},
   "outputs": [
    {
     "data": {
      "text/html": [
       "<div>\n",
       "<style scoped>\n",
       "    .dataframe tbody tr th:only-of-type {\n",
       "        vertical-align: middle;\n",
       "    }\n",
       "\n",
       "    .dataframe tbody tr th {\n",
       "        vertical-align: top;\n",
       "    }\n",
       "\n",
       "    .dataframe thead th {\n",
       "        text-align: right;\n",
       "    }\n",
       "</style>\n",
       "<table border=\"1\" class=\"dataframe\">\n",
       "  <thead>\n",
       "    <tr style=\"text-align: right;\">\n",
       "      <th></th>\n",
       "      <th>age</th>\n",
       "      <th>job</th>\n",
       "      <th>marital</th>\n",
       "      <th>education</th>\n",
       "      <th>default</th>\n",
       "      <th>balance</th>\n",
       "      <th>housing</th>\n",
       "      <th>loan</th>\n",
       "      <th>contact</th>\n",
       "      <th>day</th>\n",
       "      <th>month</th>\n",
       "      <th>duration</th>\n",
       "      <th>campaign</th>\n",
       "      <th>pdays</th>\n",
       "      <th>previous</th>\n",
       "      <th>poutcome</th>\n",
       "      <th>y</th>\n",
       "    </tr>\n",
       "  </thead>\n",
       "  <tbody>\n",
       "    <tr>\n",
       "      <th>2</th>\n",
       "      <td>35</td>\n",
       "      <td>management</td>\n",
       "      <td>single</td>\n",
       "      <td>tertiary</td>\n",
       "      <td>no</td>\n",
       "      <td>1350</td>\n",
       "      <td>yes</td>\n",
       "      <td>no</td>\n",
       "      <td>cellular</td>\n",
       "      <td>16</td>\n",
       "      <td>apr</td>\n",
       "      <td>185</td>\n",
       "      <td>1</td>\n",
       "      <td>330</td>\n",
       "      <td>1</td>\n",
       "      <td>failure</td>\n",
       "      <td>no</td>\n",
       "    </tr>\n",
       "    <tr>\n",
       "      <th>5</th>\n",
       "      <td>35</td>\n",
       "      <td>management</td>\n",
       "      <td>single</td>\n",
       "      <td>tertiary</td>\n",
       "      <td>no</td>\n",
       "      <td>747</td>\n",
       "      <td>no</td>\n",
       "      <td>no</td>\n",
       "      <td>cellular</td>\n",
       "      <td>23</td>\n",
       "      <td>feb</td>\n",
       "      <td>141</td>\n",
       "      <td>2</td>\n",
       "      <td>176</td>\n",
       "      <td>3</td>\n",
       "      <td>failure</td>\n",
       "      <td>no</td>\n",
       "    </tr>\n",
       "    <tr>\n",
       "      <th>13</th>\n",
       "      <td>20</td>\n",
       "      <td>student</td>\n",
       "      <td>single</td>\n",
       "      <td>secondary</td>\n",
       "      <td>no</td>\n",
       "      <td>502</td>\n",
       "      <td>no</td>\n",
       "      <td>no</td>\n",
       "      <td>cellular</td>\n",
       "      <td>30</td>\n",
       "      <td>apr</td>\n",
       "      <td>261</td>\n",
       "      <td>1</td>\n",
       "      <td>-1</td>\n",
       "      <td>0</td>\n",
       "      <td>unknown</td>\n",
       "      <td>yes</td>\n",
       "    </tr>\n",
       "    <tr>\n",
       "      <th>17</th>\n",
       "      <td>37</td>\n",
       "      <td>admin.</td>\n",
       "      <td>single</td>\n",
       "      <td>tertiary</td>\n",
       "      <td>no</td>\n",
       "      <td>2317</td>\n",
       "      <td>yes</td>\n",
       "      <td>no</td>\n",
       "      <td>cellular</td>\n",
       "      <td>20</td>\n",
       "      <td>apr</td>\n",
       "      <td>114</td>\n",
       "      <td>1</td>\n",
       "      <td>152</td>\n",
       "      <td>2</td>\n",
       "      <td>failure</td>\n",
       "      <td>no</td>\n",
       "    </tr>\n",
       "    <tr>\n",
       "      <th>18</th>\n",
       "      <td>25</td>\n",
       "      <td>blue-collar</td>\n",
       "      <td>single</td>\n",
       "      <td>primary</td>\n",
       "      <td>no</td>\n",
       "      <td>-221</td>\n",
       "      <td>yes</td>\n",
       "      <td>no</td>\n",
       "      <td>unknown</td>\n",
       "      <td>23</td>\n",
       "      <td>may</td>\n",
       "      <td>250</td>\n",
       "      <td>1</td>\n",
       "      <td>-1</td>\n",
       "      <td>0</td>\n",
       "      <td>unknown</td>\n",
       "      <td>no</td>\n",
       "    </tr>\n",
       "    <tr>\n",
       "      <th>...</th>\n",
       "      <td>...</td>\n",
       "      <td>...</td>\n",
       "      <td>...</td>\n",
       "      <td>...</td>\n",
       "      <td>...</td>\n",
       "      <td>...</td>\n",
       "      <td>...</td>\n",
       "      <td>...</td>\n",
       "      <td>...</td>\n",
       "      <td>...</td>\n",
       "      <td>...</td>\n",
       "      <td>...</td>\n",
       "      <td>...</td>\n",
       "      <td>...</td>\n",
       "      <td>...</td>\n",
       "      <td>...</td>\n",
       "      <td>...</td>\n",
       "    </tr>\n",
       "    <tr>\n",
       "      <th>4497</th>\n",
       "      <td>31</td>\n",
       "      <td>entrepreneur</td>\n",
       "      <td>single</td>\n",
       "      <td>tertiary</td>\n",
       "      <td>no</td>\n",
       "      <td>38</td>\n",
       "      <td>no</td>\n",
       "      <td>no</td>\n",
       "      <td>cellular</td>\n",
       "      <td>20</td>\n",
       "      <td>nov</td>\n",
       "      <td>185</td>\n",
       "      <td>2</td>\n",
       "      <td>-1</td>\n",
       "      <td>0</td>\n",
       "      <td>unknown</td>\n",
       "      <td>no</td>\n",
       "    </tr>\n",
       "    <tr>\n",
       "      <th>4504</th>\n",
       "      <td>42</td>\n",
       "      <td>blue-collar</td>\n",
       "      <td>single</td>\n",
       "      <td>secondary</td>\n",
       "      <td>no</td>\n",
       "      <td>1080</td>\n",
       "      <td>yes</td>\n",
       "      <td>yes</td>\n",
       "      <td>cellular</td>\n",
       "      <td>13</td>\n",
       "      <td>may</td>\n",
       "      <td>951</td>\n",
       "      <td>3</td>\n",
       "      <td>370</td>\n",
       "      <td>4</td>\n",
       "      <td>failure</td>\n",
       "      <td>yes</td>\n",
       "    </tr>\n",
       "    <tr>\n",
       "      <th>4505</th>\n",
       "      <td>32</td>\n",
       "      <td>admin.</td>\n",
       "      <td>single</td>\n",
       "      <td>secondary</td>\n",
       "      <td>no</td>\n",
       "      <td>620</td>\n",
       "      <td>yes</td>\n",
       "      <td>no</td>\n",
       "      <td>unknown</td>\n",
       "      <td>26</td>\n",
       "      <td>may</td>\n",
       "      <td>1234</td>\n",
       "      <td>3</td>\n",
       "      <td>-1</td>\n",
       "      <td>0</td>\n",
       "      <td>unknown</td>\n",
       "      <td>yes</td>\n",
       "    </tr>\n",
       "    <tr>\n",
       "      <th>4515</th>\n",
       "      <td>32</td>\n",
       "      <td>services</td>\n",
       "      <td>single</td>\n",
       "      <td>secondary</td>\n",
       "      <td>no</td>\n",
       "      <td>473</td>\n",
       "      <td>yes</td>\n",
       "      <td>no</td>\n",
       "      <td>cellular</td>\n",
       "      <td>7</td>\n",
       "      <td>jul</td>\n",
       "      <td>624</td>\n",
       "      <td>5</td>\n",
       "      <td>-1</td>\n",
       "      <td>0</td>\n",
       "      <td>unknown</td>\n",
       "      <td>no</td>\n",
       "    </tr>\n",
       "    <tr>\n",
       "      <th>4520</th>\n",
       "      <td>44</td>\n",
       "      <td>entrepreneur</td>\n",
       "      <td>single</td>\n",
       "      <td>tertiary</td>\n",
       "      <td>no</td>\n",
       "      <td>1136</td>\n",
       "      <td>yes</td>\n",
       "      <td>yes</td>\n",
       "      <td>cellular</td>\n",
       "      <td>3</td>\n",
       "      <td>apr</td>\n",
       "      <td>345</td>\n",
       "      <td>2</td>\n",
       "      <td>249</td>\n",
       "      <td>7</td>\n",
       "      <td>other</td>\n",
       "      <td>no</td>\n",
       "    </tr>\n",
       "  </tbody>\n",
       "</table>\n",
       "<p>1320 rows × 17 columns</p>\n",
       "</div>"
      ],
      "text/plain": [
       "      age           job marital  education default  balance housing loan  \\\n",
       "2      35    management  single   tertiary      no     1350     yes   no   \n",
       "5      35    management  single   tertiary      no      747      no   no   \n",
       "13     20       student  single  secondary      no      502      no   no   \n",
       "17     37        admin.  single   tertiary      no     2317     yes   no   \n",
       "18     25   blue-collar  single    primary      no     -221     yes   no   \n",
       "...   ...           ...     ...        ...     ...      ...     ...  ...   \n",
       "4497   31  entrepreneur  single   tertiary      no       38      no   no   \n",
       "4504   42   blue-collar  single  secondary      no     1080     yes  yes   \n",
       "4505   32        admin.  single  secondary      no      620     yes   no   \n",
       "4515   32      services  single  secondary      no      473     yes   no   \n",
       "4520   44  entrepreneur  single   tertiary      no     1136     yes  yes   \n",
       "\n",
       "       contact  day month  duration  campaign  pdays  previous poutcome    y  \n",
       "2     cellular   16   apr       185         1    330         1  failure   no  \n",
       "5     cellular   23   feb       141         2    176         3  failure   no  \n",
       "13    cellular   30   apr       261         1     -1         0  unknown  yes  \n",
       "17    cellular   20   apr       114         1    152         2  failure   no  \n",
       "18     unknown   23   may       250         1     -1         0  unknown   no  \n",
       "...        ...  ...   ...       ...       ...    ...       ...      ...  ...  \n",
       "4497  cellular   20   nov       185         2     -1         0  unknown   no  \n",
       "4504  cellular   13   may       951         3    370         4  failure  yes  \n",
       "4505   unknown   26   may      1234         3     -1         0  unknown  yes  \n",
       "4515  cellular    7   jul       624         5     -1         0  unknown   no  \n",
       "4520  cellular    3   apr       345         2    249         7    other   no  \n",
       "\n",
       "[1320 rows x 17 columns]"
      ]
     },
     "execution_count": 119,
     "metadata": {},
     "output_type": "execute_result"
    }
   ],
   "source": [
    "bank_dataset.loc[(bank_dataset.marital==\"single\") | (bank_dataset.age>60)]"
   ]
  },
  {
   "cell_type": "code",
   "execution_count": 121,
   "id": "57342b30-01b6-45d3-9e5c-ee84acd344e9",
   "metadata": {},
   "outputs": [
    {
     "data": {
      "text/html": [
       "<div>\n",
       "<style scoped>\n",
       "    .dataframe tbody tr th:only-of-type {\n",
       "        vertical-align: middle;\n",
       "    }\n",
       "\n",
       "    .dataframe tbody tr th {\n",
       "        vertical-align: top;\n",
       "    }\n",
       "\n",
       "    .dataframe thead th {\n",
       "        text-align: right;\n",
       "    }\n",
       "</style>\n",
       "<table border=\"1\" class=\"dataframe\">\n",
       "  <thead>\n",
       "    <tr style=\"text-align: right;\">\n",
       "      <th></th>\n",
       "      <th>marital</th>\n",
       "      <th>loan</th>\n",
       "    </tr>\n",
       "  </thead>\n",
       "  <tbody>\n",
       "    <tr>\n",
       "      <th>2</th>\n",
       "      <td>single</td>\n",
       "      <td>no</td>\n",
       "    </tr>\n",
       "    <tr>\n",
       "      <th>5</th>\n",
       "      <td>single</td>\n",
       "      <td>no</td>\n",
       "    </tr>\n",
       "    <tr>\n",
       "      <th>13</th>\n",
       "      <td>single</td>\n",
       "      <td>no</td>\n",
       "    </tr>\n",
       "    <tr>\n",
       "      <th>17</th>\n",
       "      <td>single</td>\n",
       "      <td>no</td>\n",
       "    </tr>\n",
       "    <tr>\n",
       "      <th>18</th>\n",
       "      <td>single</td>\n",
       "      <td>no</td>\n",
       "    </tr>\n",
       "    <tr>\n",
       "      <th>...</th>\n",
       "      <td>...</td>\n",
       "      <td>...</td>\n",
       "    </tr>\n",
       "    <tr>\n",
       "      <th>4497</th>\n",
       "      <td>single</td>\n",
       "      <td>no</td>\n",
       "    </tr>\n",
       "    <tr>\n",
       "      <th>4504</th>\n",
       "      <td>single</td>\n",
       "      <td>yes</td>\n",
       "    </tr>\n",
       "    <tr>\n",
       "      <th>4505</th>\n",
       "      <td>single</td>\n",
       "      <td>no</td>\n",
       "    </tr>\n",
       "    <tr>\n",
       "      <th>4515</th>\n",
       "      <td>single</td>\n",
       "      <td>no</td>\n",
       "    </tr>\n",
       "    <tr>\n",
       "      <th>4520</th>\n",
       "      <td>single</td>\n",
       "      <td>yes</td>\n",
       "    </tr>\n",
       "  </tbody>\n",
       "</table>\n",
       "<p>1196 rows × 2 columns</p>\n",
       "</div>"
      ],
      "text/plain": [
       "     marital loan\n",
       "2     single   no\n",
       "5     single   no\n",
       "13    single   no\n",
       "17    single   no\n",
       "18    single   no\n",
       "...      ...  ...\n",
       "4497  single   no\n",
       "4504  single  yes\n",
       "4505  single   no\n",
       "4515  single   no\n",
       "4520  single  yes\n",
       "\n",
       "[1196 rows x 2 columns]"
      ]
     },
     "execution_count": 121,
     "metadata": {},
     "output_type": "execute_result"
    }
   ],
   "source": [
    "bank_dataset.loc[(bank_dataset.marital==\"single\"),['marital','loan']]"
   ]
  },
  {
   "cell_type": "markdown",
   "id": "7bda4228-6387-47a9-8814-440480cab797",
   "metadata": {},
   "source": [
    "**iloc**"
   ]
  },
  {
   "cell_type": "code",
   "execution_count": null,
   "id": "5d7841a0-fc53-4d27-ae74-9547a93124ff",
   "metadata": {},
   "outputs": [],
   "source": [
    "The iloc() function is an indexed-based selecting method which means that we have to pass an integer index in the method to select a specific row/column.\n",
    "This method does not include the last element of the range passed in it"
   ]
  },
  {
   "cell_type": "markdown",
   "id": "c420019d-ddc3-414e-9739-a9a111f8bf83",
   "metadata": {},
   "source": [
    "**1) dataframe_name.iloc[row_number,column_number]**"
   ]
  },
  {
   "cell_type": "code",
   "execution_count": 129,
   "id": "4d5b996b-5ca0-4414-bd29-d25e657952c7",
   "metadata": {},
   "outputs": [
    {
     "data": {
      "text/plain": [
       "1476"
      ]
     },
     "execution_count": 129,
     "metadata": {},
     "output_type": "execute_result"
    }
   ],
   "source": [
    "import pandas as pd\n",
    "file_path=\"E:\\\\DOWNLOADS\\\\bank.csv\"\n",
    "bank_dataset=pd.read_csv(file_path)\n",
    "bank_dataset.iloc[3,5]"
   ]
  },
  {
   "cell_type": "markdown",
   "id": "2605fc3f-d1ff-4d47-a79b-ba2c3cbfe085",
   "metadata": {},
   "source": [
    "**2) dataframe_name.loc[row_start:row_stop,col_start:col_stop]**"
   ]
  },
  {
   "cell_type": "code",
   "execution_count": 131,
   "id": "78b29df8-4d65-4b75-814a-d78c94d1690d",
   "metadata": {},
   "outputs": [
    {
     "data": {
      "text/html": [
       "<div>\n",
       "<style scoped>\n",
       "    .dataframe tbody tr th:only-of-type {\n",
       "        vertical-align: middle;\n",
       "    }\n",
       "\n",
       "    .dataframe tbody tr th {\n",
       "        vertical-align: top;\n",
       "    }\n",
       "\n",
       "    .dataframe thead th {\n",
       "        text-align: right;\n",
       "    }\n",
       "</style>\n",
       "<table border=\"1\" class=\"dataframe\">\n",
       "  <thead>\n",
       "    <tr style=\"text-align: right;\">\n",
       "      <th></th>\n",
       "      <th>balance</th>\n",
       "      <th>housing</th>\n",
       "      <th>loan</th>\n",
       "    </tr>\n",
       "  </thead>\n",
       "  <tbody>\n",
       "    <tr>\n",
       "      <th>3</th>\n",
       "      <td>1476</td>\n",
       "      <td>yes</td>\n",
       "      <td>yes</td>\n",
       "    </tr>\n",
       "    <tr>\n",
       "      <th>4</th>\n",
       "      <td>0</td>\n",
       "      <td>yes</td>\n",
       "      <td>no</td>\n",
       "    </tr>\n",
       "    <tr>\n",
       "      <th>5</th>\n",
       "      <td>747</td>\n",
       "      <td>no</td>\n",
       "      <td>no</td>\n",
       "    </tr>\n",
       "    <tr>\n",
       "      <th>6</th>\n",
       "      <td>307</td>\n",
       "      <td>yes</td>\n",
       "      <td>no</td>\n",
       "    </tr>\n",
       "    <tr>\n",
       "      <th>7</th>\n",
       "      <td>147</td>\n",
       "      <td>yes</td>\n",
       "      <td>no</td>\n",
       "    </tr>\n",
       "    <tr>\n",
       "      <th>8</th>\n",
       "      <td>221</td>\n",
       "      <td>yes</td>\n",
       "      <td>no</td>\n",
       "    </tr>\n",
       "    <tr>\n",
       "      <th>9</th>\n",
       "      <td>-88</td>\n",
       "      <td>yes</td>\n",
       "      <td>yes</td>\n",
       "    </tr>\n",
       "  </tbody>\n",
       "</table>\n",
       "</div>"
      ],
      "text/plain": [
       "   balance housing loan\n",
       "3     1476     yes  yes\n",
       "4        0     yes   no\n",
       "5      747      no   no\n",
       "6      307     yes   no\n",
       "7      147     yes   no\n",
       "8      221     yes   no\n",
       "9      -88     yes  yes"
      ]
     },
     "execution_count": 131,
     "metadata": {},
     "output_type": "execute_result"
    }
   ],
   "source": [
    "import pandas as pd\n",
    "file_path=\"E:\\\\DOWNLOADS\\\\bank.csv\"\n",
    "bank_dataset=pd.read_csv(file_path)\n",
    "bank_dataset.iloc[3:10,5:8]"
   ]
  },
  {
   "cell_type": "markdown",
   "id": "264ed36e-fe20-4a10-868f-2aa1c86dddf0",
   "metadata": {},
   "source": [
    "**3) dataframe_name.loc[start:stop,'column_number']**"
   ]
  },
  {
   "cell_type": "code",
   "execution_count": 134,
   "id": "6658280c-16f8-4bc9-9711-6d8c168e5b61",
   "metadata": {},
   "outputs": [
    {
     "data": {
      "text/plain": [
       "3    married\n",
       "4    married\n",
       "5     single\n",
       "6    married\n",
       "7    married\n",
       "8    married\n",
       "9    married\n",
       "Name: marital, dtype: object"
      ]
     },
     "execution_count": 134,
     "metadata": {},
     "output_type": "execute_result"
    }
   ],
   "source": [
    "import pandas as pd\n",
    "file_path=\"E:\\\\DOWNLOADS\\\\bank.csv\"\n",
    "bank_dataset=pd.read_csv(file_path)\n",
    "bank_dataset.iloc[3:10,2]"
   ]
  },
  {
   "cell_type": "markdown",
   "id": "6c349f64-2454-45f3-96b2-08b0b9d4bcad",
   "metadata": {},
   "source": [
    "**4) dataframe_name.iloc[[row1,row2,row3,row4]]**"
   ]
  },
  {
   "cell_type": "code",
   "execution_count": 139,
   "id": "be60e70b-1cb5-4ea2-a376-b948e3d17dfb",
   "metadata": {},
   "outputs": [
    {
     "data": {
      "text/html": [
       "<div>\n",
       "<style scoped>\n",
       "    .dataframe tbody tr th:only-of-type {\n",
       "        vertical-align: middle;\n",
       "    }\n",
       "\n",
       "    .dataframe tbody tr th {\n",
       "        vertical-align: top;\n",
       "    }\n",
       "\n",
       "    .dataframe thead th {\n",
       "        text-align: right;\n",
       "    }\n",
       "</style>\n",
       "<table border=\"1\" class=\"dataframe\">\n",
       "  <thead>\n",
       "    <tr style=\"text-align: right;\">\n",
       "      <th></th>\n",
       "      <th>age</th>\n",
       "      <th>job</th>\n",
       "      <th>marital</th>\n",
       "      <th>education</th>\n",
       "      <th>default</th>\n",
       "      <th>balance</th>\n",
       "      <th>housing</th>\n",
       "      <th>loan</th>\n",
       "      <th>contact</th>\n",
       "      <th>day</th>\n",
       "      <th>month</th>\n",
       "      <th>duration</th>\n",
       "      <th>campaign</th>\n",
       "      <th>pdays</th>\n",
       "      <th>previous</th>\n",
       "      <th>poutcome</th>\n",
       "      <th>y</th>\n",
       "    </tr>\n",
       "  </thead>\n",
       "  <tbody>\n",
       "    <tr>\n",
       "      <th>3</th>\n",
       "      <td>30</td>\n",
       "      <td>management</td>\n",
       "      <td>married</td>\n",
       "      <td>tertiary</td>\n",
       "      <td>no</td>\n",
       "      <td>1476</td>\n",
       "      <td>yes</td>\n",
       "      <td>yes</td>\n",
       "      <td>unknown</td>\n",
       "      <td>3</td>\n",
       "      <td>jun</td>\n",
       "      <td>199</td>\n",
       "      <td>4</td>\n",
       "      <td>-1</td>\n",
       "      <td>0</td>\n",
       "      <td>unknown</td>\n",
       "      <td>no</td>\n",
       "    </tr>\n",
       "    <tr>\n",
       "      <th>10</th>\n",
       "      <td>39</td>\n",
       "      <td>services</td>\n",
       "      <td>married</td>\n",
       "      <td>secondary</td>\n",
       "      <td>no</td>\n",
       "      <td>9374</td>\n",
       "      <td>yes</td>\n",
       "      <td>no</td>\n",
       "      <td>unknown</td>\n",
       "      <td>20</td>\n",
       "      <td>may</td>\n",
       "      <td>273</td>\n",
       "      <td>1</td>\n",
       "      <td>-1</td>\n",
       "      <td>0</td>\n",
       "      <td>unknown</td>\n",
       "      <td>no</td>\n",
       "    </tr>\n",
       "    <tr>\n",
       "      <th>23</th>\n",
       "      <td>44</td>\n",
       "      <td>entrepreneur</td>\n",
       "      <td>married</td>\n",
       "      <td>secondary</td>\n",
       "      <td>no</td>\n",
       "      <td>93</td>\n",
       "      <td>no</td>\n",
       "      <td>no</td>\n",
       "      <td>cellular</td>\n",
       "      <td>7</td>\n",
       "      <td>jul</td>\n",
       "      <td>125</td>\n",
       "      <td>2</td>\n",
       "      <td>-1</td>\n",
       "      <td>0</td>\n",
       "      <td>unknown</td>\n",
       "      <td>no</td>\n",
       "    </tr>\n",
       "  </tbody>\n",
       "</table>\n",
       "</div>"
      ],
      "text/plain": [
       "    age           job  marital  education default  balance housing loan  \\\n",
       "3    30    management  married   tertiary      no     1476     yes  yes   \n",
       "10   39      services  married  secondary      no     9374     yes   no   \n",
       "23   44  entrepreneur  married  secondary      no       93      no   no   \n",
       "\n",
       "     contact  day month  duration  campaign  pdays  previous poutcome   y  \n",
       "3    unknown    3   jun       199         4     -1         0  unknown  no  \n",
       "10   unknown   20   may       273         1     -1         0  unknown  no  \n",
       "23  cellular    7   jul       125         2     -1         0  unknown  no  "
      ]
     },
     "execution_count": 139,
     "metadata": {},
     "output_type": "execute_result"
    }
   ],
   "source": [
    "import pandas as pd\n",
    "file_path=\"E:\\\\DOWNLOADS\\\\bank.csv\"\n",
    "bank_dataset=pd.read_csv(file_path)\n",
    "bank_dataset.iloc[[3,10,23]]"
   ]
  },
  {
   "cell_type": "markdown",
   "id": "eb010873-bee3-4aed-a736-9a65ebce2aed",
   "metadata": {},
   "source": [
    "**5) dataframe_name.iloc[start:stop[col1,col2,col3,.....]]**"
   ]
  },
  {
   "cell_type": "code",
   "execution_count": 144,
   "id": "ba56af12-4f27-477b-97d1-e5184ab2e71e",
   "metadata": {},
   "outputs": [
    {
     "data": {
      "text/html": [
       "<div>\n",
       "<style scoped>\n",
       "    .dataframe tbody tr th:only-of-type {\n",
       "        vertical-align: middle;\n",
       "    }\n",
       "\n",
       "    .dataframe tbody tr th {\n",
       "        vertical-align: top;\n",
       "    }\n",
       "\n",
       "    .dataframe thead th {\n",
       "        text-align: right;\n",
       "    }\n",
       "</style>\n",
       "<table border=\"1\" class=\"dataframe\">\n",
       "  <thead>\n",
       "    <tr style=\"text-align: right;\">\n",
       "      <th></th>\n",
       "      <th>education</th>\n",
       "      <th>month</th>\n",
       "      <th>pdays</th>\n",
       "    </tr>\n",
       "  </thead>\n",
       "  <tbody>\n",
       "    <tr>\n",
       "      <th>2</th>\n",
       "      <td>tertiary</td>\n",
       "      <td>apr</td>\n",
       "      <td>330</td>\n",
       "    </tr>\n",
       "    <tr>\n",
       "      <th>3</th>\n",
       "      <td>tertiary</td>\n",
       "      <td>jun</td>\n",
       "      <td>-1</td>\n",
       "    </tr>\n",
       "    <tr>\n",
       "      <th>4</th>\n",
       "      <td>secondary</td>\n",
       "      <td>may</td>\n",
       "      <td>-1</td>\n",
       "    </tr>\n",
       "  </tbody>\n",
       "</table>\n",
       "</div>"
      ],
      "text/plain": [
       "   education month  pdays\n",
       "2   tertiary   apr    330\n",
       "3   tertiary   jun     -1\n",
       "4  secondary   may     -1"
      ]
     },
     "execution_count": 144,
     "metadata": {},
     "output_type": "execute_result"
    }
   ],
   "source": [
    "import pandas as pd\n",
    "file_path=\"E:\\\\DOWNLOADS\\\\bank.csv\"\n",
    "bank_dataset=pd.read_csv(file_path)\n",
    "bank_dataset.iloc[2:5,[3,10,13]]"
   ]
  },
  {
   "cell_type": "markdown",
   "id": "395978e9-008e-4a10-82f7-14bc9fb24c87",
   "metadata": {},
   "source": [
    "**6) dataframe_name.iloc[:[col1,col2,col3,.....]]**"
   ]
  },
  {
   "cell_type": "code",
   "execution_count": 142,
   "id": "c3da97a2-e967-46ff-b501-c1e45827be68",
   "metadata": {},
   "outputs": [
    {
     "data": {
      "text/html": [
       "<div>\n",
       "<style scoped>\n",
       "    .dataframe tbody tr th:only-of-type {\n",
       "        vertical-align: middle;\n",
       "    }\n",
       "\n",
       "    .dataframe tbody tr th {\n",
       "        vertical-align: top;\n",
       "    }\n",
       "\n",
       "    .dataframe thead th {\n",
       "        text-align: right;\n",
       "    }\n",
       "</style>\n",
       "<table border=\"1\" class=\"dataframe\">\n",
       "  <thead>\n",
       "    <tr style=\"text-align: right;\">\n",
       "      <th></th>\n",
       "      <th>education</th>\n",
       "      <th>month</th>\n",
       "      <th>pdays</th>\n",
       "    </tr>\n",
       "  </thead>\n",
       "  <tbody>\n",
       "    <tr>\n",
       "      <th>0</th>\n",
       "      <td>primary</td>\n",
       "      <td>oct</td>\n",
       "      <td>-1</td>\n",
       "    </tr>\n",
       "    <tr>\n",
       "      <th>1</th>\n",
       "      <td>secondary</td>\n",
       "      <td>may</td>\n",
       "      <td>339</td>\n",
       "    </tr>\n",
       "    <tr>\n",
       "      <th>2</th>\n",
       "      <td>tertiary</td>\n",
       "      <td>apr</td>\n",
       "      <td>330</td>\n",
       "    </tr>\n",
       "    <tr>\n",
       "      <th>3</th>\n",
       "      <td>tertiary</td>\n",
       "      <td>jun</td>\n",
       "      <td>-1</td>\n",
       "    </tr>\n",
       "    <tr>\n",
       "      <th>4</th>\n",
       "      <td>secondary</td>\n",
       "      <td>may</td>\n",
       "      <td>-1</td>\n",
       "    </tr>\n",
       "    <tr>\n",
       "      <th>...</th>\n",
       "      <td>...</td>\n",
       "      <td>...</td>\n",
       "      <td>...</td>\n",
       "    </tr>\n",
       "    <tr>\n",
       "      <th>4516</th>\n",
       "      <td>secondary</td>\n",
       "      <td>jul</td>\n",
       "      <td>-1</td>\n",
       "    </tr>\n",
       "    <tr>\n",
       "      <th>4517</th>\n",
       "      <td>tertiary</td>\n",
       "      <td>may</td>\n",
       "      <td>-1</td>\n",
       "    </tr>\n",
       "    <tr>\n",
       "      <th>4518</th>\n",
       "      <td>secondary</td>\n",
       "      <td>aug</td>\n",
       "      <td>-1</td>\n",
       "    </tr>\n",
       "    <tr>\n",
       "      <th>4519</th>\n",
       "      <td>secondary</td>\n",
       "      <td>feb</td>\n",
       "      <td>211</td>\n",
       "    </tr>\n",
       "    <tr>\n",
       "      <th>4520</th>\n",
       "      <td>tertiary</td>\n",
       "      <td>apr</td>\n",
       "      <td>249</td>\n",
       "    </tr>\n",
       "  </tbody>\n",
       "</table>\n",
       "<p>4521 rows × 3 columns</p>\n",
       "</div>"
      ],
      "text/plain": [
       "      education month  pdays\n",
       "0       primary   oct     -1\n",
       "1     secondary   may    339\n",
       "2      tertiary   apr    330\n",
       "3      tertiary   jun     -1\n",
       "4     secondary   may     -1\n",
       "...         ...   ...    ...\n",
       "4516  secondary   jul     -1\n",
       "4517   tertiary   may     -1\n",
       "4518  secondary   aug     -1\n",
       "4519  secondary   feb    211\n",
       "4520   tertiary   apr    249\n",
       "\n",
       "[4521 rows x 3 columns]"
      ]
     },
     "execution_count": 142,
     "metadata": {},
     "output_type": "execute_result"
    }
   ],
   "source": [
    "import pandas as pd\n",
    "file_path=\"E:\\\\DOWNLOADS\\\\bank.csv\"\n",
    "bank_dataset=pd.read_csv(file_path)\n",
    "bank_dataset.iloc[:,[3,10,13]]"
   ]
  },
  {
   "cell_type": "markdown",
   "id": "98f9165b-6339-4e1d-a6dd-30d5886af6ae",
   "metadata": {},
   "source": [
    "**Note**\n",
    "- compare to take iloc is better\n",
    "- compareb to iloc loc is better\n",
    "- in iloc and loc we need not specify any axis\n",
    "- in iloc we need to provide column index number  for that number we have to know the total column and exact column number we should provide \n",
    "- it is very hard when we work with large datasets \n",
    "- so we prefer loc where here we directly specify the column name instead of column number\n",
    "- one more thing is that end index value is included in loc where as iloc end index value is not included"
   ]
  },
  {
   "cell_type": "markdown",
   "id": "56a65ac9-8c62-40ad-a9c7-f8413ec56c8b",
   "metadata": {},
   "source": [
    "**unique**\n",
    "- The unique function in pandas is used to find the unique values from a series."
   ]
  },
  {
   "cell_type": "markdown",
   "id": "0b0e3757-3fe7-42a4-8955-97065eb5f693",
   "metadata": {},
   "source": [
    "- let us try to understand when we should use the unique"
   ]
  },
  {
   "cell_type": "markdown",
   "id": "f157ee9c-65b2-427c-917e-f58a87a02059",
   "metadata": {},
   "source": [
    "**bank_data**"
   ]
  },
  {
   "cell_type": "markdown",
   "id": "0c53f03f-2c05-45bc-87ff-7ae65fd908b5",
   "metadata": {},
   "source": [
    "- let us the bank_data dataset and try to understand the data"
   ]
  },
  {
   "cell_type": "code",
   "execution_count": 2,
   "id": "1aaaec9c-9a31-4b8e-ae74-644b06a4aa0e",
   "metadata": {},
   "outputs": [
    {
     "data": {
      "text/html": [
       "<div>\n",
       "<style scoped>\n",
       "    .dataframe tbody tr th:only-of-type {\n",
       "        vertical-align: middle;\n",
       "    }\n",
       "\n",
       "    .dataframe tbody tr th {\n",
       "        vertical-align: top;\n",
       "    }\n",
       "\n",
       "    .dataframe thead th {\n",
       "        text-align: right;\n",
       "    }\n",
       "</style>\n",
       "<table border=\"1\" class=\"dataframe\">\n",
       "  <thead>\n",
       "    <tr style=\"text-align: right;\">\n",
       "      <th></th>\n",
       "      <th>age</th>\n",
       "      <th>job</th>\n",
       "      <th>marital</th>\n",
       "      <th>education</th>\n",
       "      <th>default</th>\n",
       "      <th>balance</th>\n",
       "      <th>housing</th>\n",
       "      <th>loan</th>\n",
       "      <th>contact</th>\n",
       "      <th>day</th>\n",
       "      <th>month</th>\n",
       "      <th>duration</th>\n",
       "      <th>campaign</th>\n",
       "      <th>pdays</th>\n",
       "      <th>previous</th>\n",
       "      <th>poutcome</th>\n",
       "      <th>y</th>\n",
       "    </tr>\n",
       "  </thead>\n",
       "  <tbody>\n",
       "    <tr>\n",
       "      <th>0</th>\n",
       "      <td>30</td>\n",
       "      <td>unemployed</td>\n",
       "      <td>married</td>\n",
       "      <td>primary</td>\n",
       "      <td>no</td>\n",
       "      <td>1787</td>\n",
       "      <td>no</td>\n",
       "      <td>no</td>\n",
       "      <td>cellular</td>\n",
       "      <td>19</td>\n",
       "      <td>oct</td>\n",
       "      <td>79</td>\n",
       "      <td>1</td>\n",
       "      <td>-1</td>\n",
       "      <td>0</td>\n",
       "      <td>unknown</td>\n",
       "      <td>no</td>\n",
       "    </tr>\n",
       "    <tr>\n",
       "      <th>1</th>\n",
       "      <td>33</td>\n",
       "      <td>services</td>\n",
       "      <td>married</td>\n",
       "      <td>secondary</td>\n",
       "      <td>no</td>\n",
       "      <td>4789</td>\n",
       "      <td>yes</td>\n",
       "      <td>yes</td>\n",
       "      <td>cellular</td>\n",
       "      <td>11</td>\n",
       "      <td>may</td>\n",
       "      <td>220</td>\n",
       "      <td>1</td>\n",
       "      <td>339</td>\n",
       "      <td>4</td>\n",
       "      <td>failure</td>\n",
       "      <td>no</td>\n",
       "    </tr>\n",
       "    <tr>\n",
       "      <th>2</th>\n",
       "      <td>35</td>\n",
       "      <td>management</td>\n",
       "      <td>single</td>\n",
       "      <td>tertiary</td>\n",
       "      <td>no</td>\n",
       "      <td>1350</td>\n",
       "      <td>yes</td>\n",
       "      <td>no</td>\n",
       "      <td>cellular</td>\n",
       "      <td>16</td>\n",
       "      <td>apr</td>\n",
       "      <td>185</td>\n",
       "      <td>1</td>\n",
       "      <td>330</td>\n",
       "      <td>1</td>\n",
       "      <td>failure</td>\n",
       "      <td>no</td>\n",
       "    </tr>\n",
       "    <tr>\n",
       "      <th>3</th>\n",
       "      <td>30</td>\n",
       "      <td>management</td>\n",
       "      <td>married</td>\n",
       "      <td>tertiary</td>\n",
       "      <td>no</td>\n",
       "      <td>1476</td>\n",
       "      <td>yes</td>\n",
       "      <td>yes</td>\n",
       "      <td>unknown</td>\n",
       "      <td>3</td>\n",
       "      <td>jun</td>\n",
       "      <td>199</td>\n",
       "      <td>4</td>\n",
       "      <td>-1</td>\n",
       "      <td>0</td>\n",
       "      <td>unknown</td>\n",
       "      <td>no</td>\n",
       "    </tr>\n",
       "    <tr>\n",
       "      <th>4</th>\n",
       "      <td>59</td>\n",
       "      <td>blue-collar</td>\n",
       "      <td>married</td>\n",
       "      <td>secondary</td>\n",
       "      <td>no</td>\n",
       "      <td>0</td>\n",
       "      <td>yes</td>\n",
       "      <td>no</td>\n",
       "      <td>unknown</td>\n",
       "      <td>5</td>\n",
       "      <td>may</td>\n",
       "      <td>226</td>\n",
       "      <td>1</td>\n",
       "      <td>-1</td>\n",
       "      <td>0</td>\n",
       "      <td>unknown</td>\n",
       "      <td>no</td>\n",
       "    </tr>\n",
       "    <tr>\n",
       "      <th>...</th>\n",
       "      <td>...</td>\n",
       "      <td>...</td>\n",
       "      <td>...</td>\n",
       "      <td>...</td>\n",
       "      <td>...</td>\n",
       "      <td>...</td>\n",
       "      <td>...</td>\n",
       "      <td>...</td>\n",
       "      <td>...</td>\n",
       "      <td>...</td>\n",
       "      <td>...</td>\n",
       "      <td>...</td>\n",
       "      <td>...</td>\n",
       "      <td>...</td>\n",
       "      <td>...</td>\n",
       "      <td>...</td>\n",
       "      <td>...</td>\n",
       "    </tr>\n",
       "    <tr>\n",
       "      <th>4516</th>\n",
       "      <td>33</td>\n",
       "      <td>services</td>\n",
       "      <td>married</td>\n",
       "      <td>secondary</td>\n",
       "      <td>no</td>\n",
       "      <td>-333</td>\n",
       "      <td>yes</td>\n",
       "      <td>no</td>\n",
       "      <td>cellular</td>\n",
       "      <td>30</td>\n",
       "      <td>jul</td>\n",
       "      <td>329</td>\n",
       "      <td>5</td>\n",
       "      <td>-1</td>\n",
       "      <td>0</td>\n",
       "      <td>unknown</td>\n",
       "      <td>no</td>\n",
       "    </tr>\n",
       "    <tr>\n",
       "      <th>4517</th>\n",
       "      <td>57</td>\n",
       "      <td>self-employed</td>\n",
       "      <td>married</td>\n",
       "      <td>tertiary</td>\n",
       "      <td>yes</td>\n",
       "      <td>-3313</td>\n",
       "      <td>yes</td>\n",
       "      <td>yes</td>\n",
       "      <td>unknown</td>\n",
       "      <td>9</td>\n",
       "      <td>may</td>\n",
       "      <td>153</td>\n",
       "      <td>1</td>\n",
       "      <td>-1</td>\n",
       "      <td>0</td>\n",
       "      <td>unknown</td>\n",
       "      <td>no</td>\n",
       "    </tr>\n",
       "    <tr>\n",
       "      <th>4518</th>\n",
       "      <td>57</td>\n",
       "      <td>technician</td>\n",
       "      <td>married</td>\n",
       "      <td>secondary</td>\n",
       "      <td>no</td>\n",
       "      <td>295</td>\n",
       "      <td>no</td>\n",
       "      <td>no</td>\n",
       "      <td>cellular</td>\n",
       "      <td>19</td>\n",
       "      <td>aug</td>\n",
       "      <td>151</td>\n",
       "      <td>11</td>\n",
       "      <td>-1</td>\n",
       "      <td>0</td>\n",
       "      <td>unknown</td>\n",
       "      <td>no</td>\n",
       "    </tr>\n",
       "    <tr>\n",
       "      <th>4519</th>\n",
       "      <td>28</td>\n",
       "      <td>blue-collar</td>\n",
       "      <td>married</td>\n",
       "      <td>secondary</td>\n",
       "      <td>no</td>\n",
       "      <td>1137</td>\n",
       "      <td>no</td>\n",
       "      <td>no</td>\n",
       "      <td>cellular</td>\n",
       "      <td>6</td>\n",
       "      <td>feb</td>\n",
       "      <td>129</td>\n",
       "      <td>4</td>\n",
       "      <td>211</td>\n",
       "      <td>3</td>\n",
       "      <td>other</td>\n",
       "      <td>no</td>\n",
       "    </tr>\n",
       "    <tr>\n",
       "      <th>4520</th>\n",
       "      <td>44</td>\n",
       "      <td>entrepreneur</td>\n",
       "      <td>single</td>\n",
       "      <td>tertiary</td>\n",
       "      <td>no</td>\n",
       "      <td>1136</td>\n",
       "      <td>yes</td>\n",
       "      <td>yes</td>\n",
       "      <td>cellular</td>\n",
       "      <td>3</td>\n",
       "      <td>apr</td>\n",
       "      <td>345</td>\n",
       "      <td>2</td>\n",
       "      <td>249</td>\n",
       "      <td>7</td>\n",
       "      <td>other</td>\n",
       "      <td>no</td>\n",
       "    </tr>\n",
       "  </tbody>\n",
       "</table>\n",
       "<p>4521 rows × 17 columns</p>\n",
       "</div>"
      ],
      "text/plain": [
       "      age            job  marital  education default  balance housing loan  \\\n",
       "0      30     unemployed  married    primary      no     1787      no   no   \n",
       "1      33       services  married  secondary      no     4789     yes  yes   \n",
       "2      35     management   single   tertiary      no     1350     yes   no   \n",
       "3      30     management  married   tertiary      no     1476     yes  yes   \n",
       "4      59    blue-collar  married  secondary      no        0     yes   no   \n",
       "...   ...            ...      ...        ...     ...      ...     ...  ...   \n",
       "4516   33       services  married  secondary      no     -333     yes   no   \n",
       "4517   57  self-employed  married   tertiary     yes    -3313     yes  yes   \n",
       "4518   57     technician  married  secondary      no      295      no   no   \n",
       "4519   28    blue-collar  married  secondary      no     1137      no   no   \n",
       "4520   44   entrepreneur   single   tertiary      no     1136     yes  yes   \n",
       "\n",
       "       contact  day month  duration  campaign  pdays  previous poutcome   y  \n",
       "0     cellular   19   oct        79         1     -1         0  unknown  no  \n",
       "1     cellular   11   may       220         1    339         4  failure  no  \n",
       "2     cellular   16   apr       185         1    330         1  failure  no  \n",
       "3      unknown    3   jun       199         4     -1         0  unknown  no  \n",
       "4      unknown    5   may       226         1     -1         0  unknown  no  \n",
       "...        ...  ...   ...       ...       ...    ...       ...      ...  ..  \n",
       "4516  cellular   30   jul       329         5     -1         0  unknown  no  \n",
       "4517   unknown    9   may       153         1     -1         0  unknown  no  \n",
       "4518  cellular   19   aug       151        11     -1         0  unknown  no  \n",
       "4519  cellular    6   feb       129         4    211         3    other  no  \n",
       "4520  cellular    3   apr       345         2    249         7    other  no  \n",
       "\n",
       "[4521 rows x 17 columns]"
      ]
     },
     "execution_count": 2,
     "metadata": {},
     "output_type": "execute_result"
    }
   ],
   "source": [
    "import pandas as pd\n",
    "file_path=\"E:\\\\DOWNLOADS\\\\bank.csv\"\n",
    "bank_dataset=pd.read_csv(file_path)\n",
    "bank_dataset"
   ]
  },
  {
   "cell_type": "code",
   "execution_count": 4,
   "id": "9a8f2d35-4d66-4a73-b018-4a6b5b4f5e57",
   "metadata": {},
   "outputs": [
    {
     "data": {
      "text/plain": [
       "Index(['age', 'job', 'marital', 'education', 'default', 'balance', 'housing',\n",
       "       'loan', 'contact', 'day', 'month', 'duration', 'campaign', 'pdays',\n",
       "       'previous', 'poutcome', 'y'],\n",
       "      dtype='object')"
      ]
     },
     "execution_count": 4,
     "metadata": {},
     "output_type": "execute_result"
    }
   ],
   "source": [
    "#let us retrive the all columns and analysis them\n",
    "bank_dataset.columns\n"
   ]
  },
  {
   "cell_type": "code",
   "execution_count": 6,
   "id": "34f5e633-aeb9-4d40-a1d9-1ddca64a1ff2",
   "metadata": {},
   "outputs": [
    {
     "data": {
      "text/plain": [
       "0         primary\n",
       "1       secondary\n",
       "2        tertiary\n",
       "3        tertiary\n",
       "4       secondary\n",
       "          ...    \n",
       "4516    secondary\n",
       "4517     tertiary\n",
       "4518    secondary\n",
       "4519    secondary\n",
       "4520     tertiary\n",
       "Name: education, Length: 4521, dtype: object"
      ]
     },
     "execution_count": 6,
     "metadata": {},
     "output_type": "execute_result"
    }
   ],
   "source": [
    "#let us take one column data:\n",
    "bank_dataset['education']"
   ]
  },
  {
   "cell_type": "code",
   "execution_count": 7,
   "id": "eea4c7c2-3267-4d47-baa1-7b5496f188bb",
   "metadata": {},
   "outputs": [
    {
     "data": {
      "text/plain": [
       "pandas.core.series.Series"
      ]
     },
     "execution_count": 7,
     "metadata": {},
     "output_type": "execute_result"
    }
   ],
   "source": [
    "#try to print type of it\n",
    "type(bank_dataset['education'])\n"
   ]
  },
  {
   "cell_type": "markdown",
   "id": "d81eb93d-05f5-4e98-8d5c-e8697271e472",
   "metadata": {},
   "source": [
    "**NOTE**\n",
    "- in the above data we have 3 different values as\n",
    "  - primary\n",
    "  - secondary\n",
    "  - tertiary\n",
    "- we have total count 4521 rows\n",
    "- let us try to print unique values of the education column"
   ]
  },
  {
   "cell_type": "code",
   "execution_count": 11,
   "id": "4459422f-d693-48ae-81e5-c85d1182c069",
   "metadata": {},
   "outputs": [
    {
     "data": {
      "text/plain": [
       "array(['primary', 'secondary', 'tertiary', 'unknown'], dtype=object)"
      ]
     },
     "execution_count": 11,
     "metadata": {},
     "output_type": "execute_result"
    }
   ],
   "source": [
    "bank_dataset['education'].unique()\n"
   ]
  },
  {
   "cell_type": "markdown",
   "id": "2b099bb6-c672-4085-9e24-6df74184364c",
   "metadata": {},
   "source": [
    "**Note**\n",
    "- unique we can use in series datastructure\n",
    "- unique we cannot use in dataframe \n",
    "- make sure that  type of the data you are using while handling with unique"
   ]
  },
  {
   "cell_type": "markdown",
   "id": "a4a53a53-9362-4120-a155-7a9aae373e72",
   "metadata": {},
   "source": [
    "**nunique**\n",
    "- The nunique() method returns the number of unique values for each column.\n",
    "- By specifying the column axis (axis=1), the nunique() method searches column-wise and returns the number of unique values for each row.\n",
    "  \r\n",
    "\r\n"
   ]
  },
  {
   "cell_type": "code",
   "execution_count": 12,
   "id": "ad9f3308-297a-4539-becf-e8168c6fc0e6",
   "metadata": {},
   "outputs": [
    {
     "data": {
      "text/plain": [
       "4"
      ]
     },
     "execution_count": 12,
     "metadata": {},
     "output_type": "execute_result"
    }
   ],
   "source": [
    "bank_dataset['education'].nunique()"
   ]
  },
  {
   "cell_type": "markdown",
   "id": "5193e570-61a4-4404-930c-f55a63db9173",
   "metadata": {},
   "source": [
    "-we can specify multiple columns also"
   ]
  },
  {
   "cell_type": "code",
   "execution_count": 13,
   "id": "ebda9b1e-acff-4dea-9006-bd19634f49c8",
   "metadata": {},
   "outputs": [
    {
     "data": {
      "text/plain": [
       "education       4\n",
       "balance      2353\n",
       "dtype: int64"
      ]
     },
     "execution_count": 13,
     "metadata": {},
     "output_type": "execute_result"
    }
   ],
   "source": [
    "bank_dataset[['education','balance']].nunique()"
   ]
  },
  {
   "cell_type": "markdown",
   "id": "291ddb91-6fa8-4de0-baa0-c9f81912bd33",
   "metadata": {},
   "source": [
    "**value counts**"
   ]
  },
  {
   "cell_type": "code",
   "execution_count": 14,
   "id": "18943a62-713f-4e46-833b-eb7d907cbffa",
   "metadata": {},
   "outputs": [
    {
     "data": {
      "text/plain": [
       "0         primary\n",
       "1       secondary\n",
       "2        tertiary\n",
       "3        tertiary\n",
       "4       secondary\n",
       "          ...    \n",
       "4516    secondary\n",
       "4517     tertiary\n",
       "4518    secondary\n",
       "4519    secondary\n",
       "4520     tertiary\n",
       "Name: education, Length: 4521, dtype: object"
      ]
     },
     "execution_count": 14,
     "metadata": {},
     "output_type": "execute_result"
    }
   ],
   "source": [
    "#before using the value_counts method  let us try to understand the how many number of vsame values present in a column\n",
    "bank_dataset['education']\n"
   ]
  },
  {
   "cell_type": "code",
   "execution_count": 15,
   "id": "c6296d54-0ceb-43c5-b714-f9234c1434fd",
   "metadata": {},
   "outputs": [
    {
     "name": "stdout",
     "output_type": "stream",
     "text": [
      "678\n"
     ]
    }
   ],
   "source": [
    "#so we have 4521  rows having only 3 types\n",
    "# let us count how many primary ,secondary ,teritary are present in the education column\n",
    "count=0\n",
    "for i in bank_dataset['education']:\n",
    "    if i==\"primary\":\n",
    "        count+=1\n",
    "print(count)"
   ]
  },
  {
   "cell_type": "code",
   "execution_count": 25,
   "id": "b9d5bb32-dd75-4e8e-a0b8-5160f0b44fad",
   "metadata": {},
   "outputs": [
    {
     "data": {
      "text/html": [
       "<div>\n",
       "<style scoped>\n",
       "    .dataframe tbody tr th:only-of-type {\n",
       "        vertical-align: middle;\n",
       "    }\n",
       "\n",
       "    .dataframe tbody tr th {\n",
       "        vertical-align: top;\n",
       "    }\n",
       "\n",
       "    .dataframe thead th {\n",
       "        text-align: right;\n",
       "    }\n",
       "</style>\n",
       "<table border=\"1\" class=\"dataframe\">\n",
       "  <thead>\n",
       "    <tr style=\"text-align: right;\">\n",
       "      <th></th>\n",
       "      <th>age</th>\n",
       "      <th>job</th>\n",
       "      <th>marital</th>\n",
       "      <th>education</th>\n",
       "      <th>default</th>\n",
       "      <th>balance</th>\n",
       "      <th>housing</th>\n",
       "      <th>loan</th>\n",
       "      <th>contact</th>\n",
       "      <th>day</th>\n",
       "      <th>month</th>\n",
       "      <th>duration</th>\n",
       "      <th>campaign</th>\n",
       "      <th>pdays</th>\n",
       "      <th>previous</th>\n",
       "      <th>poutcome</th>\n",
       "      <th>y</th>\n",
       "    </tr>\n",
       "  </thead>\n",
       "  <tbody>\n",
       "    <tr>\n",
       "      <th>0</th>\n",
       "      <td>30</td>\n",
       "      <td>unemployed</td>\n",
       "      <td>married</td>\n",
       "      <td>primary</td>\n",
       "      <td>no</td>\n",
       "      <td>1787</td>\n",
       "      <td>no</td>\n",
       "      <td>no</td>\n",
       "      <td>cellular</td>\n",
       "      <td>19</td>\n",
       "      <td>oct</td>\n",
       "      <td>79</td>\n",
       "      <td>1</td>\n",
       "      <td>-1</td>\n",
       "      <td>0</td>\n",
       "      <td>unknown</td>\n",
       "      <td>no</td>\n",
       "    </tr>\n",
       "    <tr>\n",
       "      <th>9</th>\n",
       "      <td>43</td>\n",
       "      <td>services</td>\n",
       "      <td>married</td>\n",
       "      <td>primary</td>\n",
       "      <td>no</td>\n",
       "      <td>-88</td>\n",
       "      <td>yes</td>\n",
       "      <td>yes</td>\n",
       "      <td>cellular</td>\n",
       "      <td>17</td>\n",
       "      <td>apr</td>\n",
       "      <td>313</td>\n",
       "      <td>1</td>\n",
       "      <td>147</td>\n",
       "      <td>2</td>\n",
       "      <td>failure</td>\n",
       "      <td>no</td>\n",
       "    </tr>\n",
       "    <tr>\n",
       "      <th>18</th>\n",
       "      <td>25</td>\n",
       "      <td>blue-collar</td>\n",
       "      <td>single</td>\n",
       "      <td>primary</td>\n",
       "      <td>no</td>\n",
       "      <td>-221</td>\n",
       "      <td>yes</td>\n",
       "      <td>no</td>\n",
       "      <td>unknown</td>\n",
       "      <td>23</td>\n",
       "      <td>may</td>\n",
       "      <td>250</td>\n",
       "      <td>1</td>\n",
       "      <td>-1</td>\n",
       "      <td>0</td>\n",
       "      <td>unknown</td>\n",
       "      <td>no</td>\n",
       "    </tr>\n",
       "    <tr>\n",
       "      <th>26</th>\n",
       "      <td>55</td>\n",
       "      <td>blue-collar</td>\n",
       "      <td>married</td>\n",
       "      <td>primary</td>\n",
       "      <td>no</td>\n",
       "      <td>627</td>\n",
       "      <td>yes</td>\n",
       "      <td>no</td>\n",
       "      <td>unknown</td>\n",
       "      <td>5</td>\n",
       "      <td>may</td>\n",
       "      <td>247</td>\n",
       "      <td>1</td>\n",
       "      <td>-1</td>\n",
       "      <td>0</td>\n",
       "      <td>unknown</td>\n",
       "      <td>no</td>\n",
       "    </tr>\n",
       "    <tr>\n",
       "      <th>36</th>\n",
       "      <td>78</td>\n",
       "      <td>retired</td>\n",
       "      <td>divorced</td>\n",
       "      <td>primary</td>\n",
       "      <td>no</td>\n",
       "      <td>229</td>\n",
       "      <td>no</td>\n",
       "      <td>no</td>\n",
       "      <td>telephone</td>\n",
       "      <td>22</td>\n",
       "      <td>oct</td>\n",
       "      <td>97</td>\n",
       "      <td>1</td>\n",
       "      <td>-1</td>\n",
       "      <td>0</td>\n",
       "      <td>unknown</td>\n",
       "      <td>yes</td>\n",
       "    </tr>\n",
       "    <tr>\n",
       "      <th>...</th>\n",
       "      <td>...</td>\n",
       "      <td>...</td>\n",
       "      <td>...</td>\n",
       "      <td>...</td>\n",
       "      <td>...</td>\n",
       "      <td>...</td>\n",
       "      <td>...</td>\n",
       "      <td>...</td>\n",
       "      <td>...</td>\n",
       "      <td>...</td>\n",
       "      <td>...</td>\n",
       "      <td>...</td>\n",
       "      <td>...</td>\n",
       "      <td>...</td>\n",
       "      <td>...</td>\n",
       "      <td>...</td>\n",
       "      <td>...</td>\n",
       "    </tr>\n",
       "    <tr>\n",
       "      <th>4480</th>\n",
       "      <td>23</td>\n",
       "      <td>blue-collar</td>\n",
       "      <td>married</td>\n",
       "      <td>primary</td>\n",
       "      <td>no</td>\n",
       "      <td>1158</td>\n",
       "      <td>yes</td>\n",
       "      <td>no</td>\n",
       "      <td>cellular</td>\n",
       "      <td>16</td>\n",
       "      <td>apr</td>\n",
       "      <td>743</td>\n",
       "      <td>1</td>\n",
       "      <td>-1</td>\n",
       "      <td>0</td>\n",
       "      <td>unknown</td>\n",
       "      <td>no</td>\n",
       "    </tr>\n",
       "    <tr>\n",
       "      <th>4485</th>\n",
       "      <td>53</td>\n",
       "      <td>blue-collar</td>\n",
       "      <td>married</td>\n",
       "      <td>primary</td>\n",
       "      <td>no</td>\n",
       "      <td>238</td>\n",
       "      <td>yes</td>\n",
       "      <td>no</td>\n",
       "      <td>cellular</td>\n",
       "      <td>11</td>\n",
       "      <td>may</td>\n",
       "      <td>238</td>\n",
       "      <td>2</td>\n",
       "      <td>361</td>\n",
       "      <td>5</td>\n",
       "      <td>failure</td>\n",
       "      <td>no</td>\n",
       "    </tr>\n",
       "    <tr>\n",
       "      <th>4486</th>\n",
       "      <td>37</td>\n",
       "      <td>blue-collar</td>\n",
       "      <td>married</td>\n",
       "      <td>primary</td>\n",
       "      <td>no</td>\n",
       "      <td>378</td>\n",
       "      <td>yes</td>\n",
       "      <td>no</td>\n",
       "      <td>unknown</td>\n",
       "      <td>9</td>\n",
       "      <td>may</td>\n",
       "      <td>514</td>\n",
       "      <td>1</td>\n",
       "      <td>-1</td>\n",
       "      <td>0</td>\n",
       "      <td>unknown</td>\n",
       "      <td>no</td>\n",
       "    </tr>\n",
       "    <tr>\n",
       "      <th>4499</th>\n",
       "      <td>45</td>\n",
       "      <td>blue-collar</td>\n",
       "      <td>divorced</td>\n",
       "      <td>primary</td>\n",
       "      <td>no</td>\n",
       "      <td>942</td>\n",
       "      <td>no</td>\n",
       "      <td>no</td>\n",
       "      <td>cellular</td>\n",
       "      <td>21</td>\n",
       "      <td>nov</td>\n",
       "      <td>362</td>\n",
       "      <td>1</td>\n",
       "      <td>-1</td>\n",
       "      <td>0</td>\n",
       "      <td>unknown</td>\n",
       "      <td>no</td>\n",
       "    </tr>\n",
       "    <tr>\n",
       "      <th>4503</th>\n",
       "      <td>60</td>\n",
       "      <td>self-employed</td>\n",
       "      <td>married</td>\n",
       "      <td>primary</td>\n",
       "      <td>no</td>\n",
       "      <td>362</td>\n",
       "      <td>no</td>\n",
       "      <td>yes</td>\n",
       "      <td>cellular</td>\n",
       "      <td>29</td>\n",
       "      <td>jul</td>\n",
       "      <td>816</td>\n",
       "      <td>6</td>\n",
       "      <td>-1</td>\n",
       "      <td>0</td>\n",
       "      <td>unknown</td>\n",
       "      <td>yes</td>\n",
       "    </tr>\n",
       "  </tbody>\n",
       "</table>\n",
       "<p>678 rows × 17 columns</p>\n",
       "</div>"
      ],
      "text/plain": [
       "      age            job   marital education default  balance housing loan  \\\n",
       "0      30     unemployed   married   primary      no     1787      no   no   \n",
       "9      43       services   married   primary      no      -88     yes  yes   \n",
       "18     25    blue-collar    single   primary      no     -221     yes   no   \n",
       "26     55    blue-collar   married   primary      no      627     yes   no   \n",
       "36     78        retired  divorced   primary      no      229      no   no   \n",
       "...   ...            ...       ...       ...     ...      ...     ...  ...   \n",
       "4480   23    blue-collar   married   primary      no     1158     yes   no   \n",
       "4485   53    blue-collar   married   primary      no      238     yes   no   \n",
       "4486   37    blue-collar   married   primary      no      378     yes   no   \n",
       "4499   45    blue-collar  divorced   primary      no      942      no   no   \n",
       "4503   60  self-employed   married   primary      no      362      no  yes   \n",
       "\n",
       "        contact  day month  duration  campaign  pdays  previous poutcome    y  \n",
       "0      cellular   19   oct        79         1     -1         0  unknown   no  \n",
       "9      cellular   17   apr       313         1    147         2  failure   no  \n",
       "18      unknown   23   may       250         1     -1         0  unknown   no  \n",
       "26      unknown    5   may       247         1     -1         0  unknown   no  \n",
       "36    telephone   22   oct        97         1     -1         0  unknown  yes  \n",
       "...         ...  ...   ...       ...       ...    ...       ...      ...  ...  \n",
       "4480   cellular   16   apr       743         1     -1         0  unknown   no  \n",
       "4485   cellular   11   may       238         2    361         5  failure   no  \n",
       "4486    unknown    9   may       514         1     -1         0  unknown   no  \n",
       "4499   cellular   21   nov       362         1     -1         0  unknown   no  \n",
       "4503   cellular   29   jul       816         6     -1         0  unknown  yes  \n",
       "\n",
       "[678 rows x 17 columns]"
      ]
     },
     "execution_count": 25,
     "metadata": {},
     "output_type": "execute_result"
    }
   ],
   "source": [
    "bank_dataset[bank_dataset['education']=='primary']"
   ]
  },
  {
   "cell_type": "code",
   "execution_count": 17,
   "id": "a95fdf7f-62ff-47aa-a7fb-599b61f28ce3",
   "metadata": {},
   "outputs": [],
   "source": [
    "# we are printing the only the rows having education primary"
   ]
  },
  {
   "cell_type": "code",
   "execution_count": 22,
   "id": "b5ebef2d-a8f6-4f9a-a20b-0f0b84a1ff13",
   "metadata": {},
   "outputs": [
    {
     "data": {
      "text/plain": [
       "array(['primary', 'secondary', 'tertiary', 'unknown'], dtype=object)"
      ]
     },
     "execution_count": 22,
     "metadata": {},
     "output_type": "execute_result"
    }
   ],
   "source": [
    "#now let us print total count of  primary secondary teritary in education column\n",
    "data=bank_dataset['education'].unique()\n",
    "data"
   ]
  },
  {
   "cell_type": "code",
   "execution_count": 28,
   "id": "9dd1ba2b-a777-4c6d-be3b-51efe7b45688",
   "metadata": {},
   "outputs": [
    {
     "name": "stdout",
     "output_type": "stream",
     "text": [
      "678\n",
      "2306\n",
      "1350\n",
      "187\n"
     ]
    }
   ],
   "source": [
    "for i in bank_dataset['education'].unique():\n",
    "    k=bank_dataset[bank_dataset['education']==i]\n",
    "    print(len(k))\n",
    "    "
   ]
  },
  {
   "cell_type": "code",
   "execution_count": 29,
   "id": "0140ea3c-96ad-4140-9f19-61cb97eb59c8",
   "metadata": {},
   "outputs": [
    {
     "name": "stdout",
     "output_type": "stream",
     "text": [
      "primary 678\n",
      "secondary 2306\n",
      "tertiary 1350\n",
      "unknown 187\n"
     ]
    }
   ],
   "source": [
    "for i in bank_dataset['education'].unique():\n",
    "    k=bank_dataset[bank_dataset['education']==i]\n",
    "    print(i,len(k))"
   ]
  },
  {
   "cell_type": "code",
   "execution_count": 37,
   "id": "9bb004cc-4aa3-45d7-8b88-ed1e7a280f7a",
   "metadata": {},
   "outputs": [],
   "source": [
    "#so we have made some analysisn in the dataset \n",
    "# we have to save the values in our local \n",
    "#that we have done some analysis to show the work to some one\n",
    "education=[]\n",
    "counts=[]\n",
    "for i in bank_dataset['education'].unique():\n",
    "    k=bank_dataset[bank_dataset['education']==i]\n",
    "    education.append(i)\n",
    "    count.append(len(k))\n",
    "#make a data frame now using two lists\n",
    "my_frame=pd.DataFrame(zip(education,count),columns=['education','counts'])\n",
    "my_frame\n",
    "#to save the analysis which we made \n",
    "# we can do save the dataframe to our local\n",
    "my_frame.to_csv(\"first_analysis.csv\")  #it will create a file in location of your python file existing and save the values in the named file\n",
    "                                       #in this case we named the file as first_analysis.csv file\n",
    "\n"
   ]
  },
  {
   "cell_type": "code",
   "execution_count": null,
   "id": "0909d247-b018-4a04-81a0-a8122e65984a",
   "metadata": {},
   "outputs": [],
   "source": [
    "# upto now we try by using general methods and with the python concepts we learnt\n",
    "# in pandas we have value_counts method  which is used to count of the unique names in the columns\n"
   ]
  },
  {
   "cell_type": "markdown",
   "id": "0c6bd1a1-075c-4948-99fc-982b21d8a987",
   "metadata": {},
   "source": [
    "**value_counts**"
   ]
  },
  {
   "cell_type": "code",
   "execution_count": 39,
   "id": "0508a30a-6025-4343-8c89-e56dc9255f08",
   "metadata": {},
   "outputs": [
    {
     "data": {
      "text/plain": [
       "education\n",
       "secondary    2306\n",
       "tertiary     1350\n",
       "primary       678\n",
       "unknown       187\n",
       "Name: count, dtype: int64"
      ]
     },
     "execution_count": 39,
     "metadata": {},
     "output_type": "execute_result"
    }
   ],
   "source": [
    "bank_dataset['education'].value_counts()"
   ]
  },
  {
   "cell_type": "code",
   "execution_count": 52,
   "id": "472ae768-13fd-4d35-aab2-25500828dd65",
   "metadata": {},
   "outputs": [
    {
     "data": {
      "text/html": [
       "<div>\n",
       "<style scoped>\n",
       "    .dataframe tbody tr th:only-of-type {\n",
       "        vertical-align: middle;\n",
       "    }\n",
       "\n",
       "    .dataframe tbody tr th {\n",
       "        vertical-align: top;\n",
       "    }\n",
       "\n",
       "    .dataframe thead th {\n",
       "        text-align: right;\n",
       "    }\n",
       "</style>\n",
       "<table border=\"1\" class=\"dataframe\">\n",
       "  <thead>\n",
       "    <tr style=\"text-align: right;\">\n",
       "      <th></th>\n",
       "      <th>eduaction</th>\n",
       "      <th>count</th>\n",
       "    </tr>\n",
       "  </thead>\n",
       "  <tbody>\n",
       "    <tr>\n",
       "      <th>3</th>\n",
       "      <td>secondary</td>\n",
       "      <td>2306</td>\n",
       "    </tr>\n",
       "    <tr>\n",
       "      <th>4</th>\n",
       "      <td>tertiary</td>\n",
       "      <td>1350</td>\n",
       "    </tr>\n",
       "    <tr>\n",
       "      <th>5</th>\n",
       "      <td>primary</td>\n",
       "      <td>678</td>\n",
       "    </tr>\n",
       "    <tr>\n",
       "      <th>6</th>\n",
       "      <td>unknown</td>\n",
       "      <td>187</td>\n",
       "    </tr>\n",
       "  </tbody>\n",
       "</table>\n",
       "</div>"
      ],
      "text/plain": [
       "   eduaction  count\n",
       "3  secondary   2306\n",
       "4   tertiary   1350\n",
       "5    primary    678\n",
       "6    unknown    187"
      ]
     },
     "execution_count": 52,
     "metadata": {},
     "output_type": "execute_result"
    }
   ],
   "source": [
    "#method-2 used value_counts\n",
    "# let us make this thimg as a dataframe\n",
    "# let us make the two lists of the data and convert them\n",
    "a=bank_dataset['education'].value_counts()\n",
    "b=dict(a)\n",
    "list1=[]\n",
    "list2=[]\n",
    "for i,j in b.items():\n",
    "    list1.append(i)\n",
    "    list2.append(j)\n",
    "pd.DataFrame(zip(list1,list2),columns=[\"eduaction\",\"count\"],index=[3,4,5,6])"
   ]
  },
  {
   "cell_type": "code",
   "execution_count": 49,
   "id": "dfce8e7d-7ed1-438d-8024-dd3d52050ab9",
   "metadata": {},
   "outputs": [
    {
     "data": {
      "text/html": [
       "<div>\n",
       "<style scoped>\n",
       "    .dataframe tbody tr th:only-of-type {\n",
       "        vertical-align: middle;\n",
       "    }\n",
       "\n",
       "    .dataframe tbody tr th {\n",
       "        vertical-align: top;\n",
       "    }\n",
       "\n",
       "    .dataframe thead th {\n",
       "        text-align: right;\n",
       "    }\n",
       "</style>\n",
       "<table border=\"1\" class=\"dataframe\">\n",
       "  <thead>\n",
       "    <tr style=\"text-align: right;\">\n",
       "      <th></th>\n",
       "      <th>secondary</th>\n",
       "      <th>tertiary</th>\n",
       "      <th>primary</th>\n",
       "      <th>unknown</th>\n",
       "    </tr>\n",
       "  </thead>\n",
       "  <tbody>\n",
       "    <tr>\n",
       "      <th>count</th>\n",
       "      <td>2306</td>\n",
       "      <td>1350</td>\n",
       "      <td>678</td>\n",
       "      <td>187</td>\n",
       "    </tr>\n",
       "  </tbody>\n",
       "</table>\n",
       "</div>"
      ],
      "text/plain": [
       "       secondary  tertiary  primary  unknown\n",
       "count       2306      1350      678      187"
      ]
     },
     "execution_count": 49,
     "metadata": {},
     "output_type": "execute_result"
    }
   ],
   "source": [
    "#method-3 used value_counts storing the value in dictionary\n",
    "# let us make this thimg as a dataframe\n",
    "# let us make the two lists of the data and convert them\n",
    "a=bank_dataset['education'].value_counts()\n",
    "b=dict(a)\n",
    "d={}\n",
    "for i,j in b.items():\n",
    "    d[i]=j\n",
    "pd.DataFrame(d,index=['count'])\n",
    "    \n",
    "    \n"
   ]
  },
  {
   "cell_type": "code",
   "execution_count": 58,
   "id": "09caeb79-c873-4565-bfd7-36c7b1f835cd",
   "metadata": {},
   "outputs": [
    {
     "data": {
      "text/html": [
       "<div>\n",
       "<style scoped>\n",
       "    .dataframe tbody tr th:only-of-type {\n",
       "        vertical-align: middle;\n",
       "    }\n",
       "\n",
       "    .dataframe tbody tr th {\n",
       "        vertical-align: top;\n",
       "    }\n",
       "\n",
       "    .dataframe thead th {\n",
       "        text-align: right;\n",
       "    }\n",
       "</style>\n",
       "<table border=\"1\" class=\"dataframe\">\n",
       "  <thead>\n",
       "    <tr style=\"text-align: right;\">\n",
       "      <th></th>\n",
       "      <th>education</th>\n",
       "      <th>count</th>\n",
       "    </tr>\n",
       "  </thead>\n",
       "  <tbody>\n",
       "    <tr>\n",
       "      <th>0</th>\n",
       "      <td>secondary</td>\n",
       "      <td>2306</td>\n",
       "    </tr>\n",
       "    <tr>\n",
       "      <th>1</th>\n",
       "      <td>tertiary</td>\n",
       "      <td>1350</td>\n",
       "    </tr>\n",
       "    <tr>\n",
       "      <th>2</th>\n",
       "      <td>primary</td>\n",
       "      <td>678</td>\n",
       "    </tr>\n",
       "    <tr>\n",
       "      <th>3</th>\n",
       "      <td>unknown</td>\n",
       "      <td>187</td>\n",
       "    </tr>\n",
       "  </tbody>\n",
       "</table>\n",
       "</div>"
      ],
      "text/plain": [
       "   education  count\n",
       "0  secondary   2306\n",
       "1   tertiary   1350\n",
       "2    primary    678\n",
       "3    unknown    187"
      ]
     },
     "execution_count": 58,
     "metadata": {},
     "output_type": "execute_result"
    }
   ],
   "source": [
    "a=bank_dataset['education'].value_counts()\n",
    "b=dict(a)\n",
    "list1=[]\n",
    "list2=[]\n",
    "for i,j in b.items():\n",
    "    list1.append(i)\n",
    "    list2.append(j)\n",
    "my_data=pd.DataFrame(zip(list1,list2),columns=[\"education\",\"count\"])\n",
    "my_data"
   ]
  },
  {
   "cell_type": "code",
   "execution_count": null,
   "id": "212956d0-4d06-4711-8e6a-35788d0d32e9",
   "metadata": {},
   "outputs": [],
   "source": [
    "#as we analysis  the data we can get few things from above data:\n",
    "# education column is a categorical\n",
    "# count column is a numerical"
   ]
  },
  {
   "cell_type": "code",
   "execution_count": null,
   "id": "07f0584b-cee8-4fb2-94a9-f44560cb264c",
   "metadata": {},
   "outputs": [],
   "source": [
    "#we try to draw a bar graph as one column is a categorical\n",
    "#another is numerical"
   ]
  },
  {
   "cell_type": "markdown",
   "id": "8572fd54-d666-439b-b53a-3513c1d365f3",
   "metadata": {},
   "source": [
    "**matplotlib**"
   ]
  },
  {
   "cell_type": "markdown",
   "id": "2159e5ce-f4d8-47a8-b470-5abdf0a0c169",
   "metadata": {},
   "source": [
    "- Matplotlib is one of the most popular Python packages used for data visualizati\n",
    "- One of the greatest benefits of visualization is that it allows us visual access to huge amounts of data in easily digestible visuals.\n",
    "- Matplotlib consists of several plots like line, bar, scatter, histogram, etc\n",
    "- pyplot is a submodule which we mostly used\n",
    "                                                           "
   ]
  },
  {
   "cell_type": "markdown",
   "id": "72c543d3-4ace-4b34-9ee9-cfd90d236a6c",
   "metadata": {},
   "source": [
    "**installation**\n",
    "- go to command prompt and type the command as **pip install matplotlib**"
   ]
  },
  {
   "cell_type": "markdown",
   "id": "9d7a4bd5-804b-4ee0-a06e-71cbb5999445",
   "metadata": {},
   "source": [
    "**bar-plot**"
   ]
  },
  {
   "cell_type": "code",
   "execution_count": 59,
   "id": "80a40d29-84a6-4f5e-a98f-d2f6a6166916",
   "metadata": {},
   "outputs": [
    {
     "data": {
      "text/plain": [
       "<BarContainer object of 4 artists>"
      ]
     },
     "execution_count": 59,
     "metadata": {},
     "output_type": "execute_result"
    },
    {
     "data": {
      "image/png": "[encoded data removed]",
      "text/plain": [
       "<Figure size 640x480 with 1 Axes>"
      ]
     },
     "metadata": {},
     "output_type": "display_data"
    }
   ],
   "source": [
    "import matplotlib.pyplot as plt\n",
    "plt.bar('education','count',data=my_data)"
   ]
  },
  {
   "cell_type": "markdown",
   "id": "bb09123b-b3ab-4185-aaf4-d8f60ebe93eb",
   "metadata": {},
   "source": [
    "***more things in barplot**"
   ]
  },
  {
   "cell_type": "code",
   "execution_count": 67,
   "id": "6ff2e1b4-0040-4f2b-a909-f3e08d818f83",
   "metadata": {},
   "outputs": [
    {
     "data": {
      "image/png": "[encoded data removed]",
      "text/plain": [
       "<Figure size 700x300 with 1 Axes>"
      ]
     },
     "metadata": {},
     "output_type": "display_data"
    }
   ],
   "source": [
    "import matplotlib.pyplot as plt\n",
    "plt.figure(figsize=(7,3))\n",
    "plt.bar('education','count',data=my_data)\n",
    "plt.title(\"Bar-charts\")\n",
    "plt.xlabel(\"eduaction-levels\")\n",
    "plt.ylabel(\"count\")\n",
    "plt.savefig('first_image.jpg') # we are saving our work in the local as it an image so we use format as jpg,png..\n",
    "plt.show()"
   ]
  },
  {
   "cell_type": "markdown",
   "id": "7b7d418d-b26c-47a0-9fc7-b28845b2c22f",
   "metadata": {},
   "source": [
    "**Bar color**"
   ]
  },
  {
   "cell_type": "code",
   "execution_count": 189,
   "id": "9593d764-c8c8-4558-9013-ffd14b8e6a31",
   "metadata": {},
   "outputs": [
    {
     "data": {
      "image/png": "[encoded data removed]",
      "text/plain": [
       "<Figure size 640x480 with 1 Axes>"
      ]
     },
     "metadata": {},
     "output_type": "display_data"
    }
   ],
   "source": [
    "import matplotlib.pyplot as plt\n",
    "plt.bar('education','count',data=my_data,color=\"red\")\n",
    "plt.title(\"Bar-charts\")\n",
    "plt.xlabel(\"eduaction-levels\")\n",
    "plt.ylabel(\"count\")\n",
    "\n",
    "plt.show()"
   ]
  },
  {
   "cell_type": "markdown",
   "id": "31f5be7a-a59e-4cfa-872a-48edd31f287d",
   "metadata": {},
   "source": [
    "**bar-width**"
   ]
  },
  {
   "cell_type": "code",
   "execution_count": 3,
   "id": "09bd1681-d11b-45a9-a0eb-2f8cdd70cc11",
   "metadata": {},
   "outputs": [
    {
     "data": {
      "image/png": "[encoded data removed]",
      "text/plain": [
       "<Figure size 640x480 with 1 Axes>"
      ]
     },
     "metadata": {},
     "output_type": "display_data"
    }
   ],
   "source": [
    "import matplotlib.pyplot as plt\n",
    "import pandas as pd\n",
    "file_path=\"E:\\\\DOWNLOADS\\\\bank.csv\"\n",
    "bank_dataset=pd.read_csv(file_path)\n",
    "a=bank_dataset['education'].value_counts()\n",
    "b=dict(a)\n",
    "list1=[]\n",
    "list2=[]\n",
    "for i,j in b.items():\n",
    "    list1.append(i)\n",
    "    list2.append(j)\n",
    "my_data=pd.DataFrame(zip(list1,list2),columns=[\"education\",\"count\"])\n",
    "plt.bar('education','count',data=my_data,color=[\"yellow\",\"pink\",\"blue\",\"red\"],width=0.2)\n",
    "plt.title(\"Bar-charts\")\n",
    "plt.xlabel(\"eduaction-levels\")\n",
    "plt.ylabel(\"count\")\n",
    "\n",
    "plt.show()"
   ]
  },
  {
   "cell_type": "markdown",
   "id": "e7a80a96-1e78-41ba-9208-80c424bae0f4",
   "metadata": {},
   "source": [
    "**Horizontal Bars**"
   ]
  },
  {
   "cell_type": "code",
   "execution_count": 193,
   "id": "0bdd4a70-7b58-4767-9758-2a1b0c781e02",
   "metadata": {},
   "outputs": [
    {
     "data": {
      "image/png": "[encoded data removed]",
      "text/plain": [
       "<Figure size 640x480 with 1 Axes>"
      ]
     },
     "metadata": {},
     "output_type": "display_data"
    }
   ],
   "source": [
    "import matplotlib.pyplot as plt\n",
    "plt.barh('education','count',data=my_data,color=\"yellow\")\n",
    "plt.title(\"Bar-charts\")\n",
    "plt.xlabel(\"eduaction-levels\")\n",
    "plt.ylabel(\"count\")\n",
    "\n",
    "plt.show()"
   ]
  },
  {
   "cell_type": "code",
   "execution_count": 200,
   "id": "35a3f53e-762b-48f4-944b-6beebd01c7fd",
   "metadata": {},
   "outputs": [
    {
     "data": {
      "image/png": "[encoded data removed]",
      "text/plain": [
       "<Figure size 640x480 with 1 Axes>"
      ]
     },
     "metadata": {},
     "output_type": "display_data"
    }
   ],
   "source": [
    "import matplotlib.pyplot as plt\n",
    "plt.barh('education','count',data=my_data,color=\"yellow\",height = 0.4)\n",
    "plt.title(\"Bar-charts\")\n",
    "plt.xlabel(\"eduaction-levels\")\n",
    "plt.ylabel(\"count\")\n",
    "\n",
    "plt.show()"
   ]
  },
  {
   "cell_type": "code",
   "execution_count": null,
   "id": "072b1048-0e3d-4891-8b90-5625674fe079",
   "metadata": {},
   "outputs": [],
   "source": []
  },
  {
   "cell_type": "markdown",
   "id": "c646f53c-148d-4c7c-a341-872783ed7efc",
   "metadata": {},
   "source": [
    "**barplot using seaborn**"
   ]
  },
  {
   "cell_type": "markdown",
   "id": "e195031f-3722-4fc5-8aa0-2aae96c4e5d3",
   "metadata": {},
   "source": [
    "**matplotlib-steps**\n",
    "- in order to draw a bar chart we need a frequency table\n",
    "- one numerical column\n",
    "- one categorical column  we required for frequency table\n",
    "- so we created a dataframe from the bank dataset\n",
    "- so to draw a barplot using matplotlib we require this three things \n",
    "  - name of categorical column\n",
    "  - name of numerical column\n",
    "  - the dataframe which we created from the bankdataset\n",
    "  \n",
    "\n"
   ]
  },
  {
   "cell_type": "markdown",
   "id": "68361423-cfd3-416f-8a7b-9263ae64bfac",
   "metadata": {},
   "source": [
    "**seaborn**\n",
    "- seaborn will take directly original column from the original dataframe\n",
    "- it requires two things\n",
    "- original dataframe name\n",
    "- column name from the dataset"
   ]
  },
  {
   "cell_type": "code",
   "execution_count": 70,
   "id": "65065ecb-d669-4194-87eb-bad7d346bfaf",
   "metadata": {},
   "outputs": [
    {
     "data": {
      "image/png": "[encoded data removed]",
      "text/plain": [
       "<Figure size 640x480 with 1 Axes>"
      ]
     },
     "metadata": {},
     "output_type": "display_data"
    }
   ],
   "source": [
    "import seaborn as sns\n",
    "sns.countplot(data=bank_dataset,x='education')\n",
    "plt.title(\"bar-plot using seaborn\")\n",
    "plt.show()"
   ]
  },
  {
   "cell_type": "code",
   "execution_count": null,
   "id": "90a771bc-5147-4621-83ba-f5b24fc469ca",
   "metadata": {},
   "outputs": [],
   "source": []
  },
  {
   "cell_type": "code",
   "execution_count": null,
   "id": "ed83ad51-88e5-487d-95b6-4518a70f3907",
   "metadata": {},
   "outputs": [],
   "source": []
  },
  {
   "cell_type": "code",
   "execution_count": null,
   "id": "adaf9470-5a42-478d-96b2-6fc17533146f",
   "metadata": {},
   "outputs": [],
   "source": []
  },
  {
   "cell_type": "code",
   "execution_count": null,
   "id": "9d04e533-7a88-45a3-9b10-5d88e8be19e1",
   "metadata": {},
   "outputs": [],
   "source": []
  },
  {
   "cell_type": "code",
   "execution_count": null,
   "id": "dc21f6c6-93bc-413e-ac76-bcabf095a254",
   "metadata": {},
   "outputs": [],
   "source": []
  },
  {
   "cell_type": "markdown",
   "id": "72fc5770-e95c-4d4b-a962-fd507a6e6cbf",
   "metadata": {},
   "source": [
    "**piecharts**"
   ]
  },
  {
   "cell_type": "markdown",
   "id": "9b77e7e6-4bb8-494e-bb0b-f5e3f3560ec6",
   "metadata": {},
   "source": [
    "- A Pie Chart is a circular statistical plot that can display only one series of data. \n",
    "- The area of the chart is the total percentage of the given data. \n",
    "- The area of slices of the pie represents the percentage of the parts of the data. \n",
    "- The slices of pie are called wedges. \n",
    "- The area of the wedge is determined by the length of the arc of the wedge. \n",
    "- The area of a wedge represents the relative percentage of that part with respect to whole data. \n",
    "- Pie charts are commonly used in business presentations like sales, operations, survey results, resources, etc as they provide a quick summary."
   ]
  },
  {
   "cell_type": "markdown",
   "id": "153c0c75-f36d-411f-8306-08a44cd9f77f",
   "metadata": {},
   "source": [
    "**bankdataset**"
   ]
  },
  {
   "cell_type": "code",
   "execution_count": 74,
   "id": "93688daf-0246-496f-a7d6-df65bc607758",
   "metadata": {
    "scrolled": true
   },
   "outputs": [
    {
     "data": {
      "text/html": [
       "<div>\n",
       "<style scoped>\n",
       "    .dataframe tbody tr th:only-of-type {\n",
       "        vertical-align: middle;\n",
       "    }\n",
       "\n",
       "    .dataframe tbody tr th {\n",
       "        vertical-align: top;\n",
       "    }\n",
       "\n",
       "    .dataframe thead th {\n",
       "        text-align: right;\n",
       "    }\n",
       "</style>\n",
       "<table border=\"1\" class=\"dataframe\">\n",
       "  <thead>\n",
       "    <tr style=\"text-align: right;\">\n",
       "      <th></th>\n",
       "      <th>age</th>\n",
       "      <th>job</th>\n",
       "      <th>marital</th>\n",
       "      <th>education</th>\n",
       "      <th>default</th>\n",
       "      <th>balance</th>\n",
       "      <th>housing</th>\n",
       "      <th>loan</th>\n",
       "      <th>contact</th>\n",
       "      <th>day</th>\n",
       "      <th>month</th>\n",
       "      <th>duration</th>\n",
       "      <th>campaign</th>\n",
       "      <th>pdays</th>\n",
       "      <th>previous</th>\n",
       "      <th>poutcome</th>\n",
       "      <th>y</th>\n",
       "    </tr>\n",
       "  </thead>\n",
       "  <tbody>\n",
       "    <tr>\n",
       "      <th>0</th>\n",
       "      <td>30</td>\n",
       "      <td>unemployed</td>\n",
       "      <td>married</td>\n",
       "      <td>primary</td>\n",
       "      <td>no</td>\n",
       "      <td>1787</td>\n",
       "      <td>no</td>\n",
       "      <td>no</td>\n",
       "      <td>cellular</td>\n",
       "      <td>19</td>\n",
       "      <td>oct</td>\n",
       "      <td>79</td>\n",
       "      <td>1</td>\n",
       "      <td>-1</td>\n",
       "      <td>0</td>\n",
       "      <td>unknown</td>\n",
       "      <td>no</td>\n",
       "    </tr>\n",
       "    <tr>\n",
       "      <th>1</th>\n",
       "      <td>33</td>\n",
       "      <td>services</td>\n",
       "      <td>married</td>\n",
       "      <td>secondary</td>\n",
       "      <td>no</td>\n",
       "      <td>4789</td>\n",
       "      <td>yes</td>\n",
       "      <td>yes</td>\n",
       "      <td>cellular</td>\n",
       "      <td>11</td>\n",
       "      <td>may</td>\n",
       "      <td>220</td>\n",
       "      <td>1</td>\n",
       "      <td>339</td>\n",
       "      <td>4</td>\n",
       "      <td>failure</td>\n",
       "      <td>no</td>\n",
       "    </tr>\n",
       "    <tr>\n",
       "      <th>2</th>\n",
       "      <td>35</td>\n",
       "      <td>management</td>\n",
       "      <td>single</td>\n",
       "      <td>tertiary</td>\n",
       "      <td>no</td>\n",
       "      <td>1350</td>\n",
       "      <td>yes</td>\n",
       "      <td>no</td>\n",
       "      <td>cellular</td>\n",
       "      <td>16</td>\n",
       "      <td>apr</td>\n",
       "      <td>185</td>\n",
       "      <td>1</td>\n",
       "      <td>330</td>\n",
       "      <td>1</td>\n",
       "      <td>failure</td>\n",
       "      <td>no</td>\n",
       "    </tr>\n",
       "    <tr>\n",
       "      <th>3</th>\n",
       "      <td>30</td>\n",
       "      <td>management</td>\n",
       "      <td>married</td>\n",
       "      <td>tertiary</td>\n",
       "      <td>no</td>\n",
       "      <td>1476</td>\n",
       "      <td>yes</td>\n",
       "      <td>yes</td>\n",
       "      <td>unknown</td>\n",
       "      <td>3</td>\n",
       "      <td>jun</td>\n",
       "      <td>199</td>\n",
       "      <td>4</td>\n",
       "      <td>-1</td>\n",
       "      <td>0</td>\n",
       "      <td>unknown</td>\n",
       "      <td>no</td>\n",
       "    </tr>\n",
       "    <tr>\n",
       "      <th>4</th>\n",
       "      <td>59</td>\n",
       "      <td>blue-collar</td>\n",
       "      <td>married</td>\n",
       "      <td>secondary</td>\n",
       "      <td>no</td>\n",
       "      <td>0</td>\n",
       "      <td>yes</td>\n",
       "      <td>no</td>\n",
       "      <td>unknown</td>\n",
       "      <td>5</td>\n",
       "      <td>may</td>\n",
       "      <td>226</td>\n",
       "      <td>1</td>\n",
       "      <td>-1</td>\n",
       "      <td>0</td>\n",
       "      <td>unknown</td>\n",
       "      <td>no</td>\n",
       "    </tr>\n",
       "    <tr>\n",
       "      <th>...</th>\n",
       "      <td>...</td>\n",
       "      <td>...</td>\n",
       "      <td>...</td>\n",
       "      <td>...</td>\n",
       "      <td>...</td>\n",
       "      <td>...</td>\n",
       "      <td>...</td>\n",
       "      <td>...</td>\n",
       "      <td>...</td>\n",
       "      <td>...</td>\n",
       "      <td>...</td>\n",
       "      <td>...</td>\n",
       "      <td>...</td>\n",
       "      <td>...</td>\n",
       "      <td>...</td>\n",
       "      <td>...</td>\n",
       "      <td>...</td>\n",
       "    </tr>\n",
       "    <tr>\n",
       "      <th>4516</th>\n",
       "      <td>33</td>\n",
       "      <td>services</td>\n",
       "      <td>married</td>\n",
       "      <td>secondary</td>\n",
       "      <td>no</td>\n",
       "      <td>-333</td>\n",
       "      <td>yes</td>\n",
       "      <td>no</td>\n",
       "      <td>cellular</td>\n",
       "      <td>30</td>\n",
       "      <td>jul</td>\n",
       "      <td>329</td>\n",
       "      <td>5</td>\n",
       "      <td>-1</td>\n",
       "      <td>0</td>\n",
       "      <td>unknown</td>\n",
       "      <td>no</td>\n",
       "    </tr>\n",
       "    <tr>\n",
       "      <th>4517</th>\n",
       "      <td>57</td>\n",
       "      <td>self-employed</td>\n",
       "      <td>married</td>\n",
       "      <td>tertiary</td>\n",
       "      <td>yes</td>\n",
       "      <td>-3313</td>\n",
       "      <td>yes</td>\n",
       "      <td>yes</td>\n",
       "      <td>unknown</td>\n",
       "      <td>9</td>\n",
       "      <td>may</td>\n",
       "      <td>153</td>\n",
       "      <td>1</td>\n",
       "      <td>-1</td>\n",
       "      <td>0</td>\n",
       "      <td>unknown</td>\n",
       "      <td>no</td>\n",
       "    </tr>\n",
       "    <tr>\n",
       "      <th>4518</th>\n",
       "      <td>57</td>\n",
       "      <td>technician</td>\n",
       "      <td>married</td>\n",
       "      <td>secondary</td>\n",
       "      <td>no</td>\n",
       "      <td>295</td>\n",
       "      <td>no</td>\n",
       "      <td>no</td>\n",
       "      <td>cellular</td>\n",
       "      <td>19</td>\n",
       "      <td>aug</td>\n",
       "      <td>151</td>\n",
       "      <td>11</td>\n",
       "      <td>-1</td>\n",
       "      <td>0</td>\n",
       "      <td>unknown</td>\n",
       "      <td>no</td>\n",
       "    </tr>\n",
       "    <tr>\n",
       "      <th>4519</th>\n",
       "      <td>28</td>\n",
       "      <td>blue-collar</td>\n",
       "      <td>married</td>\n",
       "      <td>secondary</td>\n",
       "      <td>no</td>\n",
       "      <td>1137</td>\n",
       "      <td>no</td>\n",
       "      <td>no</td>\n",
       "      <td>cellular</td>\n",
       "      <td>6</td>\n",
       "      <td>feb</td>\n",
       "      <td>129</td>\n",
       "      <td>4</td>\n",
       "      <td>211</td>\n",
       "      <td>3</td>\n",
       "      <td>other</td>\n",
       "      <td>no</td>\n",
       "    </tr>\n",
       "    <tr>\n",
       "      <th>4520</th>\n",
       "      <td>44</td>\n",
       "      <td>entrepreneur</td>\n",
       "      <td>single</td>\n",
       "      <td>tertiary</td>\n",
       "      <td>no</td>\n",
       "      <td>1136</td>\n",
       "      <td>yes</td>\n",
       "      <td>yes</td>\n",
       "      <td>cellular</td>\n",
       "      <td>3</td>\n",
       "      <td>apr</td>\n",
       "      <td>345</td>\n",
       "      <td>2</td>\n",
       "      <td>249</td>\n",
       "      <td>7</td>\n",
       "      <td>other</td>\n",
       "      <td>no</td>\n",
       "    </tr>\n",
       "  </tbody>\n",
       "</table>\n",
       "<p>4521 rows × 17 columns</p>\n",
       "</div>"
      ],
      "text/plain": [
       "      age            job  marital  education default  balance housing loan  \\\n",
       "0      30     unemployed  married    primary      no     1787      no   no   \n",
       "1      33       services  married  secondary      no     4789     yes  yes   \n",
       "2      35     management   single   tertiary      no     1350     yes   no   \n",
       "3      30     management  married   tertiary      no     1476     yes  yes   \n",
       "4      59    blue-collar  married  secondary      no        0     yes   no   \n",
       "...   ...            ...      ...        ...     ...      ...     ...  ...   \n",
       "4516   33       services  married  secondary      no     -333     yes   no   \n",
       "4517   57  self-employed  married   tertiary     yes    -3313     yes  yes   \n",
       "4518   57     technician  married  secondary      no      295      no   no   \n",
       "4519   28    blue-collar  married  secondary      no     1137      no   no   \n",
       "4520   44   entrepreneur   single   tertiary      no     1136     yes  yes   \n",
       "\n",
       "       contact  day month  duration  campaign  pdays  previous poutcome   y  \n",
       "0     cellular   19   oct        79         1     -1         0  unknown  no  \n",
       "1     cellular   11   may       220         1    339         4  failure  no  \n",
       "2     cellular   16   apr       185         1    330         1  failure  no  \n",
       "3      unknown    3   jun       199         4     -1         0  unknown  no  \n",
       "4      unknown    5   may       226         1     -1         0  unknown  no  \n",
       "...        ...  ...   ...       ...       ...    ...       ...      ...  ..  \n",
       "4516  cellular   30   jul       329         5     -1         0  unknown  no  \n",
       "4517   unknown    9   may       153         1     -1         0  unknown  no  \n",
       "4518  cellular   19   aug       151        11     -1         0  unknown  no  \n",
       "4519  cellular    6   feb       129         4    211         3    other  no  \n",
       "4520  cellular    3   apr       345         2    249         7    other  no  \n",
       "\n",
       "[4521 rows x 17 columns]"
      ]
     },
     "execution_count": 74,
     "metadata": {},
     "output_type": "execute_result"
    }
   ],
   "source": [
    "import pandas as pd\n",
    "file_path=\"E:\\\\DOWNLOADS\\\\bank.csv\"\n",
    "bank_dataset=pd.read_csv(file_path)\n",
    "bank_dataset"
   ]
  },
  {
   "cell_type": "code",
   "execution_count": null,
   "id": "1dacfab3-b2c5-4574-98fd-2b2c4d4e7618",
   "metadata": {},
   "outputs": [],
   "source": [
    "#ex-1"
   ]
  },
  {
   "cell_type": "code",
   "execution_count": 93,
   "id": "fc3f6498-6f05-4751-a340-0551a02d71cb",
   "metadata": {},
   "outputs": [
    {
     "data": {
      "text/html": [
       "<div>\n",
       "<style scoped>\n",
       "    .dataframe tbody tr th:only-of-type {\n",
       "        vertical-align: middle;\n",
       "    }\n",
       "\n",
       "    .dataframe tbody tr th {\n",
       "        vertical-align: top;\n",
       "    }\n",
       "\n",
       "    .dataframe thead th {\n",
       "        text-align: right;\n",
       "    }\n",
       "</style>\n",
       "<table border=\"1\" class=\"dataframe\">\n",
       "  <thead>\n",
       "    <tr style=\"text-align: right;\">\n",
       "      <th></th>\n",
       "      <th>job</th>\n",
       "      <th>relative_freuency</th>\n",
       "    </tr>\n",
       "  </thead>\n",
       "  <tbody>\n",
       "    <tr>\n",
       "      <th>0</th>\n",
       "      <td>secondary</td>\n",
       "      <td>0.510064</td>\n",
       "    </tr>\n",
       "    <tr>\n",
       "      <th>1</th>\n",
       "      <td>tertiary</td>\n",
       "      <td>0.298607</td>\n",
       "    </tr>\n",
       "    <tr>\n",
       "      <th>2</th>\n",
       "      <td>primary</td>\n",
       "      <td>0.149967</td>\n",
       "    </tr>\n",
       "    <tr>\n",
       "      <th>3</th>\n",
       "      <td>unknown</td>\n",
       "      <td>0.041363</td>\n",
       "    </tr>\n",
       "  </tbody>\n",
       "</table>\n",
       "</div>"
      ],
      "text/plain": [
       "         job  relative_freuency\n",
       "0  secondary           0.510064\n",
       "1   tertiary           0.298607\n",
       "2    primary           0.149967\n",
       "3    unknown           0.041363"
      ]
     },
     "execution_count": 93,
     "metadata": {},
     "output_type": "execute_result"
    }
   ],
   "source": [
    "keys=bank_dataset['education'].value_counts().keys()\n",
    "values=bank_dataset['education'].value_counts(normalize=True).values\n",
    "x=pd.DataFrame(zip(keys,values),columns=[\"job\",\"relative_freuency\"])\n",
    "x"
   ]
  },
  {
   "cell_type": "markdown",
   "id": "83d64606-fc81-46c9-ac00-cbd40a5345b3",
   "metadata": {},
   "source": [
    "**case-i:drawing the normal pie-chart**"
   ]
  },
  {
   "cell_type": "code",
   "execution_count": 97,
   "id": "f564df87-8758-42f4-9965-28e2a95b34a0",
   "metadata": {},
   "outputs": [
    {
     "data": {
      "text/plain": [
       "([<matplotlib.patches.Wedge at 0x29aac65c9d0>,\n",
       "  <matplotlib.patches.Wedge at 0x29aaa447610>,\n",
       "  <matplotlib.patches.Wedge at 0x29aac61e3d0>,\n",
       "  <matplotlib.patches.Wedge at 0x29aac61e250>],\n",
       " [Text(-0.03477332523966894, 1.099450233458421, ''),\n",
       "  Text(-0.5930964957425214, -0.926410571365602, ''),\n",
       "  Text(0.8189408676958337, -0.7343948905170807, ''),\n",
       "  Text(1.0907260280899376, -0.14253677296455455, '')])"
      ]
     },
     "execution_count": 97,
     "metadata": {},
     "output_type": "execute_result"
    },
    {
     "data": {
      "image/png": "[encoded data removed]",
      "text/plain": [
       "<Figure size 640x480 with 1 Axes>"
      ]
     },
     "metadata": {},
     "output_type": "display_data"
    }
   ],
   "source": [
    "keys=bank_dataset['education'].value_counts().keys()\n",
    "values=bank_dataset['education'].value_counts(normalize=True).values\n",
    "x=pd.DataFrame(zip(keys,values),columns=[\"job\",\"relative_freuency\"])\n",
    "plt.pie(x=values)"
   ]
  },
  {
   "cell_type": "markdown",
   "id": "1d8b79cf-c08d-47bb-8f33-1a4f67e5157e",
   "metadata": {},
   "source": [
    "**case-2 drawing a pie chart with labels**"
   ]
  },
  {
   "cell_type": "markdown",
   "id": "d9171380-e8d9-4354-bcd2-7863f1d71e61",
   "metadata": {},
   "source": [
    "**label is used to name every wedge in the piechart**"
   ]
  },
  {
   "cell_type": "code",
   "execution_count": 98,
   "id": "306d6e59-785f-42d6-8a5c-c3a2f840b5e5",
   "metadata": {},
   "outputs": [
    {
     "data": {
      "text/plain": [
       "([<matplotlib.patches.Wedge at 0x29aac5f9910>,\n",
       "  <matplotlib.patches.Wedge at 0x29aac5f1f90>,\n",
       "  <matplotlib.patches.Wedge at 0x29aac5f3650>,\n",
       "  <matplotlib.patches.Wedge at 0x29aac5d94d0>],\n",
       " [Text(-0.03477332523966894, 1.099450233458421, 'secondary'),\n",
       "  Text(-0.5930964957425214, -0.926410571365602, 'tertiary'),\n",
       "  Text(0.8189408676958337, -0.7343948905170807, 'primary'),\n",
       "  Text(1.0907260280899376, -0.14253677296455455, 'unknown')])"
      ]
     },
     "execution_count": 98,
     "metadata": {},
     "output_type": "execute_result"
    },
    {
     "data": {
      "image/png": "[encoded data removed]",
      "text/plain": [
       "<Figure size 640x480 with 1 Axes>"
      ]
     },
     "metadata": {},
     "output_type": "display_data"
    }
   ],
   "source": [
    "keys=bank_dataset['education'].value_counts().keys()\n",
    "values=bank_dataset['education'].value_counts(normalize=True).values\n",
    "x=pd.DataFrame(zip(keys,values),columns=[\"job\",\"relative_freuency\"])\n",
    "plt.pie(x=values,labels=keys)"
   ]
  },
  {
   "cell_type": "markdown",
   "id": "d92395c7-b898-4c13-8eba-4f663362b06c",
   "metadata": {},
   "source": [
    "**case-3: drawing a pie chart using different colours we like** "
   ]
  },
  {
   "cell_type": "code",
   "execution_count": 109,
   "id": "2ced454b-faad-476a-b867-aa48a1e4ad50",
   "metadata": {},
   "outputs": [
    {
     "data": {
      "text/plain": [
       "([<matplotlib.patches.Wedge at 0x29aacfe1310>,\n",
       "  <matplotlib.patches.Wedge at 0x29aacfe1f10>,\n",
       "  <matplotlib.patches.Wedge at 0x29aacfe3210>,\n",
       "  <matplotlib.patches.Wedge at 0x29aacff0350>],\n",
       " [Text(-0.03477332523966894, 1.099450233458421, 'secondary'),\n",
       "  Text(-0.5930964957425214, -0.926410571365602, 'tertiary'),\n",
       "  Text(0.8189408676958337, -0.7343948905170807, 'primary'),\n",
       "  Text(1.0907260280899376, -0.14253677296455455, 'unknown')])"
      ]
     },
     "execution_count": 109,
     "metadata": {},
     "output_type": "execute_result"
    },
    {
     "data": {
      "image/png": "[encoded data removed]",
      "text/plain": [
       "<Figure size 640x480 with 1 Axes>"
      ]
     },
     "metadata": {},
     "output_type": "display_data"
    }
   ],
   "source": [
    "keys=bank_dataset['education'].value_counts().keys()\n",
    "values=bank_dataset['education'].value_counts(normalize=True).values\n",
    "x=pd.DataFrame(zip(keys,values),columns=[\"job\",\"relative_freuency\"])\n",
    "plt.pie(x=values,labels=keys,colors=[\"#88fc03\",\"#e7eb13\",\"#dbafde\",\"pink\"]) # we can give hexacode values also"
   ]
  },
  {
   "cell_type": "markdown",
   "id": "57ae2a2e-0250-46aa-9b72-963e401c999a",
   "metadata": {},
   "source": [
    "**case-3: drawing a pie chart with spaces among wedges**"
   ]
  },
  {
   "cell_type": "markdown",
   "id": "681e7d2a-4068-4a5e-8e21-dda7ef0c1eb3",
   "metadata": {},
   "source": [
    "**Explode**\n",
    "- The explode parameter, if specified, and not None, must be an array with one value for each wedge."
   ]
  },
  {
   "cell_type": "code",
   "execution_count": 112,
   "id": "53c8556c-4e54-469f-9d1b-fdc9899f0268",
   "metadata": {},
   "outputs": [
    {
     "data": {
      "text/plain": [
       "([<matplotlib.patches.Wedge at 0x29aad014310>,\n",
       "  <matplotlib.patches.Wedge at 0x29aad025c50>,\n",
       "  <matplotlib.patches.Wedge at 0x29aad026bd0>,\n",
       "  <matplotlib.patches.Wedge at 0x29aad027ad0>],\n",
       " [Text(-0.037934536625093385, 1.1994002546819138, 'secondary'),\n",
       "  Text(-0.6470143589918416, -1.0106297142170204, 'tertiary'),\n",
       "  Text(0.893390037486364, -0.8011580623822698, 'primary'),\n",
       "  Text(1.1898829397344772, -0.1554946614158777, 'unknown')])"
      ]
     },
     "execution_count": 112,
     "metadata": {},
     "output_type": "execute_result"
    },
    {
     "data": {
      "image/png": "[encoded data removed]",
      "text/plain": [
       "<Figure size 640x480 with 1 Axes>"
      ]
     },
     "metadata": {},
     "output_type": "display_data"
    }
   ],
   "source": [
    "keys=bank_dataset['education'].value_counts().keys()\n",
    "values=bank_dataset['education'].value_counts(normalize=True).values\n",
    "x=pd.DataFrame(zip(keys,values),columns=[\"job\",\"relative_freuency\"])\n",
    "plt.pie(x=values,labels=keys,colors=[\"#88fc03\",\"#e7eb13\",\"#dbafde\",\"pink\"],explode=[0.1,0.1,0.1,0.1])"
   ]
  },
  {
   "cell_type": "markdown",
   "id": "f9a0374b-e60b-4951-b4ae-d4be8f5fdde1",
   "metadata": {},
   "source": [
    "**case-4: drawing a pie chart with specified start angle**"
   ]
  },
  {
   "cell_type": "markdown",
   "id": "6a991910-9c65-4721-a12a-ed5ac86609ab",
   "metadata": {},
   "source": [
    "**startangle**\n",
    "- The startangle parameter is defined with an angle in degrees, default angle is 0: it is x axis\n",
    "- we can change startangle \n",
    "\n",
    "\r\n"
   ]
  },
  {
   "cell_type": "code",
   "execution_count": 114,
   "id": "fd0771fb-68b0-4e24-8dc3-ddbdcbdb11bb",
   "metadata": {},
   "outputs": [
    {
     "data": {
      "text/plain": [
       "([<matplotlib.patches.Wedge at 0x29aad0b61d0>,\n",
       "  <matplotlib.patches.Wedge at 0x29aad025650>,\n",
       "  <matplotlib.patches.Wedge at 0x29aad0c0150>,\n",
       "  <matplotlib.patches.Wedge at 0x29aad0c15d0>],\n",
       " [Text(-0.5196105336975984, -0.969538494991559, 'secondary'),\n",
       "  Text(0.9768419178913536, 0.5057468412658077, 'tertiary'),\n",
       "  Text(-0.34202615036332223, 1.0454750654452005, 'primary'),\n",
       "  Text(-0.8733280624125083, 0.6688034804057276, 'unknown')])"
      ]
     },
     "execution_count": 114,
     "metadata": {},
     "output_type": "execute_result"
    },
    {
     "data": {
      "image/png": "[encoded data removed]",
      "text/plain": [
       "<Figure size 640x480 with 1 Axes>"
      ]
     },
     "metadata": {},
     "output_type": "display_data"
    }
   ],
   "source": [
    "keys=bank_dataset['education'].value_counts().keys()\n",
    "values=bank_dataset['education'].value_counts(normalize=True).values\n",
    "x=pd.DataFrame(zip(keys,values),columns=[\"job\",\"relative_freuency\"])\n",
    "plt.pie(x=values,labels=keys,colors=[\"#88fc03\",\"#e7eb13\",\"#dbafde\",\"pink\"],startangle=150)"
   ]
  },
  {
   "cell_type": "markdown",
   "id": "0412d7b6-34f2-45d6-b9b6-02cdf2c0c368",
   "metadata": {},
   "source": [
    "**case-5: drawing a pie chart with shadow and radius**"
   ]
  },
  {
   "cell_type": "code",
   "execution_count": 184,
   "id": "8c62066e-dbfd-4054-bab0-80037e5f5b83",
   "metadata": {
    "scrolled": true
   },
   "outputs": [
    {
     "data": {
      "text/plain": [
       "([<matplotlib.patches.Wedge at 0x29aba9fd6d0>,\n",
       "  <matplotlib.patches.Wedge at 0x29aba9bdb50>,\n",
       "  <matplotlib.patches.Wedge at 0x29abaa04bd0>,\n",
       "  <matplotlib.patches.Wedge at 0x29aba9ff390>],\n",
       " [Text(-0.03477332523966894, 1.099450233458421, 'secondary'),\n",
       "  Text(-0.5930964957425214, -0.926410571365602, 'tertiary'),\n",
       "  Text(0.8189408676958337, -0.7343948905170807, 'primary'),\n",
       "  Text(1.0907260280899376, -0.14253677296455455, 'unknown')])"
      ]
     },
     "execution_count": 184,
     "metadata": {},
     "output_type": "execute_result"
    },
    {
     "data": {
      "image/png": "[encoded data removed]",
      "text/plain": [
       "<Figure size 640x480 with 1 Axes>"
      ]
     },
     "metadata": {},
     "output_type": "display_data"
    }
   ],
   "source": [
    "keys=bank_dataset['education'].value_counts().keys()\n",
    "values=bank_dataset['education'].value_counts(normalize=True).values\n",
    "x=pd.DataFrame(zip(keys,values),columns=[\"job\",\"relative_freuency\"])\n",
    "plt.pie(x=values,labels=keys,colors=[\"#88fc03\",\"#e7eb13\",\"#dbafde\",\"pink\"],shadow=True,radius=1)"
   ]
  },
  {
   "cell_type": "markdown",
   "id": "6cf584ff-0717-435d-8175-0a13b2d04ca4",
   "metadata": {},
   "source": [
    "**case-6:pie chart using autopct**\n",
    "- autopct enables you to display the percent value using Python string formatting. (%f%%)\n",
    "- The proportionate percentage is displayed inside the respective wedge with the help of autopct parameter which is set to %1.2f%."
   ]
  },
  {
   "cell_type": "code",
   "execution_count": 183,
   "id": "11cc736e-dc92-4d63-9423-1cf304f3cb79",
   "metadata": {},
   "outputs": [
    {
     "data": {
      "text/plain": [
       "([<matplotlib.patches.Wedge at 0x29aba9a3290>,\n",
       "  <matplotlib.patches.Wedge at 0x29aba9b0650>,\n",
       "  <matplotlib.patches.Wedge at 0x29aba9b22d0>,\n",
       "  <matplotlib.patches.Wedge at 0x29aba9b39d0>],\n",
       " [Text(-0.03477332523966894, 1.099450233458421, 'secondary'),\n",
       "  Text(-0.5930964957425214, -0.926410571365602, 'tertiary'),\n",
       "  Text(0.8189408676958337, -0.7343948905170807, 'primary'),\n",
       "  Text(1.0907260280899376, -0.14253677296455455, 'unknown')],\n",
       " [Text(-0.01896726831254669, 0.5997001273409569, '51.01%'),\n",
       "  Text(-0.3235071794959208, -0.5053148571085101, '29.86%'),\n",
       "  Text(0.446695018743182, -0.4005790311911349, '15.00%'),\n",
       "  Text(0.5949414698672386, -0.07774733070793884, '4.14%')])"
      ]
     },
     "execution_count": 183,
     "metadata": {},
     "output_type": "execute_result"
    },
    {
     "data": {
      "image/png": "[encoded data removed]",
      "text/plain": [
       "<Figure size 640x480 with 1 Axes>"
      ]
     },
     "metadata": {},
     "output_type": "display_data"
    }
   ],
   "source": [
    "keys=bank_dataset['education'].value_counts().keys()\n",
    "values=bank_dataset['education'].value_counts(normalize=True).values\n",
    "x=pd.DataFrame(zip(keys,values),columns=[\"job\",\"relative_freuency\"])\n",
    "plt.pie(x=values,labels=keys,colors=[\"#88fc03\",\"#e7eb13\",\"#dbafde\",\"pink\"],autopct=\"%1.2f%%\")"
   ]
  },
  {
   "cell_type": "markdown",
   "id": "7fa7cee8-39f8-4b06-877c-ecab9bd5c222",
   "metadata": {},
   "source": [
    "**case-7:pie chart using labeldistance and pctdistance**"
   ]
  },
  {
   "cell_type": "markdown",
   "id": "9a2c4171-e418-4f79-8393-355a56ea58a8",
   "metadata": {},
   "source": [
    "- label distance is used to get the distance of the label from the piechart \n",
    "- pctdistance will make the distances of values inside the widges which we get through autopcd  from the centre point.\n",
    "- if pct distance is high it can go out of pie chart\n"
   ]
  },
  {
   "cell_type": "code",
   "execution_count": 142,
   "id": "a25829ae-65dd-4825-a5a1-8e7e502c54fd",
   "metadata": {},
   "outputs": [
    {
     "data": {
      "text/plain": [
       "([<matplotlib.patches.Wedge at 0x29ab91461d0>,\n",
       "  <matplotlib.patches.Wedge at 0x29ab905d9d0>,\n",
       "  <matplotlib.patches.Wedge at 0x29ab9066010>,\n",
       "  <matplotlib.patches.Wedge at 0x29ab905d350>],\n",
       " [Text(-0.03793453662509338, 1.1994002546819138, 'secondary'),\n",
       "  Text(-0.6470143589918416, -1.0106297142170202, 'tertiary'),\n",
       "  Text(0.893390037486364, -0.8011580623822698, 'primary'),\n",
       "  Text(1.1898829397344772, -0.15549466141587767, 'unknown')],\n",
       " [Text(-0.02528969108339559, 0.7996001697879426, '51.01%'),\n",
       "  Text(-0.43134290599456104, -0.6737531428113469, '29.86%'),\n",
       "  Text(0.5955933583242426, -0.5341053749215132, '15.00%'),\n",
       "  Text(0.7932552931563182, -0.10366310761058513, '4.14%')])"
      ]
     },
     "execution_count": 142,
     "metadata": {},
     "output_type": "execute_result"
    },
    {
     "data": {
      "image/png": "[encoded data removed]",
      "text/plain": [
       "<Figure size 640x480 with 1 Axes>"
      ]
     },
     "metadata": {},
     "output_type": "display_data"
    }
   ],
   "source": [
    "plt.pie(x=values,labels=keys,colors=[\"#88fc03\",\"#e7eb13\",\"#dbafde\",\"pink\"],autopct=\"%0.2f%%\",labeldistance=1.2,pctdistance=0.8)"
   ]
  },
  {
   "cell_type": "markdown",
   "id": "79ee9702-b103-462a-ace1-36e1949e4462",
   "metadata": {},
   "source": [
    "**legend in piecharts**"
   ]
  },
  {
   "cell_type": "markdown",
   "id": "b0d9298f-8a13-4552-b7ae-1591e5411226",
   "metadata": {},
   "source": [
    "-to add a list of explanation for each wedge, use the legend() function:"
   ]
  },
  {
   "cell_type": "code",
   "execution_count": 150,
   "id": "1ddb5676-1214-4ee3-808f-1ccd49058aca",
   "metadata": {},
   "outputs": [
    {
     "data": {
      "image/png": "[encoded data removed]",
      "text/plain": [
       "<Figure size 640x480 with 1 Axes>"
      ]
     },
     "metadata": {},
     "output_type": "display_data"
    }
   ],
   "source": [
    "plt.pie(x=values,labels=keys,colors=[\"#88fc03\",\"#e7eb13\",\"#dbafde\",\"pink\"],autopct=\"%0.2f%%\",labeldistance=1.3)\n",
    "plt.legend(title = \"Education-levels\")\n",
    "plt.show()"
   ]
  },
  {
   "cell_type": "markdown",
   "id": "7aa1082f-6aab-40db-ab08-b08c6d187f0b",
   "metadata": {},
   "source": [
    "**pie chart on job column**"
   ]
  },
  {
   "cell_type": "code",
   "execution_count": 157,
   "id": "831b84a7-1151-4d55-82a9-031f78c5af0d",
   "metadata": {},
   "outputs": [
    {
     "data": {
      "text/html": [
       "<div>\n",
       "<style scoped>\n",
       "    .dataframe tbody tr th:only-of-type {\n",
       "        vertical-align: middle;\n",
       "    }\n",
       "\n",
       "    .dataframe tbody tr th {\n",
       "        vertical-align: top;\n",
       "    }\n",
       "\n",
       "    .dataframe thead th {\n",
       "        text-align: right;\n",
       "    }\n",
       "</style>\n",
       "<table border=\"1\" class=\"dataframe\">\n",
       "  <thead>\n",
       "    <tr style=\"text-align: right;\">\n",
       "      <th></th>\n",
       "      <th>job</th>\n",
       "      <th>relative_freuency</th>\n",
       "    </tr>\n",
       "  </thead>\n",
       "  <tbody>\n",
       "    <tr>\n",
       "      <th>0</th>\n",
       "      <td>management</td>\n",
       "      <td>0.214333</td>\n",
       "    </tr>\n",
       "    <tr>\n",
       "      <th>1</th>\n",
       "      <td>blue-collar</td>\n",
       "      <td>0.209246</td>\n",
       "    </tr>\n",
       "    <tr>\n",
       "      <th>2</th>\n",
       "      <td>technician</td>\n",
       "      <td>0.169874</td>\n",
       "    </tr>\n",
       "    <tr>\n",
       "      <th>3</th>\n",
       "      <td>admin.</td>\n",
       "      <td>0.105729</td>\n",
       "    </tr>\n",
       "    <tr>\n",
       "      <th>4</th>\n",
       "      <td>services</td>\n",
       "      <td>0.092236</td>\n",
       "    </tr>\n",
       "    <tr>\n",
       "      <th>5</th>\n",
       "      <td>retired</td>\n",
       "      <td>0.050874</td>\n",
       "    </tr>\n",
       "    <tr>\n",
       "      <th>6</th>\n",
       "      <td>self-employed</td>\n",
       "      <td>0.040478</td>\n",
       "    </tr>\n",
       "    <tr>\n",
       "      <th>7</th>\n",
       "      <td>entrepreneur</td>\n",
       "      <td>0.037160</td>\n",
       "    </tr>\n",
       "    <tr>\n",
       "      <th>8</th>\n",
       "      <td>unemployed</td>\n",
       "      <td>0.028312</td>\n",
       "    </tr>\n",
       "    <tr>\n",
       "      <th>9</th>\n",
       "      <td>housemaid</td>\n",
       "      <td>0.024773</td>\n",
       "    </tr>\n",
       "    <tr>\n",
       "      <th>10</th>\n",
       "      <td>student</td>\n",
       "      <td>0.018580</td>\n",
       "    </tr>\n",
       "    <tr>\n",
       "      <th>11</th>\n",
       "      <td>unknown</td>\n",
       "      <td>0.008405</td>\n",
       "    </tr>\n",
       "  </tbody>\n",
       "</table>\n",
       "</div>"
      ],
      "text/plain": [
       "              job  relative_freuency\n",
       "0      management           0.214333\n",
       "1     blue-collar           0.209246\n",
       "2      technician           0.169874\n",
       "3          admin.           0.105729\n",
       "4        services           0.092236\n",
       "5         retired           0.050874\n",
       "6   self-employed           0.040478\n",
       "7    entrepreneur           0.037160\n",
       "8      unemployed           0.028312\n",
       "9       housemaid           0.024773\n",
       "10        student           0.018580\n",
       "11        unknown           0.008405"
      ]
     },
     "execution_count": 157,
     "metadata": {},
     "output_type": "execute_result"
    }
   ],
   "source": [
    "keys=bank_dataset['job'].value_counts().keys()\n",
    "values=bank_dataset['job'].value_counts(normalize=True).values\n",
    "x=pd.DataFrame(zip(keys,values),columns=[\"job\",\"relative_freuency\"])\n",
    "x"
   ]
  },
  {
   "cell_type": "code",
   "execution_count": 155,
   "id": "5114fa9c-9fa2-4a12-ab7c-aa236f5d43df",
   "metadata": {},
   "outputs": [
    {
     "data": {
      "text/plain": [
       "([<matplotlib.patches.Wedge at 0x29aba41bcd0>,\n",
       "  <matplotlib.patches.Wedge at 0x29aba42de10>,\n",
       "  <matplotlib.patches.Wedge at 0x29aba420550>,\n",
       "  <matplotlib.patches.Wedge at 0x29aba422b90>,\n",
       "  <matplotlib.patches.Wedge at 0x29aba43d2d0>,\n",
       "  <matplotlib.patches.Wedge at 0x29aba43fb50>,\n",
       "  <matplotlib.patches.Wedge at 0x29aba452690>,\n",
       "  <matplotlib.patches.Wedge at 0x29aba460e50>,\n",
       "  <matplotlib.patches.Wedge at 0x29aba43d3d0>,\n",
       "  <matplotlib.patches.Wedge at 0x29aba469bd0>,\n",
       "  <matplotlib.patches.Wedge at 0x29aba4784d0>,\n",
       "  <matplotlib.patches.Wedge at 0x29aba47aad0>],\n",
       " [Text(-0.8599125502615949, -0.6859667673456201, 'management'),\n",
       "  Text(0.4618179543586247, -0.9983607449374277, 'blue-collar'),\n",
       "  Text(1.0984257818716436, 0.05882857910632073, 'technician'),\n",
       "  Text(0.6669818098700959, 0.8747201068355587, 'admin.'),\n",
       "  Text(0.03248195533438898, 1.099520314763513, 'services'),\n",
       "  Text(-0.4485964710058866, 1.0043710500612135, 'retired'),\n",
       "  Text(-0.7145521343497878, 0.8363104969424711, 'self-employed'),\n",
       "  Text(-0.8953675550782296, 0.6389968241808669, 'entrepreneur'),\n",
       "  Text(-1.0070025891541863, 0.4426576390810005, 'unemployed'),\n",
       "  Text(-1.0665127087334698, 0.269352263977857, 'housemaid'),\n",
       "  Text(-1.093208092864455, 0.12204943955488393, 'student'),\n",
       "  Text(-1.0996165046711945, 0.029043805788924817, 'unknown')],\n",
       " [Text(-0.46904320923359716, -0.3741636912794291, '21.43%'),\n",
       "  Text(0.2519007023774316, -0.544560406329506, '20.92%'),\n",
       "  Text(0.599141335566351, 0.03208831587617494, '16.99%'),\n",
       "  Text(0.36380825992914323, 0.47712005827394105, '10.57%'),\n",
       "  Text(0.017717430182393988, 0.5997383535073707, '9.22%'),\n",
       "  Text(-0.24468898418502905, 0.5478387545788437, '5.09%'),\n",
       "  Text(-0.38975570964533873, 0.4561693619686205, '4.05%'),\n",
       "  Text(-0.4883823027699433, 0.3485437222804728, '3.72%'),\n",
       "  Text(-0.549274139538647, 0.24144962131690934, '2.83%'),\n",
       "  Text(-0.5817342047637107, 0.1469194167151947, '2.48%'),\n",
       "  Text(-0.5962953233806118, 0.06657242157539123, '1.86%'),\n",
       "  Text(-0.5997908207297424, 0.015842075884868082, '0.84%')])"
      ]
     },
     "execution_count": 155,
     "metadata": {},
     "output_type": "execute_result"
    },
    {
     "data": {
      "image/png": "[encoded data removed]",
      "text/plain": [
       "<Figure size 640x480 with 1 Axes>"
      ]
     },
     "metadata": {},
     "output_type": "display_data"
    }
   ],
   "source": [
    "keys=bank_dataset['job'].value_counts().keys()\n",
    "values=bank_dataset['job'].value_counts(normalize=True).values\n",
    "x=pd.DataFrame(zip(keys,values),columns=[\"job\",\"relative_freuency\"])\n",
    "x\n",
    "plt.pie(\n",
    "    x=values,\n",
    "    labels=keys,\n",
    "     shadow=True,\n",
    "    autopct=\"%0.2f%%\",\n",
    "     startangle=180,\n",
    "     radius=1,)"
   ]
  },
  {
   "cell_type": "code",
   "execution_count": 209,
   "id": "d2a43e34-d42e-4521-a09b-977e403fb3fb",
   "metadata": {},
   "outputs": [
    {
     "data": {
      "text/plain": [
       "([<matplotlib.patches.Wedge at 0x29abc6ff010>,\n",
       "  <matplotlib.patches.Wedge at 0x29abc6fffd0>,\n",
       "  <matplotlib.patches.Wedge at 0x29abc9bd690>,\n",
       "  <matplotlib.patches.Wedge at 0x29abc9bed50>,\n",
       "  <matplotlib.patches.Wedge at 0x29abc9d0250>,\n",
       "  <matplotlib.patches.Wedge at 0x29abc9d1a90>,\n",
       "  <matplotlib.patches.Wedge at 0x29abc9d3910>,\n",
       "  <matplotlib.patches.Wedge at 0x29abc9dd650>,\n",
       "  <matplotlib.patches.Wedge at 0x29abc9d0350>,\n",
       "  <matplotlib.patches.Wedge at 0x29abc9e4f10>,\n",
       "  <matplotlib.patches.Wedge at 0x29abc9e6a50>,\n",
       "  <matplotlib.patches.Wedge at 0x29abc9f8710>],\n",
       " [Text(-1.0162602866727939, -0.8106879977720965, 'management'),\n",
       "  Text(0.545784855151102, -1.1798808803805962, 'blue-collar'),\n",
       "  Text(1.2981395603937607, 0.06952468439837904, 'technician'),\n",
       "  Text(0.788251229846477, 1.0337601262602056, 'admin.'),\n",
       "  Text(0.03838776539518698, 1.29943309926597, 'services'),\n",
       "  Text(-0.5301594657342297, 1.1869839682541614, 'retired'),\n",
       "  Text(-0.8444707042315674, 0.9883669509320112, 'self-employed'),\n",
       "  Text(-1.058161656001544, 0.7551780649410245, 'entrepreneur'),\n",
       "  Text(-1.190093969000402, 0.5231408461866369, 'unemployed'),\n",
       "  Text(-1.2604241103213734, 0.3183254028829219, 'housemaid'),\n",
       "  Text(-1.2919732006579923, 0.144240246746681, 'student'),\n",
       "  Text(-1.2995467782477754, 0.03432449775054751, 'unknown')],\n",
       " [Text(-0.6253909456447962, -0.4988849217059055, '21.43%'),\n",
       "  Text(0.3358676031699088, -0.7260805417726747, '20.92%'),\n",
       "  Text(0.798855114088468, 0.04278442116823325, '16.99%'),\n",
       "  Text(0.4850776799055243, 0.6361600776985881, '10.57%'),\n",
       "  Text(0.023623240243191984, 0.7996511380098277, '9.22%'),\n",
       "  Text(-0.3262519789133721, 0.7304516727717916, '5.09%'),\n",
       "  Text(-0.5196742795271183, 0.6082258159581607, '4.05%'),\n",
       "  Text(-0.6511764036932578, 0.46472496304063043, '3.72%'),\n",
       "  Text(-0.7323655193848627, 0.3219328284225458, '2.83%'),\n",
       "  Text(-0.7756456063516144, 0.19589255562025962, '2.48%'),\n",
       "  Text(-0.795060431174149, 0.08876322876718831, '1.86%'),\n",
       "  Text(-0.7997210943063233, 0.021122767846490777, '0.84%')])"
      ]
     },
     "execution_count": 209,
     "metadata": {},
     "output_type": "execute_result"
    },
    {
     "data": {
      "image/png": "[encoded data removed]",
      "text/plain": [
       "<Figure size 640x480 with 1 Axes>"
      ]
     },
     "metadata": {},
     "output_type": "display_data"
    }
   ],
   "source": [
    "keys=bank_dataset['job'].value_counts().keys()\n",
    "values=bank_dataset['job'].value_counts(normalize=True).values\n",
    "x=pd.DataFrame(zip(keys,values),columns=[\"job\",\"relative_freuency\"])\n",
    "x\n",
    "plt.pie(\n",
    "    x=values,\n",
    "    labels=keys,\n",
    "     \n",
    "    autopct=\"%0.2f%%\",\n",
    "     startangle=180,\n",
    "     radius=1,\n",
    "     labeldistance=1.1,\n",
    "explode=[0.2,0.2,0.2,0.2,0.2,0.2,0.2,0.2,0.2,0.2,0.2,0.2])"
   ]
  },
  {
   "cell_type": "markdown",
   "id": "48df61c5-4d31-4d51-bcd0-b4e0e57c8838",
   "metadata": {},
   "source": [
    "**how to save the files in local of entire all columns**"
   ]
  },
  {
   "cell_type": "code",
   "execution_count": 169,
   "id": "714ce8c6-047e-4ce0-abf0-bc71a2236ccb",
   "metadata": {},
   "outputs": [],
   "source": [
    "a=bank_dataset.dtypes.keys()\n",
    "for i in a:\n",
    "    bank_dataset[i].value_counts()\n",
    "    keys=bank_dataset[i].value_counts().keys()\n",
    "    values=bank_dataset[i].value_counts().values\n",
    "    my_store=pd.DataFrame(zip(keys,values),columns=[\"name\",\"count\"])\n",
    "    my_store.to_csv(\"working_files.csv\") # every file will be stored in the python file location"
   ]
  },
  {
   "cell_type": "markdown",
   "id": "31b7c69d-78fa-4591-8690-ddbc9939cb48",
   "metadata": {},
   "source": [
    "**suppose i want to store them in a seperate folder**"
   ]
  },
  {
   "cell_type": "markdown",
   "id": "8b09116b-9d42-407c-bf3b-686adf059470",
   "metadata": {},
   "source": [
    "**steps**\n",
    "- create a folder\n",
    "- take the entire path of your new_folder\n",
    "- add double slash to end\n",
    "- concatinate with your file name\n",
    "  "
   ]
  },
  {
   "cell_type": "code",
   "execution_count": null,
   "id": "64c10e60-bfb4-476b-8f51-1a7ea8b54ca2",
   "metadata": {},
   "outputs": [],
   "source": [
    "#syntax\n",
    "file_path='C:\\\\Users\\\\Venkatesh\\\\OneDrive\\\\Desktop\\\\NIT BATCH 9 AM\\\\EDA WRITEUP\\\\new_one\\\\'\n",
    "file_path+\"{}.csv\".format(file_name)"
   ]
  },
  {
   "cell_type": "code",
   "execution_count": 171,
   "id": "9bd4b5c4-c353-4215-be9d-0fa627dd3941",
   "metadata": {},
   "outputs": [],
   "source": [
    "file_path='C:\\\\Users\\\\Venkatesh\\\\OneDrive\\\\Desktop\\\\NIT BATCH 9 AM\\\\EDA WRITEUP\\\\new_one\\\\'\n",
    "a=bank_dataset.dtypes.keys()\n",
    "for i in a:\n",
    "    bank_dataset[i].value_counts()\n",
    "    keys=bank_dataset[i].value_counts().keys()\n",
    "    values=bank_dataset[i].value_counts().values\n",
    "    my_store=pd.DataFrame(zip(keys,values),columns=[\"name\",\"count\"])\n",
    "    my_store.to_csv(file_path+\"{}.csv\".format(i)) # every file will be stored in the new folder"
   ]
  },
  {
   "cell_type": "code",
   "execution_count": null,
   "id": "fc9aa7bd-4294-4135-8d4e-3c3ebd1bf468",
   "metadata": {},
   "outputs": [],
   "source": []
  },
  {
   "cell_type": "code",
   "execution_count": null,
   "id": "dca7520c-580a-4903-9246-3853d8b5703e",
   "metadata": {},
   "outputs": [],
   "source": []
  }
 ],
 "metadata": {
  "kernelspec": {
   "display_name": "Python 3 (ipykernel)",
   "language": "python",
   "name": "python3"
  },
  "language_info": {
   "codemirror_mode": {
    "name": "ipython",
    "version": 3
   },
   "file_extension": ".py",
   "mimetype": "text/x-python",
   "name": "python",
   "nbconvert_exporter": "python",
   "pygments_lexer": "ipython3",
   "version": "3.11.5"
  }
 },
 "nbformat": 4,
 "nbformat_minor": 5
}
